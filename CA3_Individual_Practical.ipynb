{
 "cells": [
  {
   "cell_type": "markdown",
   "id": "df78e5c5-2c70-4408-abe0-d51539030e5f",
   "metadata": {},
   "source": [
    "# Applied machine learning to estimate material to adsorb CO<sub>2</sub>"
   ]
  },
  {
   "cell_type": "markdown",
   "id": "2df9f09f-ed9b-4ee9-b64c-e8f3f9c97ea0",
   "metadata": {},
   "source": [
    "**GitHub link:** "
   ]
  },
  {
   "cell_type": "markdown",
   "id": "018903a5",
   "metadata": {},
   "source": [
    "To start this project, I will gather at the beginning all the libraries used to manipulate data and create visualizations."
   ]
  },
  {
   "cell_type": "code",
   "execution_count": 1,
   "id": "13382b5d",
   "metadata": {},
   "outputs": [],
   "source": [
    "import pandas as pd\n",
    "import numpy as np\n",
    "import seaborn as sns\n",
    "import matplotlib.pyplot as plt\n",
    "import seaborn as sns\n",
    "from scipy.stats import kruskal\n",
    "import scikit_posthocs as sp\n",
    "from sklearn.preprocessing import RobustScaler\n",
    "from sklearn.model_selection import train_test_split, cross_val_predict  # <---------- change to Stratified K-Fold Cross Validation\n",
    "from sklearn.neighbors import KNeighborsClassifier\n",
    "from sklearn.metrics import confusion_matrix, accuracy_score, precision_score, recall_score, f1_score\n",
    "from tabulate import tabulate\n",
    "from imblearn.over_sampling import SMOTE\n",
    "from sklearn import metrics\n",
    "from sklearn.ensemble import GradientBoostingClassifier\n",
    "\n",
    "from sklearn.model_selection import GridSearchCV     # <---------- change to Random Search Cross Validation\n"
   ]
  },
  {
   "cell_type": "code",
   "execution_count": 3,
   "id": "527ab25c",
   "metadata": {},
   "outputs": [],
   "source": [
    "df = pd.read_excel(\"CO2_adsorption_v2.xlsx\")"
   ]
  },
  {
   "cell_type": "markdown",
   "id": "c9ca5c06",
   "metadata": {},
   "source": [
    "## Data understanding"
   ]
  },
  {
   "cell_type": "markdown",
   "id": "6de139e2",
   "metadata": {},
   "source": [
    "#### Data description:"
   ]
  },
  {
   "cell_type": "markdown",
   "id": "bec975a0",
   "metadata": {},
   "source": [
    "Data were gathered from an article that compiled hundreds of sources, focusing on three extensively studied materials: carbon-based materials, metal-organic frameworks (MOFs), and polymers (Dziejarski et al., 2023, pp. 3, 20, 36, 41). However, during the previous phase of this project, the need for additional data arose. While I found more records related to carbon-based materials (Yuan et al., 2021, p.11927), there were no comparable findings for the other materials. This lack of comparable findings is consistent with Dziejarski et al. (2023, p.3), which indicates that most of the research is focused on carbon-based materials."
   ]
  },
  {
   "cell_type": "code",
   "execution_count": 9,
   "id": "42d6e433",
   "metadata": {
    "scrolled": true
   },
   "outputs": [
    {
     "data": {
      "text/html": [
       "<div>\n",
       "<style scoped>\n",
       "    .dataframe tbody tr th:only-of-type {\n",
       "        vertical-align: middle;\n",
       "    }\n",
       "\n",
       "    .dataframe tbody tr th {\n",
       "        vertical-align: top;\n",
       "    }\n",
       "\n",
       "    .dataframe thead th {\n",
       "        text-align: right;\n",
       "    }\n",
       "</style>\n",
       "<table border=\"1\" class=\"dataframe\">\n",
       "  <thead>\n",
       "    <tr style=\"text-align: right;\">\n",
       "      <th></th>\n",
       "      <th>Material_replace</th>\n",
       "      <th>Material</th>\n",
       "      <th>Precursor</th>\n",
       "      <th>Conjugated microporous polymer</th>\n",
       "      <th>Activation agent</th>\n",
       "      <th>Activation temperature_°C</th>\n",
       "      <th>BET surface area_m2/g</th>\n",
       "      <th>Total pore volume_cm3/g</th>\n",
       "      <th>CO2 uptake_mmol/g_25°C</th>\n",
       "      <th>Adsorption pressure_bar</th>\n",
       "      <th>Reference</th>\n",
       "    </tr>\n",
       "  </thead>\n",
       "  <tbody>\n",
       "    <tr>\n",
       "      <th>0</th>\n",
       "      <td>0</td>\n",
       "      <td>Carbon based</td>\n",
       "      <td>Pomegranate peels</td>\n",
       "      <td>NaN</td>\n",
       "      <td>KOH</td>\n",
       "      <td>700.0</td>\n",
       "      <td>585.0</td>\n",
       "      <td>0.28</td>\n",
       "      <td>4.11</td>\n",
       "      <td>1</td>\n",
       "      <td>(Serafin et al., 2017)</td>\n",
       "    </tr>\n",
       "    <tr>\n",
       "      <th>1</th>\n",
       "      <td>0</td>\n",
       "      <td>Carbon based</td>\n",
       "      <td>Carrot peels</td>\n",
       "      <td>NaN</td>\n",
       "      <td>KOH</td>\n",
       "      <td>700.0</td>\n",
       "      <td>1379.0</td>\n",
       "      <td>0.58</td>\n",
       "      <td>4.18</td>\n",
       "      <td>1</td>\n",
       "      <td>(Serafin et al., 2017)</td>\n",
       "    </tr>\n",
       "    <tr>\n",
       "      <th>2</th>\n",
       "      <td>0</td>\n",
       "      <td>Carbon based</td>\n",
       "      <td>Fern leaves</td>\n",
       "      <td>NaN</td>\n",
       "      <td>KOH</td>\n",
       "      <td>700.0</td>\n",
       "      <td>1593.0</td>\n",
       "      <td>0.74</td>\n",
       "      <td>4.12</td>\n",
       "      <td>1</td>\n",
       "      <td>(Serafin et al., 2017)</td>\n",
       "    </tr>\n",
       "    <tr>\n",
       "      <th>3</th>\n",
       "      <td>0</td>\n",
       "      <td>Carbon based</td>\n",
       "      <td>Black locust</td>\n",
       "      <td>NaN</td>\n",
       "      <td>KOH</td>\n",
       "      <td>830.0</td>\n",
       "      <td>2064.0</td>\n",
       "      <td>0.98</td>\n",
       "      <td>3.75</td>\n",
       "      <td>1</td>\n",
       "      <td>(Zhang et al., 2016)</td>\n",
       "    </tr>\n",
       "    <tr>\n",
       "      <th>4</th>\n",
       "      <td>0</td>\n",
       "      <td>Carbon based</td>\n",
       "      <td>Rice husk char</td>\n",
       "      <td>NaN</td>\n",
       "      <td>KOH</td>\n",
       "      <td>780.0</td>\n",
       "      <td>2965.0</td>\n",
       "      <td>1.14</td>\n",
       "      <td>3.71</td>\n",
       "      <td>1</td>\n",
       "      <td>(Li et al., 2015a)</td>\n",
       "    </tr>\n",
       "  </tbody>\n",
       "</table>\n",
       "</div>"
      ],
      "text/plain": [
       "   Material_replace      Material          Precursor  \\\n",
       "0                 0  Carbon based  Pomegranate peels   \n",
       "1                 0  Carbon based       Carrot peels   \n",
       "2                 0  Carbon based        Fern leaves   \n",
       "3                 0  Carbon based       Black locust   \n",
       "4                 0  Carbon based     Rice husk char   \n",
       "\n",
       "  Conjugated microporous polymer Activation agent  Activation temperature_°C  \\\n",
       "0                            NaN              KOH                      700.0   \n",
       "1                            NaN              KOH                      700.0   \n",
       "2                            NaN              KOH                      700.0   \n",
       "3                            NaN              KOH                      830.0   \n",
       "4                            NaN              KOH                      780.0   \n",
       "\n",
       "   BET surface area_m2/g  Total pore volume_cm3/g  CO2 uptake_mmol/g_25°C  \\\n",
       "0                  585.0                     0.28                    4.11   \n",
       "1                 1379.0                     0.58                    4.18   \n",
       "2                 1593.0                     0.74                    4.12   \n",
       "3                 2064.0                     0.98                    3.75   \n",
       "4                 2965.0                     1.14                    3.71   \n",
       "\n",
       "   Adsorption pressure_bar               Reference  \n",
       "0                        1  (Serafin et al., 2017)  \n",
       "1                        1  (Serafin et al., 2017)  \n",
       "2                        1  (Serafin et al., 2017)  \n",
       "3                        1    (Zhang et al., 2016)  \n",
       "4                        1      (Li et al., 2015a)  "
      ]
     },
     "execution_count": 9,
     "metadata": {},
     "output_type": "execute_result"
    }
   ],
   "source": [
    "df.head()"
   ]
  },
  {
   "cell_type": "code",
   "execution_count": 13,
   "id": "098e91d2",
   "metadata": {},
   "outputs": [
    {
     "data": {
      "text/plain": [
       "(92, 11)"
      ]
     },
     "execution_count": 13,
     "metadata": {},
     "output_type": "execute_result"
    }
   ],
   "source": [
    "df.shape"
   ]
  },
  {
   "cell_type": "code",
   "execution_count": 15,
   "id": "80df810c",
   "metadata": {},
   "outputs": [
    {
     "name": "stdout",
     "output_type": "stream",
     "text": [
      "<class 'pandas.core.frame.DataFrame'>\n",
      "RangeIndex: 92 entries, 0 to 91\n",
      "Data columns (total 11 columns):\n",
      " #   Column                          Non-Null Count  Dtype  \n",
      "---  ------                          --------------  -----  \n",
      " 0   Material_replace                92 non-null     int64  \n",
      " 1   Material                        92 non-null     object \n",
      " 2   Precursor                       73 non-null     object \n",
      " 3   Conjugated microporous polymer  19 non-null     object \n",
      " 4   Activation agent                50 non-null     object \n",
      " 5   Activation temperature_°C       52 non-null     float64\n",
      " 6   BET surface area_m2/g           88 non-null     float64\n",
      " 7   Total pore volume_cm3/g         78 non-null     float64\n",
      " 8   CO2 uptake_mmol/g_25°C          92 non-null     float64\n",
      " 9   Adsorption pressure_bar         92 non-null     int64  \n",
      " 10  Reference                       92 non-null     object \n",
      "dtypes: float64(4), int64(2), object(5)\n",
      "memory usage: 8.0+ KB\n"
     ]
    }
   ],
   "source": [
    "df.info()"
   ]
  },
  {
   "cell_type": "markdown",
   "id": "b181819e",
   "metadata": {},
   "source": [
    "#### Exploratory Data Analysis (EDA) and Data Cleaning:"
   ]
  },
  {
   "cell_type": "markdown",
   "id": "2bccf980",
   "metadata": {},
   "source": [
    "For this analysis, I will focus on: 'Material_replace', 'BET surface area_m2/g', 'Total pore volume_cm3/g', and 'CO2 uptake_mmol/g_25°C'. The other features are redundant or specific to a unique material category. For example, 'Material' is the name of the material used in CO<sub>2</sub> adsorption, but it is stored in the feature called 'Material_replace', and the 'Adsorption pressure_bar' that is the same for all materials. The other features are related exclusively to a specific material, such as activated-carbon or polymers."
   ]
  },
  {
   "cell_type": "code",
   "execution_count": 19,
   "id": "1dd89da4",
   "metadata": {
    "scrolled": true
   },
   "outputs": [
    {
     "data": {
      "text/html": [
       "<div>\n",
       "<style scoped>\n",
       "    .dataframe tbody tr th:only-of-type {\n",
       "        vertical-align: middle;\n",
       "    }\n",
       "\n",
       "    .dataframe tbody tr th {\n",
       "        vertical-align: top;\n",
       "    }\n",
       "\n",
       "    .dataframe thead th {\n",
       "        text-align: right;\n",
       "    }\n",
       "</style>\n",
       "<table border=\"1\" class=\"dataframe\">\n",
       "  <thead>\n",
       "    <tr style=\"text-align: right;\">\n",
       "      <th></th>\n",
       "      <th>Material_replace</th>\n",
       "      <th>BET surface area_m2/g</th>\n",
       "      <th>Total pore volume_cm3/g</th>\n",
       "      <th>CO2 uptake_mmol/g_25°C</th>\n",
       "    </tr>\n",
       "  </thead>\n",
       "  <tbody>\n",
       "    <tr>\n",
       "      <th>0</th>\n",
       "      <td>0</td>\n",
       "      <td>585.0</td>\n",
       "      <td>0.28</td>\n",
       "      <td>4.11</td>\n",
       "    </tr>\n",
       "    <tr>\n",
       "      <th>1</th>\n",
       "      <td>0</td>\n",
       "      <td>1379.0</td>\n",
       "      <td>0.58</td>\n",
       "      <td>4.18</td>\n",
       "    </tr>\n",
       "    <tr>\n",
       "      <th>2</th>\n",
       "      <td>0</td>\n",
       "      <td>1593.0</td>\n",
       "      <td>0.74</td>\n",
       "      <td>4.12</td>\n",
       "    </tr>\n",
       "    <tr>\n",
       "      <th>3</th>\n",
       "      <td>0</td>\n",
       "      <td>2064.0</td>\n",
       "      <td>0.98</td>\n",
       "      <td>3.75</td>\n",
       "    </tr>\n",
       "    <tr>\n",
       "      <th>4</th>\n",
       "      <td>0</td>\n",
       "      <td>2965.0</td>\n",
       "      <td>1.14</td>\n",
       "      <td>3.71</td>\n",
       "    </tr>\n",
       "  </tbody>\n",
       "</table>\n",
       "</div>"
      ],
      "text/plain": [
       "   Material_replace  BET surface area_m2/g  Total pore volume_cm3/g  \\\n",
       "0                 0                  585.0                     0.28   \n",
       "1                 0                 1379.0                     0.58   \n",
       "2                 0                 1593.0                     0.74   \n",
       "3                 0                 2064.0                     0.98   \n",
       "4                 0                 2965.0                     1.14   \n",
       "\n",
       "   CO2 uptake_mmol/g_25°C  \n",
       "0                    4.11  \n",
       "1                    4.18  \n",
       "2                    4.12  \n",
       "3                    3.75  \n",
       "4                    3.71  "
      ]
     },
     "execution_count": 19,
     "metadata": {},
     "output_type": "execute_result"
    }
   ],
   "source": [
    "df1 = df.drop(['Material', 'Precursor', 'Conjugated microporous polymer', 'Activation agent', 'Activation temperature_°C', 'Adsorption pressure_bar', 'Reference'], axis = 1)\n",
    "df1.head()"
   ]
  },
  {
   "cell_type": "markdown",
   "id": "889478ff",
   "metadata": {},
   "source": [
    "Now, I will search for missing and null values because they are part of data quality assurance. If the data is inaccurate, it can lead to unreliable analysis, conclusions, and biased results, affecting the model's performance.\n",
    "\n",
    "After running the function .isnull() again, I can see that I will have to handle missing values from 2 features ('BET surface area_m2/g' and 'Total pore volume_cm3/g')."
   ]
  },
  {
   "cell_type": "code",
   "execution_count": 21,
   "id": "dba900ac",
   "metadata": {
    "scrolled": true
   },
   "outputs": [
    {
     "data": {
      "text/plain": [
       "Material_replace            0\n",
       "BET surface area_m2/g       4\n",
       "Total pore volume_cm3/g    14\n",
       "CO2 uptake_mmol/g_25°C      0\n",
       "dtype: int64"
      ]
     },
     "execution_count": 21,
     "metadata": {},
     "output_type": "execute_result"
    }
   ],
   "source": [
    "df1.isnull().sum()"
   ]
  },
  {
   "cell_type": "markdown",
   "id": "7ad3e37c-e4a9-4b3b-b245-b027bbbd5a2e",
   "metadata": {},
   "source": [
    "Before handling the missing values, I will evaluate the descriptive statistics of the data. I will use the '.describe()' function to understand its distribution and choose the most appropriate way to handle it."
   ]
  },
  {
   "cell_type": "code",
   "execution_count": 29,
   "id": "d465288b",
   "metadata": {},
   "outputs": [
    {
     "data": {
      "text/html": [
       "<div>\n",
       "<style scoped>\n",
       "    .dataframe tbody tr th:only-of-type {\n",
       "        vertical-align: middle;\n",
       "    }\n",
       "\n",
       "    .dataframe tbody tr th {\n",
       "        vertical-align: top;\n",
       "    }\n",
       "\n",
       "    .dataframe thead th {\n",
       "        text-align: right;\n",
       "    }\n",
       "</style>\n",
       "<table border=\"1\" class=\"dataframe\">\n",
       "  <thead>\n",
       "    <tr style=\"text-align: right;\">\n",
       "      <th></th>\n",
       "      <th>Material_replace</th>\n",
       "      <th>BET surface area_m2/g</th>\n",
       "      <th>Total pore volume_cm3/g</th>\n",
       "      <th>CO2 uptake_mmol/g_25°C</th>\n",
       "    </tr>\n",
       "  </thead>\n",
       "  <tbody>\n",
       "    <tr>\n",
       "      <th>count</th>\n",
       "      <td>92.000000</td>\n",
       "      <td>88.000000</td>\n",
       "      <td>78.000000</td>\n",
       "      <td>92.000000</td>\n",
       "    </tr>\n",
       "    <tr>\n",
       "      <th>mean</th>\n",
       "      <td>0.641304</td>\n",
       "      <td>1551.824659</td>\n",
       "      <td>0.852388</td>\n",
       "      <td>3.158261</td>\n",
       "    </tr>\n",
       "    <tr>\n",
       "      <th>std</th>\n",
       "      <td>0.806315</td>\n",
       "      <td>863.471889</td>\n",
       "      <td>0.510787</td>\n",
       "      <td>1.525911</td>\n",
       "    </tr>\n",
       "    <tr>\n",
       "      <th>min</th>\n",
       "      <td>0.000000</td>\n",
       "      <td>240.000000</td>\n",
       "      <td>0.220000</td>\n",
       "      <td>0.580000</td>\n",
       "    </tr>\n",
       "    <tr>\n",
       "      <th>25%</th>\n",
       "      <td>0.000000</td>\n",
       "      <td>906.750000</td>\n",
       "      <td>0.512500</td>\n",
       "      <td>1.707500</td>\n",
       "    </tr>\n",
       "    <tr>\n",
       "      <th>50%</th>\n",
       "      <td>0.000000</td>\n",
       "      <td>1537.000000</td>\n",
       "      <td>0.745000</td>\n",
       "      <td>3.590000</td>\n",
       "    </tr>\n",
       "    <tr>\n",
       "      <th>75%</th>\n",
       "      <td>1.000000</td>\n",
       "      <td>2011.500000</td>\n",
       "      <td>1.014500</td>\n",
       "      <td>4.240000</td>\n",
       "    </tr>\n",
       "    <tr>\n",
       "      <th>max</th>\n",
       "      <td>2.000000</td>\n",
       "      <td>5290.000000</td>\n",
       "      <td>2.810000</td>\n",
       "      <td>6.180000</td>\n",
       "    </tr>\n",
       "  </tbody>\n",
       "</table>\n",
       "</div>"
      ],
      "text/plain": [
       "       Material_replace  BET surface area_m2/g  Total pore volume_cm3/g  \\\n",
       "count         92.000000              88.000000                78.000000   \n",
       "mean           0.641304            1551.824659                 0.852388   \n",
       "std            0.806315             863.471889                 0.510787   \n",
       "min            0.000000             240.000000                 0.220000   \n",
       "25%            0.000000             906.750000                 0.512500   \n",
       "50%            0.000000            1537.000000                 0.745000   \n",
       "75%            1.000000            2011.500000                 1.014500   \n",
       "max            2.000000            5290.000000                 2.810000   \n",
       "\n",
       "       CO2 uptake_mmol/g_25°C  \n",
       "count               92.000000  \n",
       "mean                 3.158261  \n",
       "std                  1.525911  \n",
       "min                  0.580000  \n",
       "25%                  1.707500  \n",
       "50%                  3.590000  \n",
       "75%                  4.240000  \n",
       "max                  6.180000  "
      ]
     },
     "execution_count": 29,
     "metadata": {},
     "output_type": "execute_result"
    }
   ],
   "source": [
    "df1.describe()"
   ]
  },
  {
   "cell_type": "markdown",
   "id": "136a1d39",
   "metadata": {},
   "source": [
    "Evaluating the descriptive statistics reveals that the data is skewed, as evidenced by the difference between the mean and median (50%) values. This indicates that the data in these two columns do not follow a normal distribution.\r\n",
    "\r\n",
    "This information is crucial for selecting the appropriate method to impute the missing values, such as mean, median, or interpolation. For instance, when the data follows a normal distribution, I can replace the missing values with the mean. However, when the data is skewed, I may opt for the median or interpolati, because they are less influenced by extreme values.\n",
    "\n",
    "\n",
    "\n",
    "Below I will plot the histogram to see the distrubution of 'BET surface area_m2/g', 'Total pore volume_cm3/g', and 'CO2 uptake_mmol/g_25°C'. In these charts we can verify that the distibution do not follow a nomal curve."
   ]
  },
  {
   "cell_type": "code",
   "execution_count": 39,
   "id": "e128c04d-c332-4f9d-af9f-fda084e25c6b",
   "metadata": {
    "scrolled": true
   },
   "outputs": [
    {
     "name": "stderr",
     "output_type": "stream",
     "text": [
      "C:\\Users\\danie\\anaconda3\\Lib\\site-packages\\seaborn\\_oldcore.py:1119: FutureWarning: use_inf_as_na option is deprecated and will be removed in a future version. Convert inf values to NaN before operating instead.\n",
      "  with pd.option_context('mode.use_inf_as_na', True):\n",
      "C:\\Users\\danie\\anaconda3\\Lib\\site-packages\\seaborn\\_oldcore.py:1119: FutureWarning: use_inf_as_na option is deprecated and will be removed in a future version. Convert inf values to NaN before operating instead.\n",
      "  with pd.option_context('mode.use_inf_as_na', True):\n",
      "C:\\Users\\danie\\anaconda3\\Lib\\site-packages\\seaborn\\_oldcore.py:1119: FutureWarning: use_inf_as_na option is deprecated and will be removed in a future version. Convert inf values to NaN before operating instead.\n",
      "  with pd.option_context('mode.use_inf_as_na', True):\n"
     ]
    },
    {
     "data": {
      "image/png": "[encoded data removed]",
      "text/plain": [
       "<Figure size 1500x500 with 3 Axes>"
      ]
     },
     "metadata": {},
     "output_type": "display_data"
    }
   ],
   "source": [
    "df1.replace([np.inf, -np.inf], np.nan, inplace=True)\n",
    "\n",
    "fig, axs = plt.subplots(1, 3, figsize=(15, 5))\n",
    "\n",
    "sns.histplot(data=df1, x=\"BET surface area_m2/g\", bins=20, color='skyblue', ax=axs[0])\n",
    "axs[0].set_xlabel(\"BET surface area (m2/g)\", fontsize=14)\n",
    "axs[0].tick_params(axis='x', labelsize=14)\n",
    "axs[0].tick_params(axis='y', labelsize=14)\n",
    "\n",
    "sns.histplot(data=df1, x=\"Total pore volume_cm3/g\", bins=20, color='skyblue', ax=axs[1])\n",
    "axs[1].set_xlabel(\"Total pore volume (cm3/g)\", fontsize=14)\n",
    "axs[1].tick_params(axis='x', labelsize=14)\n",
    "axs[1].tick_params(axis='y', labelsize=14)\n",
    "\n",
    "sns.histplot(data=df1, x=\"CO2 uptake_mmol/g_25°C\", bins=20, color='skyblue', ax=axs[2])\n",
    "axs[2].set_xlabel(\"CO2 uptake (mmol/g 25°C)\", fontsize=14)\n",
    "axs[2].tick_params(axis='x', labelsize=14)\n",
    "axs[2].tick_params(axis='y', labelsize=14)\n",
    "\n",
    "plt.tight_layout()\n",
    "plt.show()"
   ]
  },
  {
   "cell_type": "markdown",
   "id": "a4d8b678-a34d-41fc-98af-ca40c78cae1a",
   "metadata": {},
   "source": [
    "The box plots below indicate the presence of outliers; however, I will only be able to determine if I can remove them by applying the Interquartile Range (IQR) function."
   ]
  },
  {
   "cell_type": "code",
   "execution_count": 47,
   "id": "166b31a1-dfad-4890-a07a-518fa7280945",
   "metadata": {},
   "outputs": [
    {
     "data": {
      "image/png": "[encoded data removed]",
      "text/plain": [
       "<Figure size 1500x500 with 3 Axes>"
      ]
     },
     "metadata": {},
     "output_type": "display_data"
    }
   ],
   "source": [
    "fig, axs = plt.subplots(1, 3, figsize=(15, 5))\n",
    "\n",
    "sns.boxplot(data=df1, x=\"BET surface area_m2/g\", color='skyblue', ax=axs[0])\n",
    "axs[0].set_xlabel(\"BET surface area (m2/g)\", fontsize=14)\n",
    "axs[0].tick_params(axis='x', labelsize=14)\n",
    "axs[0].tick_params(axis='y', labelsize=14)\n",
    "\n",
    "sns.boxplot(data=df1, x=\"Total pore volume_cm3/g\", color='skyblue', ax=axs[1])\n",
    "axs[1].set_xlabel(\"Total pore volume (cm3/g)\", fontsize=14)\n",
    "axs[1].tick_params(axis='x', labelsize=14)\n",
    "axs[1].tick_params(axis='y', labelsize=14)\n",
    "\n",
    "sns.boxplot(data=df1, x=\"CO2 uptake_mmol/g_25°C\", color='skyblue', ax=axs[2])\n",
    "axs[2].set_xlabel(\"CO2 uptake (mmol/g 25°C)\", fontsize=14)\n",
    "axs[2].tick_params(axis='x', labelsize=14)\n",
    "axs[2].tick_params(axis='y', labelsize=14)\n",
    "\n",
    "plt.tight_layout()\n",
    "plt.show()"
   ]
  },
  {
   "cell_type": "markdown",
   "id": "198c8195-1008-4df7-9084-9ba7c02d7dce",
   "metadata": {},
   "source": [
    "I will also check for outliers using the Interquartile Range (IQR) using the function below. Then, if possible I will remove them without losing the data integrity."
   ]
  },
  {
   "cell_type": "code",
   "execution_count": 50,
   "id": "17d70c20",
   "metadata": {},
   "outputs": [],
   "source": [
    "Q1 = df1.quantile(0.25)\n",
    "Q3 = df1.quantile(0.75)\n",
    "IQR = Q3 - Q1"
   ]
  },
  {
   "cell_type": "code",
   "execution_count": 52,
   "id": "b5506506",
   "metadata": {},
   "outputs": [
    {
     "data": {
      "text/plain": [
       "(86, 4)"
      ]
     },
     "execution_count": 52,
     "metadata": {},
     "output_type": "execute_result"
    }
   ],
   "source": [
    "df_outliers = df1[~((df1<(Q1-1.5*IQR))|(df1>Q3+1.5*IQR)).any(axis=1)]\n",
    "df_outliers.shape"
   ]
  },
  {
   "cell_type": "markdown",
   "id": "01aed1d5-eb77-4bec-982e-99a041585f32",
   "metadata": {},
   "source": [
    "After discovering that 6.5% of the data are outliers, a reasonable amount, I decided not to remove them. Otherwise, I could lose the data integrity, mainly because I have imbalanced classes that may impair the model's performance. "
   ]
  },
  {
   "cell_type": "markdown",
   "id": "0c932f03",
   "metadata": {},
   "source": [
    "The histograms confirm that these features are skewed, and the box plot shows the presence of outliers in the features, which was confirmed by the IQR function. Thus, in this case, I will input the missing values with the median because this method is more robust to outliers. Additionally, the interpolation method tends to be suitable when the data changes over time, which is not the case here."
   ]
  },
  {
   "cell_type": "code",
   "execution_count": 72,
   "id": "98a46b63-9076-4cf0-80dd-ac99f010c850",
   "metadata": {},
   "outputs": [],
   "source": [
    "median_col_sa = df1['BET surface area_m2/g'].median()\n",
    "median_col_pv = df1['Total pore volume_cm3/g'].median()"
   ]
  },
  {
   "cell_type": "code",
   "execution_count": 68,
   "id": "414cab8e-f161-48c8-94b2-ef53874e2f07",
   "metadata": {},
   "outputs": [],
   "source": [
    "df1.fillna({'BET surface area_m2/g': median_col_sa, 'Total pore volume_cm3/g': median_col_pv}, inplace=True)"
   ]
  },
  {
   "cell_type": "code",
   "execution_count": 70,
   "id": "1fa8db70-9742-4392-873b-38db9cf79dd9",
   "metadata": {},
   "outputs": [
    {
     "data": {
      "text/plain": [
       "Material_replace           0\n",
       "BET surface area_m2/g      0\n",
       "Total pore volume_cm3/g    0\n",
       "CO2 uptake_mmol/g_25°C     0\n",
       "dtype: int64"
      ]
     },
     "execution_count": 70,
     "metadata": {},
     "output_type": "execute_result"
    }
   ],
   "source": [
    "df1.isnull().sum()"
   ]
  },
  {
   "cell_type": "code",
   "execution_count": 76,
   "id": "8ae2845c",
   "metadata": {},
   "outputs": [
    {
     "data": {
      "text/plain": [
       "(92, 4)"
      ]
     },
     "execution_count": 76,
     "metadata": {},
     "output_type": "execute_result"
    }
   ],
   "source": [
    "df1.shape"
   ]
  },
  {
   "cell_type": "markdown",
   "id": "4d656dc6",
   "metadata": {},
   "source": [
    "Checking for duplicates is essential for maintaining data integrity; otherwise, it can lead to inaccurate results. Thus, I used the '.duplicated()' function to identify duplicates and the '.sum()' function to aggregate duplicated values, resulting in zero duplicates."
   ]
  },
  {
   "cell_type": "code",
   "execution_count": 81,
   "id": "c86dcbe9",
   "metadata": {},
   "outputs": [
    {
     "data": {
      "text/plain": [
       "0"
      ]
     },
     "execution_count": 81,
     "metadata": {},
     "output_type": "execute_result"
    }
   ],
   "source": [
    "df1.duplicated().sum()"
   ]
  },
  {
   "cell_type": "markdown",
   "id": "f728bab2",
   "metadata": {},
   "source": [
    "#### Descriptive Statistic:"
   ]
  },
  {
   "cell_type": "markdown",
   "id": "d2302e6d",
   "metadata": {},
   "source": [
    "I will use the funcition.describe() to call the summary statistics parameters, such as mean, median, and standard deviation."
   ]
  },
  {
   "cell_type": "code",
   "execution_count": 43,
   "id": "2efe41fb",
   "metadata": {},
   "outputs": [
    {
     "data": {
      "text/html": [
       "<div>\n",
       "<style scoped>\n",
       "    .dataframe tbody tr th:only-of-type {\n",
       "        vertical-align: middle;\n",
       "    }\n",
       "\n",
       "    .dataframe tbody tr th {\n",
       "        vertical-align: top;\n",
       "    }\n",
       "\n",
       "    .dataframe thead th {\n",
       "        text-align: right;\n",
       "    }\n",
       "</style>\n",
       "<table border=\"1\" class=\"dataframe\">\n",
       "  <thead>\n",
       "    <tr style=\"text-align: right;\">\n",
       "      <th></th>\n",
       "      <th>Material_replace</th>\n",
       "      <th>BET surface area_m2/g</th>\n",
       "      <th>Total pore volume_cm3/g</th>\n",
       "      <th>CO2 uptake_mmol/g_25°C</th>\n",
       "    </tr>\n",
       "  </thead>\n",
       "  <tbody>\n",
       "    <tr>\n",
       "      <th>count</th>\n",
       "      <td>57.000000</td>\n",
       "      <td>57.000000</td>\n",
       "      <td>57.000000</td>\n",
       "      <td>57.000000</td>\n",
       "    </tr>\n",
       "    <tr>\n",
       "      <th>mean</th>\n",
       "      <td>1.035088</td>\n",
       "      <td>1420.885965</td>\n",
       "      <td>0.835345</td>\n",
       "      <td>2.710702</td>\n",
       "    </tr>\n",
       "    <tr>\n",
       "      <th>std</th>\n",
       "      <td>0.801002</td>\n",
       "      <td>940.609642</td>\n",
       "      <td>0.509640</td>\n",
       "      <td>1.741102</td>\n",
       "    </tr>\n",
       "    <tr>\n",
       "      <th>min</th>\n",
       "      <td>0.000000</td>\n",
       "      <td>240.000000</td>\n",
       "      <td>0.220000</td>\n",
       "      <td>0.580000</td>\n",
       "    </tr>\n",
       "    <tr>\n",
       "      <th>25%</th>\n",
       "      <td>0.000000</td>\n",
       "      <td>772.000000</td>\n",
       "      <td>0.500000</td>\n",
       "      <td>1.180000</td>\n",
       "    </tr>\n",
       "    <tr>\n",
       "      <th>50%</th>\n",
       "      <td>1.000000</td>\n",
       "      <td>1379.000000</td>\n",
       "      <td>0.882000</td>\n",
       "      <td>2.040000</td>\n",
       "    </tr>\n",
       "    <tr>\n",
       "      <th>75%</th>\n",
       "      <td>2.000000</td>\n",
       "      <td>1906.000000</td>\n",
       "      <td>0.980000</td>\n",
       "      <td>4.180000</td>\n",
       "    </tr>\n",
       "    <tr>\n",
       "      <th>max</th>\n",
       "      <td>2.000000</td>\n",
       "      <td>5290.000000</td>\n",
       "      <td>2.810000</td>\n",
       "      <td>6.180000</td>\n",
       "    </tr>\n",
       "  </tbody>\n",
       "</table>\n",
       "</div>"
      ],
      "text/plain": [
       "       Material_replace  BET surface area_m2/g  Total pore volume_cm3/g  \\\n",
       "count         57.000000              57.000000                57.000000   \n",
       "mean           1.035088            1420.885965                 0.835345   \n",
       "std            0.801002             940.609642                 0.509640   \n",
       "min            0.000000             240.000000                 0.220000   \n",
       "25%            0.000000             772.000000                 0.500000   \n",
       "50%            1.000000            1379.000000                 0.882000   \n",
       "75%            2.000000            1906.000000                 0.980000   \n",
       "max            2.000000            5290.000000                 2.810000   \n",
       "\n",
       "       CO2 uptake_mmol/g_25°C  \n",
       "count               57.000000  \n",
       "mean                 2.710702  \n",
       "std                  1.741102  \n",
       "min                  0.580000  \n",
       "25%                  1.180000  \n",
       "50%                  2.040000  \n",
       "75%                  4.180000  \n",
       "max                  6.180000  "
      ]
     },
     "execution_count": 43,
     "metadata": {},
     "output_type": "execute_result"
    }
   ],
   "source": [
    "df3.describe()"
   ]
  },
  {
   "cell_type": "markdown",
   "id": "f9c50b15",
   "metadata": {},
   "source": [
    "##### Sparsity of the data\n",
    "Sparse datasets are characterized by most features having 0 most of the time (Müller and Guido, 2017 p.44) and the sparsity is a measurement of how sparse or dense a dataset is. It can be represented as the ratio of the number of zero or missing values to the total number of data points or entries in the dataset. "
   ]
  },
  {
   "cell_type": "code",
   "execution_count": 45,
   "id": "6d46f21e",
   "metadata": {},
   "outputs": [
    {
     "name": "stdout",
     "output_type": "stream",
     "text": [
      "Sparsity of the dataset: 0.075\n"
     ]
    }
   ],
   "source": [
    "missing_values = df3.isnull().sum().sum()\n",
    "zero_values = (df3 == 0).sum().sum()\n",
    "\n",
    "total_data_points = df3.size\n",
    "\n",
    "sparsity = (missing_values + zero_values) / total_data_points\n",
    "\n",
    "print(f\"Sparsity of the dataset: {sparsity:.3f}\")"
   ]
  },
  {
   "cell_type": "code",
   "execution_count": 46,
   "id": "c6ebb1e6",
   "metadata": {},
   "outputs": [
    {
     "name": "stdout",
     "output_type": "stream",
     "text": [
      "Missing values:  0\n",
      "zero_values:  17\n"
     ]
    }
   ],
   "source": [
    "print(\"Missing values: \", missing_values)\n",
    "print(\"zero_values: \", zero_values)"
   ]
  },
  {
   "cell_type": "markdown",
   "id": "28c76f8e",
   "metadata": {},
   "source": [
    "The sparsity values must be between 0 and 1 when 0 indicates no sparsity, and 1 indicates completely spaced. The result for this dataset was found to be 0.060, meaning that the dataset is not sparse. Thus, this data does not have a significant portion of missing or zero values.\n",
    "\n",
    "As I already handled the missing values, it is only missing handling these zero_values that came from the 'material_replace' feature used to encode the material's class. I  will use the one-hot encoding method in the preprocessing phase to avoid adding different weights for each material class. However, the dataset might remain sparse due to the One-hot encoding process that automatically generate a lot of zeros."
   ]
  },
  {
   "cell_type": "markdown",
   "id": "4bd63a95",
   "metadata": {},
   "source": [
    "The charts below (pair plot and heatmap) show the relation between features and their strength and direction of the relationship. I dropped the 'Material_replace' feature because it does not provide essential information sinc it is a representation of a categorical feature."
   ]
  },
  {
   "cell_type": "code",
   "execution_count": 49,
   "id": "c4e0751a",
   "metadata": {
    "scrolled": true
   },
   "outputs": [
    {
     "name": "stderr",
     "output_type": "stream",
     "text": [
      "C:\\Users\\danie\\anaconda3\\Lib\\site-packages\\seaborn\\_oldcore.py:1119: FutureWarning: use_inf_as_na option is deprecated and will be removed in a future version. Convert inf values to NaN before operating instead.\n",
      "  with pd.option_context('mode.use_inf_as_na', True):\n",
      "C:\\Users\\danie\\anaconda3\\Lib\\site-packages\\seaborn\\_oldcore.py:1119: FutureWarning: use_inf_as_na option is deprecated and will be removed in a future version. Convert inf values to NaN before operating instead.\n",
      "  with pd.option_context('mode.use_inf_as_na', True):\n",
      "C:\\Users\\danie\\anaconda3\\Lib\\site-packages\\seaborn\\_oldcore.py:1119: FutureWarning: use_inf_as_na option is deprecated and will be removed in a future version. Convert inf values to NaN before operating instead.\n",
      "  with pd.option_context('mode.use_inf_as_na', True):\n"
     ]
    },
    {
     "data": {
      "text/plain": [
       "<seaborn.axisgrid.PairGrid at 0x18394eca610>"
      ]
     },
     "execution_count": 49,
     "metadata": {},
     "output_type": "execute_result"
    },
    {
     "data": {
      "image/png": "[encoded data removed]",
      "text/plain": [
       "<Figure size 750x750 with 12 Axes>"
      ]
     },
     "metadata": {},
     "output_type": "display_data"
    }
   ],
   "source": [
    "df3_plot = df3.drop(['Material_replace'], axis=1)\n",
    "sns.pairplot(df3_plot)"
   ]
  },
  {
   "cell_type": "code",
   "execution_count": 50,
   "id": "4d8e2dc0",
   "metadata": {},
   "outputs": [
    {
     "data": {
      "text/html": [
       "<div>\n",
       "<style scoped>\n",
       "    .dataframe tbody tr th:only-of-type {\n",
       "        vertical-align: middle;\n",
       "    }\n",
       "\n",
       "    .dataframe tbody tr th {\n",
       "        vertical-align: top;\n",
       "    }\n",
       "\n",
       "    .dataframe thead th {\n",
       "        text-align: right;\n",
       "    }\n",
       "</style>\n",
       "<table border=\"1\" class=\"dataframe\">\n",
       "  <thead>\n",
       "    <tr style=\"text-align: right;\">\n",
       "      <th></th>\n",
       "      <th>BET surface area_m2/g</th>\n",
       "      <th>Total pore volume_cm3/g</th>\n",
       "      <th>CO2 uptake_mmol/g_25°C</th>\n",
       "    </tr>\n",
       "  </thead>\n",
       "  <tbody>\n",
       "    <tr>\n",
       "      <th>BET surface area_m2/g</th>\n",
       "      <td>1.000000</td>\n",
       "      <td>0.659264</td>\n",
       "      <td>0.227061</td>\n",
       "    </tr>\n",
       "    <tr>\n",
       "      <th>Total pore volume_cm3/g</th>\n",
       "      <td>0.659264</td>\n",
       "      <td>1.000000</td>\n",
       "      <td>0.084840</td>\n",
       "    </tr>\n",
       "    <tr>\n",
       "      <th>CO2 uptake_mmol/g_25°C</th>\n",
       "      <td>0.227061</td>\n",
       "      <td>0.084840</td>\n",
       "      <td>1.000000</td>\n",
       "    </tr>\n",
       "  </tbody>\n",
       "</table>\n",
       "</div>"
      ],
      "text/plain": [
       "                         BET surface area_m2/g  Total pore volume_cm3/g  \\\n",
       "BET surface area_m2/g                 1.000000                 0.659264   \n",
       "Total pore volume_cm3/g               0.659264                 1.000000   \n",
       "CO2 uptake_mmol/g_25°C                0.227061                 0.084840   \n",
       "\n",
       "                         CO2 uptake_mmol/g_25°C  \n",
       "BET surface area_m2/g                  0.227061  \n",
       "Total pore volume_cm3/g                0.084840  \n",
       "CO2 uptake_mmol/g_25°C                 1.000000  "
      ]
     },
     "execution_count": 50,
     "metadata": {},
     "output_type": "execute_result"
    },
    {
     "data": {
      "image/png": "[encoded data removed]",
      "text/plain": [
       "<Figure size 1000x600 with 2 Axes>"
      ]
     },
     "metadata": {},
     "output_type": "display_data"
    }
   ],
   "source": [
    "plt.figure(figsize=(10,6)) \n",
    "c= df3_plot.corr() \n",
    "sns.heatmap(c,cmap=\"viridis\",annot=True) \n",
    "c"
   ]
  },
  {
   "cell_type": "markdown",
   "id": "d8c12f90",
   "metadata": {},
   "source": [
    "#### Inferential Statistics:\n",
    "\n",
    "##### Hypothesis test\n",
    "\n",
    "Considering that the data are not normally distributed, I used a non-parametric test because it generates more reliable results in this case than a parametric test. I applied the Kruskal-Wallis test because it is appropriate for handling a non-normal distribution (Devore, 2012, p.645).\n",
    "\n",
    "I used the Scipy library and the 'kruskal()' function to perform this statistical test and the p-value (docs.scipy.org, n.d.).  \n",
    "\n",
    "*Hypothesis:*\n",
    "    \n",
    "$H_0$: There is no significant difference in the CO<sub>2</sub> adsorption capacity among the materials tested.\n",
    "\n",
    "$H_A$: There is a significant difference in the CO<sub>2</sub> adsorption capacity among the materials tested.\n",
    "  \n",
    "Considering 95% of confidence level and 𝛼 = 0.05 I will calculate the p-value to know if there is a significant difference between the CO<sub>2</sub> adsorption for each material. "
   ]
  },
  {
   "cell_type": "code",
   "execution_count": 52,
   "id": "4f7d9b4c",
   "metadata": {},
   "outputs": [
    {
     "data": {
      "text/html": [
       "<div>\n",
       "<style scoped>\n",
       "    .dataframe tbody tr th:only-of-type {\n",
       "        vertical-align: middle;\n",
       "    }\n",
       "\n",
       "    .dataframe tbody tr th {\n",
       "        vertical-align: top;\n",
       "    }\n",
       "\n",
       "    .dataframe thead th {\n",
       "        text-align: right;\n",
       "    }\n",
       "</style>\n",
       "<table border=\"1\" class=\"dataframe\">\n",
       "  <thead>\n",
       "    <tr style=\"text-align: right;\">\n",
       "      <th></th>\n",
       "      <th>Material_replace</th>\n",
       "      <th>BET surface area_m2/g</th>\n",
       "      <th>Total pore volume_cm3/g</th>\n",
       "      <th>CO2 uptake_mmol/g_25°C</th>\n",
       "    </tr>\n",
       "  </thead>\n",
       "  <tbody>\n",
       "    <tr>\n",
       "      <th>0</th>\n",
       "      <td>0</td>\n",
       "      <td>585.0</td>\n",
       "      <td>0.28</td>\n",
       "      <td>4.11</td>\n",
       "    </tr>\n",
       "    <tr>\n",
       "      <th>1</th>\n",
       "      <td>0</td>\n",
       "      <td>1379.0</td>\n",
       "      <td>0.58</td>\n",
       "      <td>4.18</td>\n",
       "    </tr>\n",
       "    <tr>\n",
       "      <th>2</th>\n",
       "      <td>0</td>\n",
       "      <td>1593.0</td>\n",
       "      <td>0.74</td>\n",
       "      <td>4.12</td>\n",
       "    </tr>\n",
       "    <tr>\n",
       "      <th>3</th>\n",
       "      <td>0</td>\n",
       "      <td>2064.0</td>\n",
       "      <td>0.98</td>\n",
       "      <td>3.75</td>\n",
       "    </tr>\n",
       "    <tr>\n",
       "      <th>4</th>\n",
       "      <td>0</td>\n",
       "      <td>2965.0</td>\n",
       "      <td>1.14</td>\n",
       "      <td>3.71</td>\n",
       "    </tr>\n",
       "  </tbody>\n",
       "</table>\n",
       "</div>"
      ],
      "text/plain": [
       "   Material_replace  BET surface area_m2/g  Total pore volume_cm3/g  \\\n",
       "0                 0                  585.0                     0.28   \n",
       "1                 0                 1379.0                     0.58   \n",
       "2                 0                 1593.0                     0.74   \n",
       "3                 0                 2064.0                     0.98   \n",
       "4                 0                 2965.0                     1.14   \n",
       "\n",
       "   CO2 uptake_mmol/g_25°C  \n",
       "0                    4.11  \n",
       "1                    4.18  \n",
       "2                    4.12  \n",
       "3                    3.75  \n",
       "4                    3.71  "
      ]
     },
     "execution_count": 52,
     "metadata": {},
     "output_type": "execute_result"
    }
   ],
   "source": [
    "df3.head()"
   ]
  },
  {
   "cell_type": "code",
   "execution_count": 53,
   "id": "18c5c698",
   "metadata": {},
   "outputs": [
    {
     "name": "stdout",
     "output_type": "stream",
     "text": [
      "H-Statistic: 27.36766992935005\n",
      "P-Value: 1.140738196109236e-06\n"
     ]
    }
   ],
   "source": [
    "material_0 = df3[df3['Material_replace'] == 0]['CO2 uptake_mmol/g_25°C']\n",
    "material_1 = df3[df3['Material_replace'] == 1]['CO2 uptake_mmol/g_25°C']\n",
    "material_2 = df3[df3['Material_replace'] == 2]['CO2 uptake_mmol/g_25°C']\n",
    "\n",
    "h_statistic, p_value = kruskal(material_0, material_1, material_2)\n",
    "\n",
    "print(\"H-Statistic:\", h_statistic)\n",
    "print(\"P-Value:\", p_value)"
   ]
  },
  {
   "cell_type": "markdown",
   "id": "94e1e03b",
   "metadata": {},
   "source": [
    "As we can see above, the p-value is less than 𝛼, thus I can reject the null hypothesis, suggesting a significant difference among at least one pair of materials regarding CO<sub>2</sub> adsorption.\n",
    "\n",
    "After performing the Dunn test to identify which specific pairs of materials are different, I found that all of them are significantly different, considering the p-values less than 𝛼 = 0.05. The result is illustrated below in a chart."
   ]
  },
  {
   "cell_type": "code",
   "execution_count": 55,
   "id": "7184be75",
   "metadata": {
    "scrolled": true
   },
   "outputs": [
    {
     "name": "stdout",
     "output_type": "stream",
     "text": [
      "Dunn Test Results:\n",
      "              1         2             3\n",
      "1  1.000000e+00  0.007996  5.168780e-07\n",
      "2  7.996149e-03  1.000000  4.706746e-02\n",
      "3  5.168780e-07  0.047067  1.000000e+00\n"
     ]
    }
   ],
   "source": [
    "# Combine data into a list of lists\n",
    "all_data = [material_0, material_1, material_2]\n",
    "\n",
    "# Perform Kruskal-Wallis test\n",
    "h_statistic, p_value = kruskal(*all_data)\n",
    "\n",
    "# Check if the overall Kruskal-Wallis test is significant\n",
    "if p_value < 0.05:\n",
    "    # Perform Dunn post-hoc test for pairwise comparisons\n",
    "    results = sp.posthoc_dunn(all_data, p_adjust='bonferroni')\n",
    "    print(\"Dunn Test Results:\")\n",
    "    print(results)\n",
    "else:\n",
    "    print(\"No significant difference in the Kruskal-Wallis test.\")\n"
   ]
  },
  {
   "cell_type": "code",
   "execution_count": 56,
   "id": "7474aecf",
   "metadata": {},
   "outputs": [
    {
     "name": "stdout",
     "output_type": "stream",
     "text": [
      "4.4682352941176475 0.933322260088374\n",
      "2.588571428571429 1.7475276413101044\n",
      "1.273157894736842 0.384188215325928\n"
     ]
    }
   ],
   "source": [
    "# Material 0:\n",
    "mean_material_0 = np.mean(material_0)\n",
    "std_dev_material_0 = np.std(material_0, ddof=1)\n",
    "\n",
    "# Material 1:\n",
    "mean_material_1 = np.mean(material_1)\n",
    "std_dev_material_1 = np.std(material_1, ddof=1)\n",
    "\n",
    "# Material 2:\n",
    "mean_material_2 = np.mean(material_2)\n",
    "std_dev_material_2 = np.std(material_2, ddof=1)\n",
    "\n",
    "print(mean_material_0, std_dev_material_0)\n",
    "print(mean_material_1, std_dev_material_1)\n",
    "print(mean_material_2, std_dev_material_2)"
   ]
  },
  {
   "cell_type": "code",
   "execution_count": 57,
   "id": "f081a4fb",
   "metadata": {},
   "outputs": [
    {
     "data": {
      "image/png": "[encoded data removed]",
      "text/plain": [
       "<Figure size 640x480 with 1 Axes>"
      ]
     },
     "metadata": {},
     "output_type": "display_data"
    }
   ],
   "source": [
    "materials = ['Activated Carbon', 'MOFs', 'Polymers']\n",
    "means = [mean_material_0, mean_material_1, mean_material_2]\n",
    "std_devs = [std_dev_material_0, std_dev_material_1, std_dev_material_2]\n",
    "\n",
    "fig, ax = plt.subplots()\n",
    "ax.bar(materials, means, yerr=std_devs, capsize=5, color=['lightblue', 'lightgreen', 'lightpink'])\n",
    "ax.set_ylabel('CO2 uptake (mmol/g 25°C)')\n",
    "ax.set_title('Mean and Standard Deviation of Materials')\n",
    "plt.show()"
   ]
  },
  {
   "cell_type": "markdown",
   "id": "df3859b5",
   "metadata": {},
   "source": [
    "## Data Preparation"
   ]
  },
  {
   "cell_type": "markdown",
   "id": "d437f082",
   "metadata": {},
   "source": [
    "### Preprocessing:"
   ]
  },
  {
   "cell_type": "markdown",
   "id": "a343fece",
   "metadata": {},
   "source": [
    "In this phase, I will preprocess the data, making them suitable for the ML model, like standardizing all features to be on the same scale to reduce memory and time consumption and avoid missed calculations. I will also use one-hot encoding to avoid attributing weight to the categories, avoiding the situation where one material has more advantages over another."
   ]
  },
  {
   "cell_type": "markdown",
   "id": "90e40341",
   "metadata": {},
   "source": [
    "##### One-hot encoding"
   ]
  },
  {
   "cell_type": "markdown",
   "id": "a11bd600",
   "metadata": {},
   "source": [
    "I will use the pd.get_dummies function from the panda's library to perform the one-hot encoding. "
   ]
  },
  {
   "cell_type": "code",
   "execution_count": 63,
   "id": "bb24fe29",
   "metadata": {},
   "outputs": [
    {
     "data": {
      "text/html": [
       "<div>\n",
       "<style scoped>\n",
       "    .dataframe tbody tr th:only-of-type {\n",
       "        vertical-align: middle;\n",
       "    }\n",
       "\n",
       "    .dataframe tbody tr th {\n",
       "        vertical-align: top;\n",
       "    }\n",
       "\n",
       "    .dataframe thead th {\n",
       "        text-align: right;\n",
       "    }\n",
       "</style>\n",
       "<table border=\"1\" class=\"dataframe\">\n",
       "  <thead>\n",
       "    <tr style=\"text-align: right;\">\n",
       "      <th></th>\n",
       "      <th>BET surface area_m2/g</th>\n",
       "      <th>Total pore volume_cm3/g</th>\n",
       "      <th>CO2 uptake_mmol/g_25°C</th>\n",
       "      <th>Material_replace_0</th>\n",
       "      <th>Material_replace_1</th>\n",
       "      <th>Material_replace_2</th>\n",
       "    </tr>\n",
       "  </thead>\n",
       "  <tbody>\n",
       "    <tr>\n",
       "      <th>0</th>\n",
       "      <td>585.0</td>\n",
       "      <td>0.28</td>\n",
       "      <td>4.11</td>\n",
       "      <td>True</td>\n",
       "      <td>False</td>\n",
       "      <td>False</td>\n",
       "    </tr>\n",
       "    <tr>\n",
       "      <th>1</th>\n",
       "      <td>1379.0</td>\n",
       "      <td>0.58</td>\n",
       "      <td>4.18</td>\n",
       "      <td>True</td>\n",
       "      <td>False</td>\n",
       "      <td>False</td>\n",
       "    </tr>\n",
       "    <tr>\n",
       "      <th>2</th>\n",
       "      <td>1593.0</td>\n",
       "      <td>0.74</td>\n",
       "      <td>4.12</td>\n",
       "      <td>True</td>\n",
       "      <td>False</td>\n",
       "      <td>False</td>\n",
       "    </tr>\n",
       "    <tr>\n",
       "      <th>3</th>\n",
       "      <td>2064.0</td>\n",
       "      <td>0.98</td>\n",
       "      <td>3.75</td>\n",
       "      <td>True</td>\n",
       "      <td>False</td>\n",
       "      <td>False</td>\n",
       "    </tr>\n",
       "    <tr>\n",
       "      <th>4</th>\n",
       "      <td>2965.0</td>\n",
       "      <td>1.14</td>\n",
       "      <td>3.71</td>\n",
       "      <td>True</td>\n",
       "      <td>False</td>\n",
       "      <td>False</td>\n",
       "    </tr>\n",
       "  </tbody>\n",
       "</table>\n",
       "</div>"
      ],
      "text/plain": [
       "   BET surface area_m2/g  Total pore volume_cm3/g  CO2 uptake_mmol/g_25°C  \\\n",
       "0                  585.0                     0.28                    4.11   \n",
       "1                 1379.0                     0.58                    4.18   \n",
       "2                 1593.0                     0.74                    4.12   \n",
       "3                 2064.0                     0.98                    3.75   \n",
       "4                 2965.0                     1.14                    3.71   \n",
       "\n",
       "   Material_replace_0  Material_replace_1  Material_replace_2  \n",
       "0                True               False               False  \n",
       "1                True               False               False  \n",
       "2                True               False               False  \n",
       "3                True               False               False  \n",
       "4                True               False               False  "
      ]
     },
     "execution_count": 63,
     "metadata": {},
     "output_type": "execute_result"
    }
   ],
   "source": [
    "df_encod = pd.get_dummies(df3, columns=['Material_replace'])\n",
    "df_encod.head()"
   ]
  },
  {
   "cell_type": "code",
   "execution_count": 64,
   "id": "80e3e9dd",
   "metadata": {},
   "outputs": [
    {
     "data": {
      "text/plain": [
       "(57, 6)"
      ]
     },
     "execution_count": 64,
     "metadata": {},
     "output_type": "execute_result"
    }
   ],
   "source": [
    "df_encod.shape"
   ]
  },
  {
   "cell_type": "code",
   "execution_count": 65,
   "id": "a0d34b7b",
   "metadata": {},
   "outputs": [
    {
     "name": "stdout",
     "output_type": "stream",
     "text": [
      "Sparsity of the dataset: 0.333\n"
     ]
    }
   ],
   "source": [
    "missing_values = df_encod.isnull().sum().sum()\n",
    "zero_values = (df_encod == 0).sum().sum()\n",
    "\n",
    "total_data_points = df_encod.size\n",
    "\n",
    "sparsity = (missing_values + zero_values) / total_data_points\n",
    "\n",
    "print(f\"Sparsity of the dataset: {sparsity:.3f}\")"
   ]
  },
  {
   "cell_type": "code",
   "execution_count": 66,
   "id": "2ba0e1d4",
   "metadata": {},
   "outputs": [
    {
     "name": "stdout",
     "output_type": "stream",
     "text": [
      "Missing values:  0\n",
      "zero_values:  114\n"
     ]
    }
   ],
   "source": [
    "print(\"Missing values: \", missing_values)\n",
    "print(\"zero_values: \", zero_values)"
   ]
  },
  {
   "cell_type": "markdown",
   "id": "60dd62bb",
   "metadata": {},
   "source": [
    "As we can see in the results above, the sparsity increased 4.8 times after the one-hot encoding; however, it is necessary not to add weight to categories in the material features."
   ]
  },
  {
   "cell_type": "markdown",
   "id": "ca9336a4",
   "metadata": {},
   "source": [
    "##### Standardization"
   ]
  },
  {
   "cell_type": "markdown",
   "id": "a7130962",
   "metadata": {},
   "source": [
    "Standardization is a common preprocessing for many ML models; however, in the presence of outliers, is generally necessary robust methods to handle it, such as the RobustScaler function that considers the median and the interquartile range (sci-kit-learn, n.d.). As I identified that this dataset contains 7% outliers, I will use the RobustScaler to deal with these outliers."
   ]
  },
  {
   "cell_type": "markdown",
   "id": "21cbeb0f",
   "metadata": {},
   "source": [
    "Before beginning standardization, I will drop the material columns since they are the result of one-hot encoding and already have values between zero and one, making them ready for standardization alongside the numerical columns ('BET surface area_m2/g', 'Total pore volume_cm3/g', and 'CO2 uptake_mmol/g_25°C').  "
   ]
  },
  {
   "cell_type": "code",
   "execution_count": 71,
   "id": "c269bf1b",
   "metadata": {
    "scrolled": true
   },
   "outputs": [
    {
     "data": {
      "text/html": [
       "<div>\n",
       "<style scoped>\n",
       "    .dataframe tbody tr th:only-of-type {\n",
       "        vertical-align: middle;\n",
       "    }\n",
       "\n",
       "    .dataframe tbody tr th {\n",
       "        vertical-align: top;\n",
       "    }\n",
       "\n",
       "    .dataframe thead th {\n",
       "        text-align: right;\n",
       "    }\n",
       "</style>\n",
       "<table border=\"1\" class=\"dataframe\">\n",
       "  <thead>\n",
       "    <tr style=\"text-align: right;\">\n",
       "      <th></th>\n",
       "      <th>BET surface area_m2/g</th>\n",
       "      <th>Total pore volume_cm3/g</th>\n",
       "      <th>CO2 uptake_mmol/g_25°C</th>\n",
       "    </tr>\n",
       "  </thead>\n",
       "  <tbody>\n",
       "    <tr>\n",
       "      <th>0</th>\n",
       "      <td>585.0</td>\n",
       "      <td>0.28</td>\n",
       "      <td>4.11</td>\n",
       "    </tr>\n",
       "    <tr>\n",
       "      <th>1</th>\n",
       "      <td>1379.0</td>\n",
       "      <td>0.58</td>\n",
       "      <td>4.18</td>\n",
       "    </tr>\n",
       "    <tr>\n",
       "      <th>2</th>\n",
       "      <td>1593.0</td>\n",
       "      <td>0.74</td>\n",
       "      <td>4.12</td>\n",
       "    </tr>\n",
       "    <tr>\n",
       "      <th>3</th>\n",
       "      <td>2064.0</td>\n",
       "      <td>0.98</td>\n",
       "      <td>3.75</td>\n",
       "    </tr>\n",
       "    <tr>\n",
       "      <th>4</th>\n",
       "      <td>2965.0</td>\n",
       "      <td>1.14</td>\n",
       "      <td>3.71</td>\n",
       "    </tr>\n",
       "  </tbody>\n",
       "</table>\n",
       "</div>"
      ],
      "text/plain": [
       "   BET surface area_m2/g  Total pore volume_cm3/g  CO2 uptake_mmol/g_25°C\n",
       "0                  585.0                     0.28                    4.11\n",
       "1                 1379.0                     0.58                    4.18\n",
       "2                 1593.0                     0.74                    4.12\n",
       "3                 2064.0                     0.98                    3.75\n",
       "4                 2965.0                     1.14                    3.71"
      ]
     },
     "execution_count": 71,
     "metadata": {},
     "output_type": "execute_result"
    }
   ],
   "source": [
    "df_norm = df_encod.drop(columns=[\"Material_replace_0\", \"Material_replace_1\", \"Material_replace_2\"])\n",
    "df_norm.head()"
   ]
  },
  {
   "cell_type": "markdown",
   "id": "6c94a778",
   "metadata": {},
   "source": [
    "I will use the function RobustScaler from the SKlearn library to standardize the data."
   ]
  },
  {
   "cell_type": "code",
   "execution_count": 73,
   "id": "40894f08",
   "metadata": {},
   "outputs": [],
   "source": [
    "scaler = RobustScaler()\n",
    "scaled_data = scaler.fit_transform(df_norm)"
   ]
  },
  {
   "cell_type": "code",
   "execution_count": 74,
   "id": "139ef2df",
   "metadata": {},
   "outputs": [
    {
     "name": "stdout",
     "output_type": "stream",
     "text": [
      "[[-7.00176367e-01 -1.25416667e+00  6.90000000e-01]\n",
      " [ 0.00000000e+00 -6.29166667e-01  7.13333333e-01]\n",
      " [ 1.88712522e-01 -2.95833333e-01  6.93333333e-01]\n",
      " [ 6.04056437e-01  2.04166667e-01  5.70000000e-01]\n",
      " [ 1.39858907e+00  5.37500000e-01  5.56666667e-01]\n",
      " [ 1.55202822e+00  3.37083333e+00  4.53333333e-01]\n",
      " [ 2.32804233e-01 -5.20833333e-02  1.25333333e+00]\n",
      " [ 3.95061728e-01  1.62500000e-01  5.63333333e-01]\n",
      " [ 7.68959436e-01  3.29166667e-01  1.15666667e+00]\n",
      " [ 6.55643739e-01  2.85416667e-01  1.96666667e-01]\n",
      " [ 5.42328042e-01  2.41666667e-01  1.21000000e+00]\n",
      " [ 4.08289242e-01  5.83333333e-02  1.21000000e+00]\n",
      " [ 4.31216931e-01  3.70833333e-01  1.04333333e+00]\n",
      " [ 4.64726631e-01  3.70833333e-01  1.13333333e+00]\n",
      " [ 8.43033510e-01  1.37083333e+00  8.76666667e-01]\n",
      " [ 5.29100529e-02 -5.87500000e-01  7.86666667e-01]\n",
      " [-1.41975309e-01 -7.95833333e-01  6.53333333e-01]\n",
      " [-5.28747795e-01 -9.00833333e-01 -3.10000000e-01]\n",
      " [-9.15520282e-01 -1.00583333e+00 -4.66666667e-02]\n",
      " [-8.94885362e-01 -1.11083333e+00  1.38000000e+00]\n",
      " [-8.74250441e-01 -1.21583333e+00  8.96666667e-01]\n",
      " [-8.53615520e-01 -1.32083333e+00 -4.86666667e-01]\n",
      " [ 3.44885362e+00  2.68333333e+00 -4.13333333e-01]\n",
      " [ 3.44797178e-01 -3.60416667e-01 -3.30000000e-01]\n",
      " [ 7.61904762e-01  2.56250000e-02  8.53333333e-01]\n",
      " [ 6.19929453e-01  2.30625000e-02  1.10000000e-01]\n",
      " [ 5.33509700e-01  2.05000000e-02  1.26666667e-01]\n",
      " [ 4.28571429e-01  1.79375000e-02  6.66666667e-03]\n",
      " [ 4.03880071e-01  1.53750000e-02  0.00000000e+00]\n",
      " [ 1.95767196e-01  1.28125000e-02 -3.20000000e-01]\n",
      " [ 4.40917108e-03  1.02500000e-02 -3.20000000e-01]\n",
      " [ 3.11287478e-01  7.68750000e-03 -5.33333333e-02]\n",
      " [ 1.58730159e-01  5.12500000e-03 -7.00000000e-02]\n",
      " [-1.31393298e-01  2.56250000e-03  1.19666667e+00]\n",
      " [ 6.93121693e-01  0.00000000e+00  9.03333333e-01]\n",
      " [ 6.83421517e-01  4.16666667e-02  8.63333333e-01]\n",
      " [ 2.02028219e+00  1.32916667e+00 -3.83333333e-01]\n",
      " [-7.61022928e-01 -1.29583333e+00  2.36666667e-01]\n",
      " [-9.10934744e-01 -1.37916667e+00 -3.36666667e-01]\n",
      " [-9.29453263e-01 -5.87500000e-01 -1.90000000e-01]\n",
      " [-9.13580247e-01 -3.79166667e-01 -4.43333333e-01]\n",
      " [-5.35273369e-01  6.83333333e-01 -1.43333333e-01]\n",
      " [-3.65079365e-01  4.01666667e+00 -8.00000000e-02]\n",
      " [-5.12345679e-01  1.10000000e+00 -1.00000000e-01]\n",
      " [-1.00440917e+00 -1.05416667e+00  3.33333333e-03]\n",
      " [-4.77954145e-01 -9.00000000e-01 -2.86666667e-01]\n",
      " [-7.55731922e-01 -1.21250000e+00 -1.46666667e-01]\n",
      " [-4.23280423e-01 -2.75000000e-01 -3.66666667e-01]\n",
      " [-2.96296296e-01 -3.58333333e-01 -3.23333333e-01]\n",
      " [-4.22398589e-01 -6.91666667e-01 -2.96666667e-01]\n",
      " [-3.66843034e-01  2.04166667e-01 -2.33333333e-01]\n",
      " [-3.38624339e-01 -6.91666667e-01 -1.96666667e-01]\n",
      " [-3.68606702e-01 -1.08750000e+00 -2.60000000e-01]\n",
      " [-7.80423280e-01 -7.75000000e-01 -2.73333333e-01]\n",
      " [-3.18342152e-01 -6.70833333e-01 -2.76666667e-01]\n",
      " [-7.55731922e-01 -1.29583333e+00 -4.53333333e-01]\n",
      " [-7.64550265e-01 -8.58333333e-01 -4.53333333e-01]]\n"
     ]
    }
   ],
   "source": [
    "print(scaled_data)"
   ]
  },
  {
   "cell_type": "markdown",
   "id": "9094c716",
   "metadata": {},
   "source": [
    "##### Balanced class"
   ]
  },
  {
   "cell_type": "markdown",
   "id": "e5ab6fea",
   "metadata": {},
   "source": [
    "According to the function below, the data do not have a significantly imbalanced class; however, I will adjust the 'average' parameter to ensure it will not interfere with the models' performance."
   ]
  },
  {
   "cell_type": "code",
   "execution_count": 77,
   "id": "ba31f772",
   "metadata": {
    "scrolled": true
   },
   "outputs": [
    {
     "data": {
      "text/plain": [
       "Material_replace\n",
       "1    21\n",
       "2    19\n",
       "0    17\n",
       "Name: count, dtype: int64"
      ]
     },
     "execution_count": 77,
     "metadata": {},
     "output_type": "execute_result"
    }
   ],
   "source": [
    "df3[\"Material_replace\"].value_counts()"
   ]
  },
  {
   "cell_type": "markdown",
   "id": "faa2b4a6",
   "metadata": {},
   "source": [
    "## Machine Learning implementation"
   ]
  },
  {
   "cell_type": "markdown",
   "id": "b44e1f9f",
   "metadata": {},
   "source": [
    "### k-Nearest Neighbors (k-NN)\n",
    "I choose to use this model because it can be applied to datasets with any number of classes and often gives a reasonable performance without complex adjustments (Müller and Guido, 2017, p.36,44)."
   ]
  },
  {
   "cell_type": "markdown",
   "id": "6607e7bc",
   "metadata": {},
   "source": [
    "Below, I will convert the array of the data standardized into a dataframe to posteriorly merge the columns dropped earlier. The new dataset will named 'df_ml'. "
   ]
  },
  {
   "cell_type": "code",
   "execution_count": 81,
   "id": "de8b212c",
   "metadata": {},
   "outputs": [
    {
     "data": {
      "text/html": [
       "<div>\n",
       "<style scoped>\n",
       "    .dataframe tbody tr th:only-of-type {\n",
       "        vertical-align: middle;\n",
       "    }\n",
       "\n",
       "    .dataframe tbody tr th {\n",
       "        vertical-align: top;\n",
       "    }\n",
       "\n",
       "    .dataframe thead th {\n",
       "        text-align: right;\n",
       "    }\n",
       "</style>\n",
       "<table border=\"1\" class=\"dataframe\">\n",
       "  <thead>\n",
       "    <tr style=\"text-align: right;\">\n",
       "      <th></th>\n",
       "      <th>BET surface area_m2/g</th>\n",
       "      <th>Total pore volume_cm3/g</th>\n",
       "      <th>CO2 uptake_mmol/g_25°C</th>\n",
       "    </tr>\n",
       "  </thead>\n",
       "  <tbody>\n",
       "    <tr>\n",
       "      <th>0</th>\n",
       "      <td>-0.700176</td>\n",
       "      <td>-1.254167</td>\n",
       "      <td>0.690000</td>\n",
       "    </tr>\n",
       "    <tr>\n",
       "      <th>1</th>\n",
       "      <td>0.000000</td>\n",
       "      <td>-0.629167</td>\n",
       "      <td>0.713333</td>\n",
       "    </tr>\n",
       "    <tr>\n",
       "      <th>2</th>\n",
       "      <td>0.188713</td>\n",
       "      <td>-0.295833</td>\n",
       "      <td>0.693333</td>\n",
       "    </tr>\n",
       "    <tr>\n",
       "      <th>3</th>\n",
       "      <td>0.604056</td>\n",
       "      <td>0.204167</td>\n",
       "      <td>0.570000</td>\n",
       "    </tr>\n",
       "    <tr>\n",
       "      <th>4</th>\n",
       "      <td>1.398589</td>\n",
       "      <td>0.537500</td>\n",
       "      <td>0.556667</td>\n",
       "    </tr>\n",
       "  </tbody>\n",
       "</table>\n",
       "</div>"
      ],
      "text/plain": [
       "   BET surface area_m2/g  Total pore volume_cm3/g  CO2 uptake_mmol/g_25°C\n",
       "0              -0.700176                -1.254167                0.690000\n",
       "1               0.000000                -0.629167                0.713333\n",
       "2               0.188713                -0.295833                0.693333\n",
       "3               0.604056                 0.204167                0.570000\n",
       "4               1.398589                 0.537500                0.556667"
      ]
     },
     "execution_count": 81,
     "metadata": {},
     "output_type": "execute_result"
    }
   ],
   "source": [
    "array_data = np.array(scaled_data)\n",
    "column_labels = ['BET surface area_m2/g', 'Total pore volume_cm3/g', 'CO2 uptake_mmol/g_25°C']\n",
    "df_ar = pd.DataFrame(array_data, columns=column_labels)\n",
    "df_ar.head()"
   ]
  },
  {
   "cell_type": "code",
   "execution_count": 82,
   "id": "40b9a690",
   "metadata": {},
   "outputs": [
    {
     "data": {
      "text/html": [
       "<div>\n",
       "<style scoped>\n",
       "    .dataframe tbody tr th:only-of-type {\n",
       "        vertical-align: middle;\n",
       "    }\n",
       "\n",
       "    .dataframe tbody tr th {\n",
       "        vertical-align: top;\n",
       "    }\n",
       "\n",
       "    .dataframe thead th {\n",
       "        text-align: right;\n",
       "    }\n",
       "</style>\n",
       "<table border=\"1\" class=\"dataframe\">\n",
       "  <thead>\n",
       "    <tr style=\"text-align: right;\">\n",
       "      <th></th>\n",
       "      <th>BET surface area_m2/g</th>\n",
       "      <th>Total pore volume_cm3/g</th>\n",
       "      <th>CO2 uptake_mmol/g_25°C</th>\n",
       "      <th>Material_replace_0</th>\n",
       "      <th>Material_replace_1</th>\n",
       "      <th>Material_replace_2</th>\n",
       "    </tr>\n",
       "  </thead>\n",
       "  <tbody>\n",
       "    <tr>\n",
       "      <th>0</th>\n",
       "      <td>-0.700176</td>\n",
       "      <td>-1.254167</td>\n",
       "      <td>0.690000</td>\n",
       "      <td>True</td>\n",
       "      <td>False</td>\n",
       "      <td>False</td>\n",
       "    </tr>\n",
       "    <tr>\n",
       "      <th>1</th>\n",
       "      <td>0.000000</td>\n",
       "      <td>-0.629167</td>\n",
       "      <td>0.713333</td>\n",
       "      <td>True</td>\n",
       "      <td>False</td>\n",
       "      <td>False</td>\n",
       "    </tr>\n",
       "    <tr>\n",
       "      <th>2</th>\n",
       "      <td>0.188713</td>\n",
       "      <td>-0.295833</td>\n",
       "      <td>0.693333</td>\n",
       "      <td>True</td>\n",
       "      <td>False</td>\n",
       "      <td>False</td>\n",
       "    </tr>\n",
       "    <tr>\n",
       "      <th>3</th>\n",
       "      <td>0.604056</td>\n",
       "      <td>0.204167</td>\n",
       "      <td>0.570000</td>\n",
       "      <td>True</td>\n",
       "      <td>False</td>\n",
       "      <td>False</td>\n",
       "    </tr>\n",
       "    <tr>\n",
       "      <th>4</th>\n",
       "      <td>1.398589</td>\n",
       "      <td>0.537500</td>\n",
       "      <td>0.556667</td>\n",
       "      <td>True</td>\n",
       "      <td>False</td>\n",
       "      <td>False</td>\n",
       "    </tr>\n",
       "  </tbody>\n",
       "</table>\n",
       "</div>"
      ],
      "text/plain": [
       "   BET surface area_m2/g  Total pore volume_cm3/g  CO2 uptake_mmol/g_25°C  \\\n",
       "0              -0.700176                -1.254167                0.690000   \n",
       "1               0.000000                -0.629167                0.713333   \n",
       "2               0.188713                -0.295833                0.693333   \n",
       "3               0.604056                 0.204167                0.570000   \n",
       "4               1.398589                 0.537500                0.556667   \n",
       "\n",
       "   Material_replace_0  Material_replace_1  Material_replace_2  \n",
       "0                True               False               False  \n",
       "1                True               False               False  \n",
       "2                True               False               False  \n",
       "3                True               False               False  \n",
       "4                True               False               False  "
      ]
     },
     "execution_count": 82,
     "metadata": {},
     "output_type": "execute_result"
    }
   ],
   "source": [
    "df_ml = pd.merge(df_ar, df_encod[[\"Material_replace_0\", \"Material_replace_1\", \"Material_replace_2\"]], left_index=True, right_index=True, how='left')\n",
    "df_ml.head()"
   ]
  },
  {
   "cell_type": "markdown",
   "id": "7de55f20",
   "metadata": {},
   "source": [
    "Now, I will prepare the data to split for performing the k-NN.\n",
    "\n",
    "The target variable will be the 'Material_replace' because I want to identify which material can be suitable given a certain amount of CO<sub>2</sub> uptake desired by the industry. \n",
    "\n",
    "First, I will define the X and y variables. Then, I used the 'idxmax' to flatten the target variable without introducing different weights to the classes."
   ]
  },
  {
   "cell_type": "code",
   "execution_count": 84,
   "id": "3e0d932a",
   "metadata": {},
   "outputs": [],
   "source": [
    "X = df_ml.drop([\"Material_replace_0\", \"Material_replace_1\", \"Material_replace_2\"], axis=1)\n",
    "y = df_ml[[\"Material_replace_0\", \"Material_replace_1\", \"Material_replace_2\"]]\n",
    "\n",
    "y = y.idxmax(axis=1)"
   ]
  },
  {
   "cell_type": "markdown",
   "id": "45c61dde",
   "metadata": {},
   "source": [
    "I will Split the data into train and test sets."
   ]
  },
  {
   "cell_type": "code",
   "execution_count": 86,
   "id": "3891c614",
   "metadata": {},
   "outputs": [
    {
     "data": {
      "text/plain": [
       "((45, 3), (12, 3), (45,), (12,))"
      ]
     },
     "execution_count": 86,
     "metadata": {},
     "output_type": "execute_result"
    }
   ],
   "source": [
    "X_train, X_test, y_train, y_test = train_test_split(X, y, test_size=0.2, random_state=63)\n",
    "X_train.shape, X_test.shape, y_train.shape, y_test.shape"
   ]
  },
  {
   "cell_type": "markdown",
   "id": "ed60cce1",
   "metadata": {},
   "source": [
    "I will initialize the k-NN classifiers and then use the Cross-Validation to reduce the possibility of bias in the model performance, as it is a statistical method used to assess the performance of a machine learning model by splitting the dataset into multiple subsets (folds) that will be trained and evaluating the model on different combinations of these folds (Müller and Guido, 2017, p.253)."
   ]
  },
  {
   "cell_type": "code",
   "execution_count": 88,
   "id": "4d86076c",
   "metadata": {},
   "outputs": [],
   "source": [
    "knn = KNeighborsClassifier(n_neighbors=3, metric=\"manhattan\")\n",
    "\n",
    "y_pred_train = cross_val_predict(knn, X_train, y_train, cv=5)"
   ]
  },
  {
   "cell_type": "markdown",
   "id": "64fa472e",
   "metadata": {},
   "source": [
    "I will fit the model on the training set and make predictions on the test set."
   ]
  },
  {
   "cell_type": "code",
   "execution_count": 90,
   "id": "6894078b",
   "metadata": {},
   "outputs": [],
   "source": [
    "knn.fit(X_train, y_train)\n",
    "\n",
    "y_pred_test = knn.predict(X_test)"
   ]
  },
  {
   "cell_type": "markdown",
   "id": "4b5f6a4f",
   "metadata": {},
   "source": [
    "###### Metrics for training set"
   ]
  },
  {
   "cell_type": "markdown",
   "id": "9599c3eb",
   "metadata": {},
   "source": [
    "I will calculate the metrics (accuracy, precision, recall and F1-score) for the training and test set to evaluate the models' performance. I will also use the \"average='weighted'\" to ensure that the metrics will not dominate in the majority class compared to the minority because there is a slight difference between the classes, and as I am using a small dataset, it could make a significant difference."
   ]
  },
  {
   "cell_type": "code",
   "execution_count": 93,
   "id": "11dfb9cd",
   "metadata": {},
   "outputs": [
    {
     "name": "stdout",
     "output_type": "stream",
     "text": [
      "Metrics for Training set:\n",
      "Accuracy: 0.7778\n",
      "Precision: 0.7760\n",
      "Recall: 0.7778\n",
      "F1 Score: 0.7703\n",
      "\n",
      "Confusion Matrix:\n"
     ]
    },
    {
     "data": {
      "image/png": "[encoded data removed]",
      "text/plain": [
       "<Figure size 640x480 with 1 Axes>"
      ]
     },
     "metadata": {},
     "output_type": "display_data"
    }
   ],
   "source": [
    "accuracy_train = accuracy_score(y_train, y_pred_train)\n",
    "precision_train = precision_score(y_train, y_pred_train, average='weighted')\n",
    "recall_train = recall_score(y_train, y_pred_train, average='weighted')\n",
    "f1_train = f1_score(y_train, y_pred_train, average='weighted')\n",
    "\n",
    "print(\"Metrics for Training set:\")\n",
    "print(f\"Accuracy: {accuracy_train:.4f}\")\n",
    "print(f\"Precision: {precision_train:.4f}\")\n",
    "print(f\"Recall: {recall_train:.4f}\")\n",
    "print(f\"F1 Score: {f1_train:.4f}\")\n",
    "print(\"\\nConfusion Matrix:\")\n",
    "\n",
    "cm_train = confusion_matrix(y_train, y_pred_train)\n",
    "sns.heatmap(cm_train, annot=True, cmap='Greens', fmt='g', cbar=False)\n",
    "plt.title('Confusion Matrix - Training set')\n",
    "plt.xlabel('Predicted')\n",
    "plt.ylabel('True')\n",
    "plt.show()"
   ]
  },
  {
   "cell_type": "markdown",
   "id": "3df60e7b",
   "metadata": {},
   "source": [
    "###### Metrics for test set"
   ]
  },
  {
   "cell_type": "code",
   "execution_count": 95,
   "id": "b4c74167",
   "metadata": {},
   "outputs": [
    {
     "name": "stdout",
     "output_type": "stream",
     "text": [
      "\n",
      "Metrics for Test set:\n",
      "Accuracy: 0.6667\n",
      "Precision: 0.8889\n",
      "Recall: 0.6667\n",
      "F1 Score: 0.6667\n",
      "\n",
      "Confusion Matrix:\n"
     ]
    },
    {
     "data": {
      "image/png": "[encoded data removed]",
      "text/plain": [
       "<Figure size 640x480 with 1 Axes>"
      ]
     },
     "metadata": {},
     "output_type": "display_data"
    }
   ],
   "source": [
    "accuracy_test = accuracy_score(y_test, y_pred_test)\n",
    "precision_test = precision_score(y_test, y_pred_test, average='weighted')\n",
    "recall_test = recall_score(y_test, y_pred_test, average='weighted')\n",
    "f1_test = f1_score(y_test, y_pred_test, average='weighted')\n",
    "\n",
    "print(\"\\nMetrics for Test set:\")\n",
    "print(f\"Accuracy: {accuracy_test:.4f}\")\n",
    "print(f\"Precision: {precision_test:.4f}\")\n",
    "print(f\"Recall: {recall_test:.4f}\")\n",
    "print(f\"F1 Score: {f1_test:.4f}\")\n",
    "print(\"\\nConfusion Matrix:\")\n",
    "\n",
    "cm_test = confusion_matrix(y_test, y_pred_test)\n",
    "sns.heatmap(cm_test, annot=True, cmap='Greens', fmt='g', cbar=False)\n",
    "plt.title('Confusion Matrix - Test set')\n",
    "plt.xlabel('Predicted')\n",
    "plt.ylabel('True')\n",
    "plt.show()"
   ]
  },
  {
   "cell_type": "markdown",
   "id": "9847a707",
   "metadata": {},
   "source": [
    "## Evaluation - kNN"
   ]
  },
  {
   "cell_type": "code",
   "execution_count": 97,
   "id": "267be0ef",
   "metadata": {},
   "outputs": [
    {
     "name": "stdout",
     "output_type": "stream",
     "text": [
      "+------------+---------+--------+\n",
      "| 10% test   |   Train |   Test |\n",
      "+============+=========+========+\n",
      "| Accuracy   |  0.7451 | 0.8333 |\n",
      "+------------+---------+--------+\n",
      "| Precision  |  0.7489 | 0.9167 |\n",
      "+------------+---------+--------+\n",
      "| Recall     |  0.7451 | 0.8333 |\n",
      "+------------+---------+--------+\n",
      "| F1 Score   |  0.7348 | 0.8333 |\n",
      "+------------+---------+--------+\n",
      "+------------+---------+--------+\n",
      "| 20% test   |   Train |   Test |\n",
      "+============+=========+========+\n",
      "| Accuracy   |  0.7111 | 0.6667 |\n",
      "+------------+---------+--------+\n",
      "| Precision  |  0.704  | 0.8889 |\n",
      "+------------+---------+--------+\n",
      "| Recall     |  0.7111 | 0.6667 |\n",
      "+------------+---------+--------+\n",
      "| F1 Score   |  0.6978 | 0.6667 |\n",
      "+------------+---------+--------+\n",
      "+------------+---------+--------+\n",
      "| 30% test   |   Train |   Test |\n",
      "+============+=========+========+\n",
      "| Accuracy   |  0.7436 | 0.5556 |\n",
      "+------------+---------+--------+\n",
      "| Precision  |  0.7433 | 0.7389 |\n",
      "+------------+---------+--------+\n",
      "| Recall     |  0.7436 | 0.5556 |\n",
      "+------------+---------+--------+\n",
      "| F1 Score   |  0.7384 | 0.5915 |\n",
      "+------------+---------+--------+\n"
     ]
    },
    {
     "data": {
      "image/png": "[encoded data removed]",
      "text/plain": [
       "<Figure size 640x480 with 1 Axes>"
      ]
     },
     "metadata": {},
     "output_type": "display_data"
    },
    {
     "data": {
      "image/png": "[encoded data removed]",
      "text/plain": [
       "<Figure size 640x480 with 1 Axes>"
      ]
     },
     "metadata": {},
     "output_type": "display_data"
    },
    {
     "data": {
      "image/png": "[encoded data removed]",
      "text/plain": [
       "<Figure size 640x480 with 1 Axes>"
      ]
     },
     "metadata": {},
     "output_type": "display_data"
    }
   ],
   "source": [
    "data = [\n",
    "    [\"Accuracy\", 0.7451, 0.8333],\n",
    "    [\"Precision\", 0.7489, 0.9167],\n",
    "    [\"Recall\", 0.7451, 0.8333],\n",
    "    [\"F1 Score\", 0.7348, 0.8333],\n",
    "]   \n",
    "headers = [\"10% test\", \"Train\", \"Test\"]\n",
    "\n",
    "data1 = [\n",
    "    [\"Accuracy\", 0.7111, 0.6667],\n",
    "    [\"Precision\", 0.7040, 0.8889],\n",
    "    [\"Recall\", 0.7111, 0.6667],\n",
    "    [\"F1 Score\", 0.6978, 0.6667],\n",
    "]   \n",
    "headers1 = [\"20% test\", \"Train\", \"Test\"]\n",
    "\n",
    "data2 = [\n",
    "    [\"Accuracy\", 0.7436, 0.5556],\n",
    "    [\"Precision\", 0.7433, 0.7389],\n",
    "    [\"Recall\", 0.7436, 0.5556],\n",
    "    [\"F1 Score\", 0.7384, 0.5915],\n",
    "]   \n",
    "headers2 = [\"30% test\", \"Train\", \"Test\"]\n",
    "print(tabulate(data, headers=headers, tablefmt=\"grid\"))\n",
    "print(tabulate(data1, headers=headers1, tablefmt=\"grid\"))\n",
    "print(tabulate(data2, headers=headers2, tablefmt=\"grid\"))\n",
    "\n",
    "def plot_data(data, headers, title):\n",
    "    categories = [row[0] for row in data]\n",
    "    values_train = [row[1] for row in data]\n",
    "    values_test = [row[2] for row in data]\n",
    "\n",
    "    bar_width = 0.35\n",
    "    index = np.arange(len(categories))\n",
    "\n",
    "    fig, ax = plt.subplots()\n",
    "    train_bars = ax.bar(index, values_train, bar_width, label=\"Train\")\n",
    "    test_bars = ax.bar(index + bar_width, values_test, bar_width, label=\"Test\")\n",
    "\n",
    "    ax.set_xlabel(\"Metrics\")\n",
    "    ax.set_ylabel(\"Values\")\n",
    "    ax.set_title(title)\n",
    "    ax.set_xticks(index + bar_width / 2)\n",
    "    ax.set_xticklabels(categories)\n",
    "    ax.legend()\n",
    "\n",
    "    plt.show()\n",
    "\n",
    "plot_data(data, headers, \"k-NN, 10% test\")\n",
    "plot_data(data1, headers1, \"k-NN, 20% test\")\n",
    "plot_data(data2, headers2, \"k-NN, 30% test\")"
   ]
  },
  {
   "cell_type": "markdown",
   "id": "e3e115ac",
   "metadata": {},
   "source": [
    "Using the default parameters, I obtained overfitting in all metrics when I split the test into 10%. In 20%, it happened only in the precision metric, meaning that the model memorised the positive instances but generalised well when considering the other metrics. The same occurred in the 30% split but with more differences between the training and test sets; however, these results decreased compared to the 20%. Because of this, I will use the 20% percentage split for the hyperparameters adjustment in the next step."
   ]
  },
  {
   "cell_type": "markdown",
   "id": "dacd89d5",
   "metadata": {},
   "source": [
    "#### Adjusting hyperparameters"
   ]
  },
  {
   "cell_type": "markdown",
   "id": "c36d6c71",
   "metadata": {},
   "source": [
    "Now, I will focus on the 20% test split to assess the hyperparameters in this model to try to improve the model's performance.\n",
    "\n",
    "The k-NN classifier has two essential parameters: the number of neighbors and the distance measurement between data points (Müller and Guido, 2017, p.44). Regarding the number of neighbours (chart below), I found that the number 3 is the best in this case because it is reasonably accurate and is not overfitted. \n",
    "\n",
    "Considering the distance measurement, they resulted in reasonable accuracy and generalization. The distance metric did not influence the test set; however, Manhattan performed better than the other metrics in the training set (chart below)."
   ]
  },
  {
   "cell_type": "code",
   "execution_count": 101,
   "id": "1ee0d0e4",
   "metadata": {},
   "outputs": [
    {
     "name": "stdout",
     "output_type": "stream",
     "text": [
      "+---------------------+---------+--------+\n",
      "|   Accuracy, 20%test |   Train |   Test |\n",
      "+=====================+=========+========+\n",
      "|                   1 |  0.6889 | 0.75   |\n",
      "+---------------------+---------+--------+\n",
      "|                   2 |  0.6    | 0.5833 |\n",
      "+---------------------+---------+--------+\n",
      "|                   3 |  0.7111 | 0.6667 |\n",
      "+---------------------+---------+--------+\n",
      "|                   4 |  0.6444 | 0.5833 |\n",
      "+---------------------+---------+--------+\n",
      "|                   5 |  0.7111 | 0.6667 |\n",
      "+---------------------+---------+--------+\n"
     ]
    },
    {
     "data": {
      "image/png": "[encoded data removed]",
      "text/plain": [
       "<Figure size 640x480 with 1 Axes>"
      ]
     },
     "metadata": {},
     "output_type": "display_data"
    }
   ],
   "source": [
    "data = [\n",
    "    [\"1\", 0.6889, 0.7500],\n",
    "    [\"2\", 0.6000, 0.5833],\n",
    "    [\"3\", 0.7111, 0.6667],\n",
    "    [\"4\", 0.6444, 0.5833],\n",
    "    [\"5\", 0.7111, 0.6667],\n",
    "]   \n",
    "headers = [\"Accuracy, 20%test\", \"Train\", \"Test\"]\n",
    "\n",
    "print(tabulate(data, headers=headers, tablefmt=\"grid\"))\n",
    "\n",
    "def plot_data(data, headers, title):\n",
    "    categories = [row[0] for row in data]\n",
    "    values_train = [row[1] for row in data]\n",
    "    values_test = [row[2] for row in data]\n",
    "\n",
    "    bar_width = 0.4\n",
    "    index = np.arange(len(categories))\n",
    "\n",
    "    fig, ax = plt.subplots()\n",
    "    train_bars = ax.bar(index, values_train, bar_width, color=\"lightgreen\", label=\"Train\")\n",
    "    test_bars = ax.bar(index + bar_width, values_test, bar_width, color=\"green\", label=\"Test\")\n",
    "\n",
    "    ax.set_xlabel(\"Number of neighbors\")\n",
    "    ax.set_ylabel(\"Accuracy\")\n",
    "    ax.set_title(title)\n",
    "    ax.set_xticks(index + bar_width / 2)\n",
    "    ax.set_xticklabels(categories)\n",
    "    ax.legend()\n",
    "\n",
    "    plt.show()\n",
    "\n",
    "plot_data(data, headers, \"20% test\")"
   ]
  },
  {
   "cell_type": "code",
   "execution_count": 102,
   "id": "99f4ff9f",
   "metadata": {},
   "outputs": [
    {
     "name": "stdout",
     "output_type": "stream",
     "text": [
      "+---------------------+---------+--------+\n",
      "| Accuracy, 30%test   |   Train |   Test |\n",
      "+=====================+=========+========+\n",
      "| euclidean           |  0.7111 | 0.6667 |\n",
      "+---------------------+---------+--------+\n",
      "| manhattan           |  0.7778 | 0.6667 |\n",
      "+---------------------+---------+--------+\n",
      "| chebyshev           |  0.7111 | 0.6667 |\n",
      "+---------------------+---------+--------+\n"
     ]
    },
    {
     "data": {
      "image/png": "[encoded data removed]",
      "text/plain": [
       "<Figure size 640x480 with 1 Axes>"
      ]
     },
     "metadata": {},
     "output_type": "display_data"
    }
   ],
   "source": [
    "data = [\n",
    "    [\"euclidean\", 0.7111, 0.6667],\n",
    "    [\"manhattan\", 0.7778, 0.6667],\n",
    "    [\"chebyshev\", 0.7111, 0.6667],\n",
    "]   \n",
    "headers = [\"Accuracy, 30%test\", \"Train\", \"Test\"]\n",
    "\n",
    "print(tabulate(data, headers=headers, tablefmt=\"grid\"))\n",
    "\n",
    "def plot_data(data, headers, title):\n",
    "    categories = [row[0] for row in data]\n",
    "    values_train = [row[1] for row in data]\n",
    "    values_test = [row[2] for row in data]\n",
    "\n",
    "    bar_width = 0.35\n",
    "    index = np.arange(len(categories))\n",
    "\n",
    "    fig, ax = plt.subplots()\n",
    "    train_bars = ax.bar(index, values_train, bar_width, color=\"lightblue\", label=\"Train\")\n",
    "    test_bars = ax.bar(index + bar_width, values_test, bar_width, color=\"blue\", label=\"Test\")\n",
    "\n",
    "    ax.set_xlabel(\"Distance metric\")\n",
    "    ax.set_ylabel(\"Accuracy\")\n",
    "    ax.set_title(title)\n",
    "    ax.set_xticks(index + bar_width / 2)\n",
    "    ax.set_xticklabels(categories)\n",
    "    ax.legend()\n",
    "\n",
    "    plt.show()\n",
    "\n",
    "plot_data(data, headers, \"30% test\")"
   ]
  },
  {
   "cell_type": "markdown",
   "id": "3a6676da",
   "metadata": {},
   "source": [
    "The chart below shows that using the 'manhattan' distance metric, the training set slightly improved compared to 'euclidean' and 'chebyshev' metrics. Therefore, at the moment, it is the best set that I could achieve with these adjustments."
   ]
  },
  {
   "cell_type": "code",
   "execution_count": 104,
   "id": "f124c38f",
   "metadata": {
    "scrolled": true
   },
   "outputs": [
    {
     "name": "stdout",
     "output_type": "stream",
     "text": [
      "+------------+---------+--------+\n",
      "| 20% test   |   Train |   Test |\n",
      "+============+=========+========+\n",
      "| Accuracy   |  0.7778 | 0.6667 |\n",
      "+------------+---------+--------+\n",
      "| Precision  |  0.7766 | 0.8889 |\n",
      "+------------+---------+--------+\n",
      "| Recall     |  0.7778 | 0.6667 |\n",
      "+------------+---------+--------+\n",
      "| F1 Score   |  0.7703 | 0.6667 |\n",
      "+------------+---------+--------+\n"
     ]
    },
    {
     "data": {
      "image/png": "[encoded data removed]",
      "text/plain": [
       "<Figure size 640x480 with 1 Axes>"
      ]
     },
     "metadata": {},
     "output_type": "display_data"
    }
   ],
   "source": [
    "data = [\n",
    "    [\"Accuracy\", 0.7778, 0.6667],\n",
    "    [\"Precision\", 0.77660, 0.8889],\n",
    "    [\"Recall\", 0.7778, 0.6667],\n",
    "    [\"F1 Score\", 0.7703, 0.6667],\n",
    "]   \n",
    "headers = [\"20% test\", \"Train\", \"Test\"]\n",
    "\n",
    "print(tabulate(data, headers=headers, tablefmt=\"grid\"))\n",
    "\n",
    "\n",
    "def plot_data(data, headers, title):\n",
    "    categories = [row[0] for row in data]\n",
    "    values_train = [row[1] for row in data]\n",
    "    values_test = [row[2] for row in data]\n",
    "\n",
    "    bar_width = 0.35\n",
    "    index = np.arange(len(categories))\n",
    "\n",
    "    fig, ax = plt.subplots()\n",
    "    train_bars = ax.bar(index, values_train, bar_width, label=\"Train\")\n",
    "    test_bars = ax.bar(index + bar_width, values_test, bar_width, label=\"Test\")\n",
    "\n",
    "    ax.set_xlabel(\"Metrics\")\n",
    "    ax.set_ylabel(\"Values\")\n",
    "    ax.set_title(title)\n",
    "    ax.set_xticks(index + bar_width / 2)\n",
    "    ax.set_xticklabels(categories)\n",
    "    ax.legend()\n",
    "\n",
    "    plt.show()\n",
    "\n",
    "plot_data(data, headers, \"k-NN, n_neighbors=3, metric='manhattan', 20% test\")"
   ]
  },
  {
   "cell_type": "markdown",
   "id": "a7514ef8",
   "metadata": {},
   "source": [
    "## kNN - SMOTE \n",
    "\n",
    "The Synthetic Minority Over-sampling Technique (SMOTE) is an algorithm that can be used to generate synthetic data to provide new related information on the positive class to the learning algorithm (Chawla, 2009, p.880).\n",
    "\n",
    "I will use the SMOTE balance the classes and try to imporeve the models performanceI will use the SMOTE to balance the classes and try to improve the k-NN's performance."
   ]
  },
  {
   "cell_type": "code",
   "execution_count": 106,
   "id": "952a75db",
   "metadata": {},
   "outputs": [
    {
     "data": {
      "text/plain": [
       "((45, 3), (12, 3), (45,), (12,))"
      ]
     },
     "execution_count": 106,
     "metadata": {},
     "output_type": "execute_result"
    }
   ],
   "source": [
    "X_train, X_test, y_train, y_test = train_test_split(X, y, test_size=0.2, random_state=56)\n",
    "X_train.shape, X_test.shape, y_train.shape, y_test.shape"
   ]
  },
  {
   "cell_type": "markdown",
   "id": "ac37f528",
   "metadata": {},
   "source": [
    "I am Applying SMOTE to the training set only. If I apply it to the entire dataset, it will result in an overfit of the negative class, which will generate excellent metrics but not in accordance with the real dataset."
   ]
  },
  {
   "cell_type": "code",
   "execution_count": 108,
   "id": "62068256",
   "metadata": {},
   "outputs": [
    {
     "data": {
      "text/plain": [
       "((48, 3), (48,))"
      ]
     },
     "execution_count": 108,
     "metadata": {},
     "output_type": "execute_result"
    }
   ],
   "source": [
    "smote = SMOTE(random_state=51)\n",
    "X_train_resampled, y_train_resampled = smote.fit_resample(X_train, y_train)\n",
    "X_train_resampled.shape, y_train_resampled.shape"
   ]
  },
  {
   "cell_type": "markdown",
   "id": "70a2186f",
   "metadata": {},
   "source": [
    "I will use the code below to call the Gradient Boosting Classifier with the data balanced (SMOTE), and then I will train the model using the training sets and make predictions on the test set."
   ]
  },
  {
   "cell_type": "code",
   "execution_count": 110,
   "id": "bd287d08",
   "metadata": {},
   "outputs": [],
   "source": [
    "knn_smote = KNeighborsClassifier(n_neighbors=3, metric=\"manhattan\")\n",
    "\n",
    "y_train_pred = cross_val_predict(knn_smote, X_train_resampled, y_train_resampled, cv=5)"
   ]
  },
  {
   "cell_type": "code",
   "execution_count": 111,
   "id": "c305fe08",
   "metadata": {},
   "outputs": [
    {
     "data": {
      "text/html": [
       "<style>#sk-container-id-1 {\n",
       "  /* Definition of color scheme common for light and dark mode */\n",
       "  --sklearn-color-text: black;\n",
       "  --sklearn-color-line: gray;\n",
       "  /* Definition of color scheme for unfitted estimators */\n",
       "  --sklearn-color-unfitted-level-0: #fff5e6;\n",
       "  --sklearn-color-unfitted-level-1: #f6e4d2;\n",
       "  --sklearn-color-unfitted-level-2: #ffe0b3;\n",
       "  --sklearn-color-unfitted-level-3: chocolate;\n",
       "  /* Definition of color scheme for fitted estimators */\n",
       "  --sklearn-color-fitted-level-0: #f0f8ff;\n",
       "  --sklearn-color-fitted-level-1: #d4ebff;\n",
       "  --sklearn-color-fitted-level-2: #b3dbfd;\n",
       "  --sklearn-color-fitted-level-3: cornflowerblue;\n",
       "\n",
       "  /* Specific color for light theme */\n",
       "  --sklearn-color-text-on-default-background: var(--sg-text-color, var(--theme-code-foreground, var(--jp-content-font-color1, black)));\n",
       "  --sklearn-color-background: var(--sg-background-color, var(--theme-background, var(--jp-layout-color0, white)));\n",
       "  --sklearn-color-border-box: var(--sg-text-color, var(--theme-code-foreground, var(--jp-content-font-color1, black)));\n",
       "  --sklearn-color-icon: #696969;\n",
       "\n",
       "  @media (prefers-color-scheme: dark) {\n",
       "    /* Redefinition of color scheme for dark theme */\n",
       "    --sklearn-color-text-on-default-background: var(--sg-text-color, var(--theme-code-foreground, var(--jp-content-font-color1, white)));\n",
       "    --sklearn-color-background: var(--sg-background-color, var(--theme-background, var(--jp-layout-color0, #111)));\n",
       "    --sklearn-color-border-box: var(--sg-text-color, var(--theme-code-foreground, var(--jp-content-font-color1, white)));\n",
       "    --sklearn-color-icon: #878787;\n",
       "  }\n",
       "}\n",
       "\n",
       "#sk-container-id-1 {\n",
       "  color: var(--sklearn-color-text);\n",
       "}\n",
       "\n",
       "#sk-container-id-1 pre {\n",
       "  padding: 0;\n",
       "}\n",
       "\n",
       "#sk-container-id-1 input.sk-hidden--visually {\n",
       "  border: 0;\n",
       "  clip: rect(1px 1px 1px 1px);\n",
       "  clip: rect(1px, 1px, 1px, 1px);\n",
       "  height: 1px;\n",
       "  margin: -1px;\n",
       "  overflow: hidden;\n",
       "  padding: 0;\n",
       "  position: absolute;\n",
       "  width: 1px;\n",
       "}\n",
       "\n",
       "#sk-container-id-1 div.sk-dashed-wrapped {\n",
       "  border: 1px dashed var(--sklearn-color-line);\n",
       "  margin: 0 0.4em 0.5em 0.4em;\n",
       "  box-sizing: border-box;\n",
       "  padding-bottom: 0.4em;\n",
       "  background-color: var(--sklearn-color-background);\n",
       "}\n",
       "\n",
       "#sk-container-id-1 div.sk-container {\n",
       "  /* jupyter's `normalize.less` sets `[hidden] { display: none; }`\n",
       "     but bootstrap.min.css set `[hidden] { display: none !important; }`\n",
       "     so we also need the `!important` here to be able to override the\n",
       "     default hidden behavior on the sphinx rendered scikit-learn.org.\n",
       "     See: https://github.com/scikit-learn/scikit-learn/issues/21755 */\n",
       "  display: inline-block !important;\n",
       "  position: relative;\n",
       "}\n",
       "\n",
       "#sk-container-id-1 div.sk-text-repr-fallback {\n",
       "  display: none;\n",
       "}\n",
       "\n",
       "div.sk-parallel-item,\n",
       "div.sk-serial,\n",
       "div.sk-item {\n",
       "  /* draw centered vertical line to link estimators */\n",
       "  background-image: linear-gradient(var(--sklearn-color-text-on-default-background), var(--sklearn-color-text-on-default-background));\n",
       "  background-size: 2px 100%;\n",
       "  background-repeat: no-repeat;\n",
       "  background-position: center center;\n",
       "}\n",
       "\n",
       "/* Parallel-specific style estimator block */\n",
       "\n",
       "#sk-container-id-1 div.sk-parallel-item::after {\n",
       "  content: \"\";\n",
       "  width: 100%;\n",
       "  border-bottom: 2px solid var(--sklearn-color-text-on-default-background);\n",
       "  flex-grow: 1;\n",
       "}\n",
       "\n",
       "#sk-container-id-1 div.sk-parallel {\n",
       "  display: flex;\n",
       "  align-items: stretch;\n",
       "  justify-content: center;\n",
       "  background-color: var(--sklearn-color-background);\n",
       "  position: relative;\n",
       "}\n",
       "\n",
       "#sk-container-id-1 div.sk-parallel-item {\n",
       "  display: flex;\n",
       "  flex-direction: column;\n",
       "}\n",
       "\n",
       "#sk-container-id-1 div.sk-parallel-item:first-child::after {\n",
       "  align-self: flex-end;\n",
       "  width: 50%;\n",
       "}\n",
       "\n",
       "#sk-container-id-1 div.sk-parallel-item:last-child::after {\n",
       "  align-self: flex-start;\n",
       "  width: 50%;\n",
       "}\n",
       "\n",
       "#sk-container-id-1 div.sk-parallel-item:only-child::after {\n",
       "  width: 0;\n",
       "}\n",
       "\n",
       "/* Serial-specific style estimator block */\n",
       "\n",
       "#sk-container-id-1 div.sk-serial {\n",
       "  display: flex;\n",
       "  flex-direction: column;\n",
       "  align-items: center;\n",
       "  background-color: var(--sklearn-color-background);\n",
       "  padding-right: 1em;\n",
       "  padding-left: 1em;\n",
       "}\n",
       "\n",
       "\n",
       "/* Toggleable style: style used for estimator/Pipeline/ColumnTransformer box that is\n",
       "clickable and can be expanded/collapsed.\n",
       "- Pipeline and ColumnTransformer use this feature and define the default style\n",
       "- Estimators will overwrite some part of the style using the `sk-estimator` class\n",
       "*/\n",
       "\n",
       "/* Pipeline and ColumnTransformer style (default) */\n",
       "\n",
       "#sk-container-id-1 div.sk-toggleable {\n",
       "  /* Default theme specific background. It is overwritten whether we have a\n",
       "  specific estimator or a Pipeline/ColumnTransformer */\n",
       "  background-color: var(--sklearn-color-background);\n",
       "}\n",
       "\n",
       "/* Toggleable label */\n",
       "#sk-container-id-1 label.sk-toggleable__label {\n",
       "  cursor: pointer;\n",
       "  display: block;\n",
       "  width: 100%;\n",
       "  margin-bottom: 0;\n",
       "  padding: 0.5em;\n",
       "  box-sizing: border-box;\n",
       "  text-align: center;\n",
       "}\n",
       "\n",
       "#sk-container-id-1 label.sk-toggleable__label-arrow:before {\n",
       "  /* Arrow on the left of the label */\n",
       "  content: \"▸\";\n",
       "  float: left;\n",
       "  margin-right: 0.25em;\n",
       "  color: var(--sklearn-color-icon);\n",
       "}\n",
       "\n",
       "#sk-container-id-1 label.sk-toggleable__label-arrow:hover:before {\n",
       "  color: var(--sklearn-color-text);\n",
       "}\n",
       "\n",
       "/* Toggleable content - dropdown */\n",
       "\n",
       "#sk-container-id-1 div.sk-toggleable__content {\n",
       "  max-height: 0;\n",
       "  max-width: 0;\n",
       "  overflow: hidden;\n",
       "  text-align: left;\n",
       "  /* unfitted */\n",
       "  background-color: var(--sklearn-color-unfitted-level-0);\n",
       "}\n",
       "\n",
       "#sk-container-id-1 div.sk-toggleable__content.fitted {\n",
       "  /* fitted */\n",
       "  background-color: var(--sklearn-color-fitted-level-0);\n",
       "}\n",
       "\n",
       "#sk-container-id-1 div.sk-toggleable__content pre {\n",
       "  margin: 0.2em;\n",
       "  border-radius: 0.25em;\n",
       "  color: var(--sklearn-color-text);\n",
       "  /* unfitted */\n",
       "  background-color: var(--sklearn-color-unfitted-level-0);\n",
       "}\n",
       "\n",
       "#sk-container-id-1 div.sk-toggleable__content.fitted pre {\n",
       "  /* unfitted */\n",
       "  background-color: var(--sklearn-color-fitted-level-0);\n",
       "}\n",
       "\n",
       "#sk-container-id-1 input.sk-toggleable__control:checked~div.sk-toggleable__content {\n",
       "  /* Expand drop-down */\n",
       "  max-height: 200px;\n",
       "  max-width: 100%;\n",
       "  overflow: auto;\n",
       "}\n",
       "\n",
       "#sk-container-id-1 input.sk-toggleable__control:checked~label.sk-toggleable__label-arrow:before {\n",
       "  content: \"▾\";\n",
       "}\n",
       "\n",
       "/* Pipeline/ColumnTransformer-specific style */\n",
       "\n",
       "#sk-container-id-1 div.sk-label input.sk-toggleable__control:checked~label.sk-toggleable__label {\n",
       "  color: var(--sklearn-color-text);\n",
       "  background-color: var(--sklearn-color-unfitted-level-2);\n",
       "}\n",
       "\n",
       "#sk-container-id-1 div.sk-label.fitted input.sk-toggleable__control:checked~label.sk-toggleable__label {\n",
       "  background-color: var(--sklearn-color-fitted-level-2);\n",
       "}\n",
       "\n",
       "/* Estimator-specific style */\n",
       "\n",
       "/* Colorize estimator box */\n",
       "#sk-container-id-1 div.sk-estimator input.sk-toggleable__control:checked~label.sk-toggleable__label {\n",
       "  /* unfitted */\n",
       "  background-color: var(--sklearn-color-unfitted-level-2);\n",
       "}\n",
       "\n",
       "#sk-container-id-1 div.sk-estimator.fitted input.sk-toggleable__control:checked~label.sk-toggleable__label {\n",
       "  /* fitted */\n",
       "  background-color: var(--sklearn-color-fitted-level-2);\n",
       "}\n",
       "\n",
       "#sk-container-id-1 div.sk-label label.sk-toggleable__label,\n",
       "#sk-container-id-1 div.sk-label label {\n",
       "  /* The background is the default theme color */\n",
       "  color: var(--sklearn-color-text-on-default-background);\n",
       "}\n",
       "\n",
       "/* On hover, darken the color of the background */\n",
       "#sk-container-id-1 div.sk-label:hover label.sk-toggleable__label {\n",
       "  color: var(--sklearn-color-text);\n",
       "  background-color: var(--sklearn-color-unfitted-level-2);\n",
       "}\n",
       "\n",
       "/* Label box, darken color on hover, fitted */\n",
       "#sk-container-id-1 div.sk-label.fitted:hover label.sk-toggleable__label.fitted {\n",
       "  color: var(--sklearn-color-text);\n",
       "  background-color: var(--sklearn-color-fitted-level-2);\n",
       "}\n",
       "\n",
       "/* Estimator label */\n",
       "\n",
       "#sk-container-id-1 div.sk-label label {\n",
       "  font-family: monospace;\n",
       "  font-weight: bold;\n",
       "  display: inline-block;\n",
       "  line-height: 1.2em;\n",
       "}\n",
       "\n",
       "#sk-container-id-1 div.sk-label-container {\n",
       "  text-align: center;\n",
       "}\n",
       "\n",
       "/* Estimator-specific */\n",
       "#sk-container-id-1 div.sk-estimator {\n",
       "  font-family: monospace;\n",
       "  border: 1px dotted var(--sklearn-color-border-box);\n",
       "  border-radius: 0.25em;\n",
       "  box-sizing: border-box;\n",
       "  margin-bottom: 0.5em;\n",
       "  /* unfitted */\n",
       "  background-color: var(--sklearn-color-unfitted-level-0);\n",
       "}\n",
       "\n",
       "#sk-container-id-1 div.sk-estimator.fitted {\n",
       "  /* fitted */\n",
       "  background-color: var(--sklearn-color-fitted-level-0);\n",
       "}\n",
       "\n",
       "/* on hover */\n",
       "#sk-container-id-1 div.sk-estimator:hover {\n",
       "  /* unfitted */\n",
       "  background-color: var(--sklearn-color-unfitted-level-2);\n",
       "}\n",
       "\n",
       "#sk-container-id-1 div.sk-estimator.fitted:hover {\n",
       "  /* fitted */\n",
       "  background-color: var(--sklearn-color-fitted-level-2);\n",
       "}\n",
       "\n",
       "/* Specification for estimator info (e.g. \"i\" and \"?\") */\n",
       "\n",
       "/* Common style for \"i\" and \"?\" */\n",
       "\n",
       ".sk-estimator-doc-link,\n",
       "a:link.sk-estimator-doc-link,\n",
       "a:visited.sk-estimator-doc-link {\n",
       "  float: right;\n",
       "  font-size: smaller;\n",
       "  line-height: 1em;\n",
       "  font-family: monospace;\n",
       "  background-color: var(--sklearn-color-background);\n",
       "  border-radius: 1em;\n",
       "  height: 1em;\n",
       "  width: 1em;\n",
       "  text-decoration: none !important;\n",
       "  margin-left: 1ex;\n",
       "  /* unfitted */\n",
       "  border: var(--sklearn-color-unfitted-level-1) 1pt solid;\n",
       "  color: var(--sklearn-color-unfitted-level-1);\n",
       "}\n",
       "\n",
       ".sk-estimator-doc-link.fitted,\n",
       "a:link.sk-estimator-doc-link.fitted,\n",
       "a:visited.sk-estimator-doc-link.fitted {\n",
       "  /* fitted */\n",
       "  border: var(--sklearn-color-fitted-level-1) 1pt solid;\n",
       "  color: var(--sklearn-color-fitted-level-1);\n",
       "}\n",
       "\n",
       "/* On hover */\n",
       "div.sk-estimator:hover .sk-estimator-doc-link:hover,\n",
       ".sk-estimator-doc-link:hover,\n",
       "div.sk-label-container:hover .sk-estimator-doc-link:hover,\n",
       ".sk-estimator-doc-link:hover {\n",
       "  /* unfitted */\n",
       "  background-color: var(--sklearn-color-unfitted-level-3);\n",
       "  color: var(--sklearn-color-background);\n",
       "  text-decoration: none;\n",
       "}\n",
       "\n",
       "div.sk-estimator.fitted:hover .sk-estimator-doc-link.fitted:hover,\n",
       ".sk-estimator-doc-link.fitted:hover,\n",
       "div.sk-label-container:hover .sk-estimator-doc-link.fitted:hover,\n",
       ".sk-estimator-doc-link.fitted:hover {\n",
       "  /* fitted */\n",
       "  background-color: var(--sklearn-color-fitted-level-3);\n",
       "  color: var(--sklearn-color-background);\n",
       "  text-decoration: none;\n",
       "}\n",
       "\n",
       "/* Span, style for the box shown on hovering the info icon */\n",
       ".sk-estimator-doc-link span {\n",
       "  display: none;\n",
       "  z-index: 9999;\n",
       "  position: relative;\n",
       "  font-weight: normal;\n",
       "  right: .2ex;\n",
       "  padding: .5ex;\n",
       "  margin: .5ex;\n",
       "  width: min-content;\n",
       "  min-width: 20ex;\n",
       "  max-width: 50ex;\n",
       "  color: var(--sklearn-color-text);\n",
       "  box-shadow: 2pt 2pt 4pt #999;\n",
       "  /* unfitted */\n",
       "  background: var(--sklearn-color-unfitted-level-0);\n",
       "  border: .5pt solid var(--sklearn-color-unfitted-level-3);\n",
       "}\n",
       "\n",
       ".sk-estimator-doc-link.fitted span {\n",
       "  /* fitted */\n",
       "  background: var(--sklearn-color-fitted-level-0);\n",
       "  border: var(--sklearn-color-fitted-level-3);\n",
       "}\n",
       "\n",
       ".sk-estimator-doc-link:hover span {\n",
       "  display: block;\n",
       "}\n",
       "\n",
       "/* \"?\"-specific style due to the `<a>` HTML tag */\n",
       "\n",
       "#sk-container-id-1 a.estimator_doc_link {\n",
       "  float: right;\n",
       "  font-size: 1rem;\n",
       "  line-height: 1em;\n",
       "  font-family: monospace;\n",
       "  background-color: var(--sklearn-color-background);\n",
       "  border-radius: 1rem;\n",
       "  height: 1rem;\n",
       "  width: 1rem;\n",
       "  text-decoration: none;\n",
       "  /* unfitted */\n",
       "  color: var(--sklearn-color-unfitted-level-1);\n",
       "  border: var(--sklearn-color-unfitted-level-1) 1pt solid;\n",
       "}\n",
       "\n",
       "#sk-container-id-1 a.estimator_doc_link.fitted {\n",
       "  /* fitted */\n",
       "  border: var(--sklearn-color-fitted-level-1) 1pt solid;\n",
       "  color: var(--sklearn-color-fitted-level-1);\n",
       "}\n",
       "\n",
       "/* On hover */\n",
       "#sk-container-id-1 a.estimator_doc_link:hover {\n",
       "  /* unfitted */\n",
       "  background-color: var(--sklearn-color-unfitted-level-3);\n",
       "  color: var(--sklearn-color-background);\n",
       "  text-decoration: none;\n",
       "}\n",
       "\n",
       "#sk-container-id-1 a.estimator_doc_link.fitted:hover {\n",
       "  /* fitted */\n",
       "  background-color: var(--sklearn-color-fitted-level-3);\n",
       "}\n",
       "</style><div id=\"sk-container-id-1\" class=\"sk-top-container\"><div class=\"sk-text-repr-fallback\"><pre>KNeighborsClassifier(metric=&#x27;manhattan&#x27;, n_neighbors=3)</pre><b>In a Jupyter environment, please rerun this cell to show the HTML representation or trust the notebook. <br />On GitHub, the HTML representation is unable to render, please try loading this page with nbviewer.org.</b></div><div class=\"sk-container\" hidden><div class=\"sk-item\"><div class=\"sk-estimator fitted sk-toggleable\"><input class=\"sk-toggleable__control sk-hidden--visually\" id=\"sk-estimator-id-1\" type=\"checkbox\" checked><label for=\"sk-estimator-id-1\" class=\"sk-toggleable__label fitted sk-toggleable__label-arrow fitted\">&nbsp;&nbsp;KNeighborsClassifier<a class=\"sk-estimator-doc-link fitted\" rel=\"noreferrer\" target=\"_blank\" href=\"https://scikit-learn.org/1.4/modules/generated/sklearn.neighbors.KNeighborsClassifier.html\">?<span>Documentation for KNeighborsClassifier</span></a><span class=\"sk-estimator-doc-link fitted\">i<span>Fitted</span></span></label><div class=\"sk-toggleable__content fitted\"><pre>KNeighborsClassifier(metric=&#x27;manhattan&#x27;, n_neighbors=3)</pre></div> </div></div></div></div>"
      ],
      "text/plain": [
       "KNeighborsClassifier(metric='manhattan', n_neighbors=3)"
      ]
     },
     "execution_count": 111,
     "metadata": {},
     "output_type": "execute_result"
    }
   ],
   "source": [
    "knn_smote.fit(X_train_resampled, y_train_resampled)"
   ]
  },
  {
   "cell_type": "markdown",
   "id": "ddc53d6f",
   "metadata": {},
   "source": [
    "Making predictions on the test set."
   ]
  },
  {
   "cell_type": "code",
   "execution_count": 113,
   "id": "f2014dd2",
   "metadata": {},
   "outputs": [],
   "source": [
    "y_pred_smote_knn = knn_smote.predict(X_test)"
   ]
  },
  {
   "cell_type": "markdown",
   "id": "02006ffd",
   "metadata": {},
   "source": [
    "####  Metrics - SMOTE - kNN"
   ]
  },
  {
   "cell_type": "code",
   "execution_count": 115,
   "id": "79e76f8b",
   "metadata": {},
   "outputs": [
    {
     "name": "stdout",
     "output_type": "stream",
     "text": [
      "Accuracy: 0.67\n",
      "precision: 0.57\n",
      "recall: 0.67\n",
      "F1 Score: 0.61\n"
     ]
    },
    {
     "name": "stderr",
     "output_type": "stream",
     "text": [
      "C:\\Users\\danie\\anaconda3\\Lib\\site-packages\\sklearn\\metrics\\_classification.py:1509: UndefinedMetricWarning: Precision is ill-defined and being set to 0.0 in labels with no predicted samples. Use `zero_division` parameter to control this behavior.\n",
      "  _warn_prf(average, modifier, f\"{metric.capitalize()} is\", len(result))\n"
     ]
    }
   ],
   "source": [
    "print( \"Accuracy: {:.2f}\".format(metrics.accuracy_score(y_test, y_pred_smote_knn)) )\n",
    "print( \"precision: {:.2f}\".format(metrics.precision_score(y_test, y_pred_smote_knn, average='weighted')) )\n",
    "print( \"recall: {:.2f}\".format(metrics.recall_score(y_test, y_pred_smote_knn, average='weighted')) )\n",
    "print( \"F1 Score: {:.2f}\".format(metrics.f1_score(y_test, y_pred_smote_knn, average='weighted')) )"
   ]
  },
  {
   "cell_type": "markdown",
   "id": "a1291f0f",
   "metadata": {},
   "source": [
    "####  Accuracy - SMOTE - kNN - train and test"
   ]
  },
  {
   "cell_type": "code",
   "execution_count": 117,
   "id": "e6f0cbc5",
   "metadata": {},
   "outputs": [
    {
     "name": "stdout",
     "output_type": "stream",
     "text": [
      "Training Accuracy : 0.8444444444444444\n",
      "Testing Accuracy : 0.6666666666666666\n"
     ]
    }
   ],
   "source": [
    "print(\"Training Accuracy :\", knn_smote.score(X_train, y_train))\n",
    "print(\"Testing Accuracy :\", knn_smote.score(X_test, y_test))"
   ]
  },
  {
   "cell_type": "code",
   "execution_count": 118,
   "id": "cf727949",
   "metadata": {},
   "outputs": [
    {
     "data": {
      "text/plain": [
       "Text(50.72222222222221, 0.5, 'Actual')"
      ]
     },
     "execution_count": 118,
     "metadata": {},
     "output_type": "execute_result"
    },
    {
     "data": {
      "image/png": "[encoded data removed]",
      "text/plain": [
       "<Figure size 640x480 with 2 Axes>"
      ]
     },
     "metadata": {},
     "output_type": "display_data"
    }
   ],
   "source": [
    "cm = confusion_matrix(y_test, y_pred_smote_knn)\n",
    "sns.heatmap(cm, annot=True)\n",
    "ax = sns.heatmap(cm, annot=True,                  \n",
    "                 xticklabels=['Activated Carbon', 'MOFs', 'Polymers'],                \n",
    "                 yticklabels=['Activated Carbon', 'MOFs', 'Polymers'],                  \n",
    "                 cbar=False)\n",
    "ax.set_xlabel(\"Prediction\")\n",
    "ax.set_ylabel(\"Actual\")"
   ]
  },
  {
   "cell_type": "markdown",
   "id": "4c9c8c41",
   "metadata": {},
   "source": [
    "After applying the SMOTE in the k-NN model, I realized that this tool did not promote enhancements in the model performance. Inclusive seems overfitting because the training accuracy is too high (0.84) and the test is not (0.67). Generally, it indicates that the training set learned the data too well, including its noises, and performs poorly in new data. "
   ]
  },
  {
   "cell_type": "markdown",
   "id": "83062998",
   "metadata": {},
   "source": [
    "### Gradient boosted regression trees\n",
    "I chose to use this model as an alternative to k-NN, which did not improve after extensive adjustments.\n",
    "\n",
    "Gradient Boosting is considered a powerful model due to its approach to building serial trees that try to correct the mistakes of the previous one; in addition, it is more sensitive than random forest and can provide better accuracy with the correct setting (Müller and Guido, 2017, p.88,89).\n",
    "\n",
    "I will use the scaled data because there is no difference in the model's performance between scaled and non-scaled data. "
   ]
  },
  {
   "cell_type": "markdown",
   "id": "09081e9d",
   "metadata": {},
   "source": [
    "I will prepare the data to split for performing the Gradient Boosting.\n",
    "\n",
    "First, I will define the X and y variables. Then, I used the 'idxmax' to flatten the target variable without introducing different weights to the classes."
   ]
  },
  {
   "cell_type": "code",
   "execution_count": 122,
   "id": "b4570450",
   "metadata": {},
   "outputs": [],
   "source": [
    "X = df_ml.drop([\"Material_replace_0\", \"Material_replace_1\", \"Material_replace_2\"], axis=1)\n",
    "y = df_ml[[\"Material_replace_0\", \"Material_replace_1\", \"Material_replace_2\"]]\n",
    "\n",
    "y = y.idxmax(axis=1)"
   ]
  },
  {
   "cell_type": "markdown",
   "id": "72e6dd2f",
   "metadata": {},
   "source": [
    "I will Split the data into train and test sets."
   ]
  },
  {
   "cell_type": "code",
   "execution_count": 124,
   "id": "ccb07fb8",
   "metadata": {},
   "outputs": [
    {
     "data": {
      "text/plain": [
       "((45, 3), (12, 3), (45,), (12,))"
      ]
     },
     "execution_count": 124,
     "metadata": {},
     "output_type": "execute_result"
    }
   ],
   "source": [
    "X_train, X_test, y_train, y_test = train_test_split(X, y, test_size=0.2, random_state=12)\n",
    "\n",
    "X_train.shape, X_test.shape, y_train.shape, y_test.shape"
   ]
  },
  {
   "cell_type": "markdown",
   "id": "a6888977",
   "metadata": {},
   "source": [
    "I will initialize the Gradient Boosting classifiers and then use the Cross-Validation as I did in the previous model. "
   ]
  },
  {
   "cell_type": "code",
   "execution_count": 126,
   "id": "af470101",
   "metadata": {},
   "outputs": [],
   "source": [
    "gb_clf = GradientBoostingClassifier(n_estimators=100, learning_rate=0.01, max_depth=2, random_state=12)\n",
    "\n",
    "y_train_pred = cross_val_predict(gb_clf, X_train, y_train, cv=5)"
   ]
  },
  {
   "cell_type": "markdown",
   "id": "d9c5e917",
   "metadata": {},
   "source": [
    "I will fit the model on the training set and make predictions on the training and test set."
   ]
  },
  {
   "cell_type": "code",
   "execution_count": 128,
   "id": "e0994fc6",
   "metadata": {},
   "outputs": [],
   "source": [
    "gb_clf.fit(X_train, y_train)\n",
    "\n",
    "y_train_pred = gb_clf.predict(X_train)\n",
    "\n",
    "y_test_pred = gb_clf.predict(X_test)"
   ]
  },
  {
   "cell_type": "markdown",
   "id": "2a6b4e7d",
   "metadata": {},
   "source": [
    "###### Metrics for training set"
   ]
  },
  {
   "cell_type": "code",
   "execution_count": 130,
   "id": "31821922",
   "metadata": {},
   "outputs": [
    {
     "name": "stdout",
     "output_type": "stream",
     "text": [
      "Training Set Metrics:\n",
      "Accuracy: 0.9555555555555556\n",
      "Precision: 0.960233918128655\n",
      "Recall: 0.9555555555555556\n",
      "F1-Score: 0.9549382716049383\n"
     ]
    },
    {
     "data": {
      "image/png": "[encoded data removed]",
      "text/plain": [
       "<Figure size 640x480 with 1 Axes>"
      ]
     },
     "metadata": {},
     "output_type": "display_data"
    }
   ],
   "source": [
    "print(\"Training Set Metrics:\")\n",
    "print(\"Accuracy:\", accuracy_score(y_train, y_train_pred))\n",
    "print(\"Precision:\", precision_score(y_train, y_train_pred, average='weighted'))\n",
    "print(\"Recall:\", recall_score(y_train, y_train_pred, average='weighted'))\n",
    "print(\"F1-Score:\", f1_score(y_train, y_train_pred, average='weighted'))\n",
    "\n",
    "cm_test = confusion_matrix(y_train, y_train_pred)\n",
    "sns.heatmap(cm_test, annot=True, cmap='Purples', fmt='g', cbar=False)\n",
    "plt.title('Confusion Matrix - Training set')\n",
    "plt.xlabel('Predicted')\n",
    "plt.ylabel('True')\n",
    "plt.show()"
   ]
  },
  {
   "cell_type": "markdown",
   "id": "9e54f2ef",
   "metadata": {},
   "source": [
    "###### Metrics for test set"
   ]
  },
  {
   "cell_type": "code",
   "execution_count": 132,
   "id": "070f16c5",
   "metadata": {
    "scrolled": true
   },
   "outputs": [
    {
     "name": "stdout",
     "output_type": "stream",
     "text": [
      "\n",
      "Test Set Metrics:\n",
      "Accuracy: 0.75\n",
      "Precision: 0.8571428571428571\n",
      "Recall: 0.75\n",
      "F1-Score: 0.7424242424242425\n"
     ]
    },
    {
     "data": {
      "image/png": "[encoded data removed]",
      "text/plain": [
       "<Figure size 640x480 with 1 Axes>"
      ]
     },
     "metadata": {},
     "output_type": "display_data"
    }
   ],
   "source": [
    "print(\"\\nTest Set Metrics:\")\n",
    "print(\"Accuracy:\", accuracy_score(y_test, y_test_pred))\n",
    "print(\"Precision:\", precision_score(y_test, y_test_pred, average='weighted'))\n",
    "print(\"Recall:\", recall_score(y_test, y_test_pred, average='weighted'))\n",
    "print(\"F1-Score:\", f1_score(y_test, y_test_pred, average='weighted'))\n",
    "\n",
    "cm_test = confusion_matrix(y_test, y_test_pred)\n",
    "sns.heatmap(cm_test, annot=True, cmap='Purples', fmt='g', cbar=False)\n",
    "plt.title('Confusion Matrix - Test set')\n",
    "plt.xlabel('Predicted')\n",
    "plt.ylabel('True')\n",
    "plt.show()"
   ]
  },
  {
   "cell_type": "markdown",
   "id": "34ddc1fd",
   "metadata": {},
   "source": [
    "## Feature importances\n",
    "\n",
    "The Gradient Boosting provides feature importance as the decision tree-based models because it is impractical to visualize at least 100 trees (default) (Müller and Guido, 2017, p.90). \n",
    "\n",
    "The chart below shows which features contribute the most to the model's predictions."
   ]
  },
  {
   "cell_type": "code",
   "execution_count": 134,
   "id": "9c1d1f50",
   "metadata": {
    "scrolled": true
   },
   "outputs": [
    {
     "data": {
      "image/png": "[encoded data removed]",
      "text/plain": [
       "<Figure size 640x480 with 1 Axes>"
      ]
     },
     "metadata": {},
     "output_type": "display_data"
    }
   ],
   "source": [
    "feature_imp = pd.Series(gb_clf.feature_importances_, index=X.columns).sort_values(ascending=False)\n",
    "bar_color = 'purple'\n",
    "plt.barh(feature_imp.index, feature_imp, color=bar_color)\n",
    "plt.xlabel('Feature Importance')\n",
    "plt.ylabel('Features')\n",
    "plt.title('Gradient Boosting Feature Importance')\n",
    "plt.show()"
   ]
  },
  {
   "cell_type": "markdown",
   "id": "6fde0ad4",
   "metadata": {},
   "source": [
    "As we can see on the chart above, the 'Total pore volume' is the feature most relevant to the models' performance, followed by the 'CO2 uptake' and 'BET surface area'."
   ]
  },
  {
   "cell_type": "markdown",
   "id": "97421299",
   "metadata": {},
   "source": [
    "## Evaluation - Gradient Boosting (GB)"
   ]
  },
  {
   "cell_type": "code",
   "execution_count": 137,
   "id": "cfe7d797",
   "metadata": {},
   "outputs": [
    {
     "name": "stdout",
     "output_type": "stream",
     "text": [
      "+------------+---------+--------+\n",
      "| 10% test   |   Train |   Test |\n",
      "+============+=========+========+\n",
      "| Accuracy   |       1 |      1 |\n",
      "+------------+---------+--------+\n",
      "| Precision  |       1 |      1 |\n",
      "+------------+---------+--------+\n",
      "| Recall     |       1 |      1 |\n",
      "+------------+---------+--------+\n",
      "| F1 Score   |       1 |      1 |\n",
      "+------------+---------+--------+\n",
      "+------------+---------+--------+\n",
      "| 20% test   |   Train |   Test |\n",
      "+============+=========+========+\n",
      "| Accuracy   |       1 |  0.75  |\n",
      "+------------+---------+--------+\n",
      "| Precision  |       1 |  0.857 |\n",
      "+------------+---------+--------+\n",
      "| Recall     |       1 |  0.75  |\n",
      "+------------+---------+--------+\n",
      "| F1 Score   |       1 |  0.74  |\n",
      "+------------+---------+--------+\n",
      "+------------+---------+--------+\n",
      "| 30% test   |   Train |   Test |\n",
      "+============+=========+========+\n",
      "| Accuracy   |       1 | 0.6666 |\n",
      "+------------+---------+--------+\n",
      "| Precision  |       1 | 0.6879 |\n",
      "+------------+---------+--------+\n",
      "| Recall     |       1 | 0.6666 |\n",
      "+------------+---------+--------+\n",
      "| F1 Score   |       1 | 0.6508 |\n",
      "+------------+---------+--------+\n"
     ]
    },
    {
     "data": {
      "image/png": "[encoded data removed]",
      "text/plain": [
       "<Figure size 640x480 with 1 Axes>"
      ]
     },
     "metadata": {},
     "output_type": "display_data"
    },
    {
     "data": {
      "image/png": "[encoded data removed]",
      "text/plain": [
       "<Figure size 640x480 with 1 Axes>"
      ]
     },
     "metadata": {},
     "output_type": "display_data"
    },
    {
     "data": {
      "image/png": "[encoded data removed]",
      "text/plain": [
       "<Figure size 640x480 with 1 Axes>"
      ]
     },
     "metadata": {},
     "output_type": "display_data"
    }
   ],
   "source": [
    "data = [\n",
    "    [\"Accuracy\", 1.0, 1.0],\n",
    "    [\"Precision\", 1.0, 1.0],\n",
    "    [\"Recall\", 1.0, 1.0],\n",
    "    [\"F1 Score\", 1.0, 1.0],\n",
    "]   \n",
    "headers = [\"10% test\", \"Train\", \"Test\"]\n",
    "\n",
    "data1 = [\n",
    "    [\"Accuracy\", 1.0, 0.75],\n",
    "    [\"Precision\", 1.0, 0.857],\n",
    "    [\"Recall\", 1.0, 0.75],\n",
    "    [\"F1 Score\", 1.0, 0.74],\n",
    "]   \n",
    "headers1 = [\"20% test\", \"Train\", \"Test\"]\n",
    "\n",
    "data2 = [\n",
    "    [\"Accuracy\", 1.0, 0.6666],\n",
    "    [\"Precision\", 1.0, 0.6879],\n",
    "    [\"Recall\", 1.0, 0.6666],\n",
    "    [\"F1 Score\", 1.0, 0.6508],\n",
    "]   \n",
    "headers2 = [\"30% test\", \"Train\", \"Test\"]\n",
    "print(tabulate(data, headers=headers, tablefmt=\"grid\"))\n",
    "print(tabulate(data1, headers=headers1, tablefmt=\"grid\"))\n",
    "print(tabulate(data2, headers=headers2, tablefmt=\"grid\"))\n",
    "\n",
    "def plot_data(data, headers, title):\n",
    "    categories = [row[0] for row in data]\n",
    "    values_train = [row[1] for row in data]\n",
    "    values_test = [row[2] for row in data]\n",
    "\n",
    "    bar_width = 0.35\n",
    "    index = np.arange(len(categories))\n",
    "\n",
    "    fig, ax = plt.subplots()\n",
    "    train_bars = ax.bar(index, values_train, bar_width, label=\"Train\")\n",
    "    test_bars = ax.bar(index + bar_width, values_test, bar_width, label=\"Test\")\n",
    "\n",
    "    ax.set_xlabel(\"Metrics\")\n",
    "    ax.set_ylabel(\"Values\")\n",
    "    ax.set_title(title)\n",
    "    ax.set_xticks(index + bar_width / 2)\n",
    "    ax.set_xticklabels(categories)\n",
    "    ax.legend()\n",
    "\n",
    "    plt.show()\n",
    "\n",
    "plot_data(data, headers, \"GB, 10% test\")\n",
    "plot_data(data1, headers1, \"GB, 20% test\")\n",
    "plot_data(data2, headers2, \"GB, 30% test\")"
   ]
  },
  {
   "cell_type": "markdown",
   "id": "9a0f5b10",
   "metadata": {},
   "source": [
    "The Gradient Boosting presented better performance than the k-NN model; however, the training set is likely to be overfitting because its accuracy is 100%, but when we see the test set, the split of 20% provided better metrics than the other. Thus, I will focus on the 20% test split for hyperparameters adjustment. \n",
    "\n",
    "In the next step, I will adjust hyperparameters like learning_rate that controls how strong each tree makes corrections of the previous trees, as well as the n_estimators and maximum depth that are the main parameters for this model (Müller and Guido, 2017, p.89,91). "
   ]
  },
  {
   "cell_type": "markdown",
   "id": "edcfa2c9",
   "metadata": {},
   "source": [
    "#### Adjusting hyperparameters"
   ]
  },
  {
   "cell_type": "code",
   "execution_count": 140,
   "id": "05b3d746",
   "metadata": {},
   "outputs": [
    {
     "name": "stdout",
     "output_type": "stream",
     "text": [
      "+--------------------------------------------------------------+---------+--------+\n",
      "| max_depth=1, n_estimators=100, learning_rate=0.1, 20% test   |   Train |   Test |\n",
      "+==============================================================+=========+========+\n",
      "| Accuracy                                                     |       1 |   0.67 |\n",
      "+--------------------------------------------------------------+---------+--------+\n",
      "| Precision                                                    |       1 |   0.71 |\n",
      "+--------------------------------------------------------------+---------+--------+\n",
      "| Recall                                                       |       1 |   0.67 |\n",
      "+--------------------------------------------------------------+---------+--------+\n",
      "| F1 Score                                                     |       1 |   0.67 |\n",
      "+--------------------------------------------------------------+---------+--------+\n",
      "+--------------------------------------------------------------+---------+--------+\n",
      "| max_depth=2, n_estimators=100, learning_rate=0.1, 20% test   |   Train |   Test |\n",
      "+==============================================================+=========+========+\n",
      "| Accuracy                                                     |       1 |   0.75 |\n",
      "+--------------------------------------------------------------+---------+--------+\n",
      "| Precision                                                    |       1 |   0.86 |\n",
      "+--------------------------------------------------------------+---------+--------+\n",
      "| Recall                                                       |       1 |   0.75 |\n",
      "+--------------------------------------------------------------+---------+--------+\n",
      "| F1 Score                                                     |       1 |   0.74 |\n",
      "+--------------------------------------------------------------+---------+--------+\n",
      "+--------------------------------------------------------------+---------+--------+\n",
      "| max_depth=3, n_estimators=100, learning_rate=0.1, 20% test   |   Train |   Test |\n",
      "+==============================================================+=========+========+\n",
      "| Accuracy                                                     |       1 |   0.67 |\n",
      "+--------------------------------------------------------------+---------+--------+\n",
      "| Precision                                                    |       1 |   0.78 |\n",
      "+--------------------------------------------------------------+---------+--------+\n",
      "| Recall                                                       |       1 |   0.67 |\n",
      "+--------------------------------------------------------------+---------+--------+\n",
      "| F1 Score                                                     |       1 |   0.67 |\n",
      "+--------------------------------------------------------------+---------+--------+\n",
      "+--------------------------------------------------------------+---------+--------+\n",
      "| max_depth=4, n_estimators=100, learning_rate=0.1, 20% test   |   Train |   Test |\n",
      "+==============================================================+=========+========+\n",
      "| Accuracy                                                     |       1 |   0.75 |\n",
      "+--------------------------------------------------------------+---------+--------+\n",
      "| Precision                                                    |       1 |   0.68 |\n",
      "+--------------------------------------------------------------+---------+--------+\n",
      "| Recall                                                       |       1 |   0.75 |\n",
      "+--------------------------------------------------------------+---------+--------+\n",
      "| F1 Score                                                     |       1 |   0.74 |\n",
      "+--------------------------------------------------------------+---------+--------+\n"
     ]
    }
   ],
   "source": [
    "data = [\n",
    "    [\"Accuracy\", 1.0, 0.67],\n",
    "    [\"Precision\", 1.0, 0.71],\n",
    "    [\"Recall\", 1.0, 0.67],\n",
    "    [\"F1 Score\", 1.0, 0.67],\n",
    "]   \n",
    "headers = [\"max_depth=1, n_estimators=100, learning_rate=0.1, 20% test\", \"Train\", \"Test\"]\n",
    "\n",
    "data1 = [\n",
    "    [\"Accuracy\", 1.0, 0.75],\n",
    "    [\"Precision\", 1.0, 0.86],\n",
    "    [\"Recall\", 1.0, 0.75],\n",
    "    [\"F1 Score\", 1.0, 0.74],\n",
    "]   \n",
    "headers1 = [\"max_depth=2, n_estimators=100, learning_rate=0.1, 20% test\", \"Train\", \"Test\"]\n",
    "\n",
    "data2 = [\n",
    "    [\"Accuracy\", 1.0, 0.67],\n",
    "    [\"Precision\", 1.0, 0.78],\n",
    "    [\"Recall\", 1.0, 0.67],\n",
    "    [\"F1 Score\", 1.0, 0.67],\n",
    "]   \n",
    "headers2 = [\"max_depth=3, n_estimators=100, learning_rate=0.1, 20% test\", \"Train\", \"Test\"]\n",
    "\n",
    "data3 = [\n",
    "    [\"Accuracy\", 1.0, 0.75],\n",
    "    [\"Precision\", 1.0, 0.68],\n",
    "    [\"Recall\", 1.0, 0.75],\n",
    "    [\"F1 Score\", 1.0, 0.74],\n",
    "]   \n",
    "headers3 = [\"max_depth=4, n_estimators=100, learning_rate=0.1, 20% test\", \"Train\", \"Test\"]\n",
    "\n",
    "print(tabulate(data, headers=headers, tablefmt=\"grid\"))\n",
    "print(tabulate(data1, headers=headers1, tablefmt=\"grid\"))\n",
    "print(tabulate(data2, headers=headers2, tablefmt=\"grid\"))\n",
    "print(tabulate(data3, headers=headers3, tablefmt=\"grid\"))\n"
   ]
  },
  {
   "cell_type": "markdown",
   "id": "4b7f16a8",
   "metadata": {},
   "source": [
    "The table above shows that the train set was overfitted for all 'max_depth' tested. However, the minimum 'max_depth=2' achieved the best values for the metrics in the test set, and this information will be used to evaluate if changing the 'learning_rate' will be possible to find better metrics inclusive for the training set."
   ]
  },
  {
   "cell_type": "code",
   "execution_count": 142,
   "id": "a455c1d7",
   "metadata": {},
   "outputs": [
    {
     "name": "stdout",
     "output_type": "stream",
     "text": [
      "+--------------------------------------------------------------+---------+--------+\n",
      "| max_depth=2, n_estimators=100, learning_rate=0.1, 20% test   |   Train |   Test |\n",
      "+==============================================================+=========+========+\n",
      "| Accuracy                                                     |       1 |   0.75 |\n",
      "+--------------------------------------------------------------+---------+--------+\n",
      "| Precision                                                    |       1 |   0.86 |\n",
      "+--------------------------------------------------------------+---------+--------+\n",
      "| Recall                                                       |       1 |   0.75 |\n",
      "+--------------------------------------------------------------+---------+--------+\n",
      "| F1 Score                                                     |       1 |   0.74 |\n",
      "+--------------------------------------------------------------+---------+--------+\n",
      "+---------------------------------------------------------------+---------+--------+\n",
      "| max_depth=2, n_estimators=100, learning_rate=0.01, 20% test   |   Train |   Test |\n",
      "+===============================================================+=========+========+\n",
      "| Accuracy                                                      |    0.95 |   0.75 |\n",
      "+---------------------------------------------------------------+---------+--------+\n",
      "| Precision                                                     |    0.96 |   0.86 |\n",
      "+---------------------------------------------------------------+---------+--------+\n",
      "| Recall                                                        |    0.95 |   0.75 |\n",
      "+---------------------------------------------------------------+---------+--------+\n",
      "| F1 Score                                                      |    0.95 |   0.74 |\n",
      "+---------------------------------------------------------------+---------+--------+\n"
     ]
    },
    {
     "data": {
      "image/png": "[encoded data removed]",
      "text/plain": [
       "<Figure size 640x480 with 1 Axes>"
      ]
     },
     "metadata": {},
     "output_type": "display_data"
    },
    {
     "data": {
      "image/png": "[encoded data removed]",
      "text/plain": [
       "<Figure size 640x480 with 1 Axes>"
      ]
     },
     "metadata": {},
     "output_type": "display_data"
    }
   ],
   "source": [
    "data = [\n",
    "    [\"Accuracy\", 1.0, 0.75],\n",
    "    [\"Precision\", 1.0, 0.86],\n",
    "    [\"Recall\", 1.0, 0.75],\n",
    "    [\"F1 Score\", 1.0, 0.74],\n",
    "]   \n",
    "headers = [\"max_depth=2, n_estimators=100, learning_rate=0.1, 20% test\", \"Train\", \"Test\"]\n",
    "\n",
    "data1 = [\n",
    "    [\"Accuracy\", 0.95, 0.75],\n",
    "    [\"Precision\", 0.96, 0.86],\n",
    "    [\"Recall\", 0.95, 0.75],\n",
    "    [\"F1 Score\", 0.95, 0.74],\n",
    "]   \n",
    "headers1 = [\"max_depth=2, n_estimators=100, learning_rate=0.01, 20% test\", \"Train\", \"Test\"]\n",
    "\n",
    "print(tabulate(data, headers=headers, tablefmt=\"grid\"))\n",
    "print(tabulate(data1, headers=headers1, tablefmt=\"grid\"))\n",
    "\n",
    "def plot_data(data, headers, title):\n",
    "    categories = [row[0] for row in data]\n",
    "    values_train = [row[1] for row in data]\n",
    "    values_test = [row[2] for row in data]\n",
    "\n",
    "    bar_width = 0.35\n",
    "    index = np.arange(len(categories))\n",
    "\n",
    "    fig, ax = plt.subplots()\n",
    "    train_bars = ax.bar(index, values_train, bar_width, label=\"Train\")\n",
    "    test_bars = ax.bar(index + bar_width, values_test, bar_width, label=\"Test\")\n",
    "\n",
    "    ax.set_xlabel(\"Metrics\")\n",
    "    ax.set_ylabel(\"Values\")\n",
    "    ax.set_title(title)\n",
    "    ax.set_xticks(index + bar_width / 2)\n",
    "    ax.set_xticklabels(categories)\n",
    "    ax.legend()\n",
    "\n",
    "    plt.show()\n",
    "\n",
    "plot_data(data, headers, \"max_depth=2, n_estimators=100, learning_rate=0.1, 20% test\")\n",
    "plot_data(data1, headers1, \"max_depth=2, n_estimators=100, learning_rate=0.01, 20% test\")"
   ]
  },
  {
   "cell_type": "markdown",
   "id": "04cd8335",
   "metadata": {},
   "source": [
    "As we can see on the table and charts above the 'learning_rate=0.01' resulted in a model that is can generalize well without overfitting."
   ]
  },
  {
   "cell_type": "markdown",
   "id": "19f852fb",
   "metadata": {},
   "source": [
    "## Models assessment"
   ]
  },
  {
   "cell_type": "markdown",
   "id": "c27ee6cb",
   "metadata": {},
   "source": [
    "Now, I will compare the two models (k-NN and GB), considering the best setting obtained for each one.\n",
    "\n",
    "The chart below shows that despite the trials to improve the k-NN models' performance, it resulted in poorly performance in both training and test sets, meaning that this model is not capable of generalising well because it is underfitting, probability because the model is basic and the amount of data is too small.\n",
    "\n",
    "Regarding the Gradient Boosting, we can see a significant improvement in comparison with k-NN, mainly for the accuracy that increased 17.22% in the training set and 8.33% in the test set. It suggests that this model can generalise well; however, the test set has room for improvement. In addition, the 'Total pore volume'  was the feature that contributed most to the model's predictions, followed by the 'CO2 uptake' and 'BET surface area'."
   ]
  },
  {
   "cell_type": "code",
   "execution_count": 146,
   "id": "54da0a50",
   "metadata": {},
   "outputs": [
    {
     "name": "stdout",
     "output_type": "stream",
     "text": [
      "+-----------+--------+------+\n",
      "| Metrics   |   k-NN |   GB |\n",
      "+===========+========+======+\n",
      "| Acc_Tr    | 0.7778 | 0.95 |\n",
      "+-----------+--------+------+\n",
      "| Acc_Te    | 0.6667 | 0.75 |\n",
      "+-----------+--------+------+\n",
      "| Prec_Tr   | 0.7766 | 0.96 |\n",
      "+-----------+--------+------+\n",
      "| Prec_Te   | 0.8889 | 0.86 |\n",
      "+-----------+--------+------+\n",
      "| Rec_Tr    | 0.7778 | 0.95 |\n",
      "+-----------+--------+------+\n",
      "| Rec_Te    | 0.6667 | 0.75 |\n",
      "+-----------+--------+------+\n",
      "| F1_Tr     | 0.7703 | 0.95 |\n",
      "+-----------+--------+------+\n",
      "| F1_Te     | 0.6667 | 0.74 |\n",
      "+-----------+--------+------+\n",
      "k-NN: n_neighbors=3, metric='manhattan', 20% test\n",
      "GB: max_depth=2, n_estimators=100, learning_rate=0.01, 20% test\n"
     ]
    },
    {
     "data": {
      "image/png": "[encoded data removed]",
      "text/plain": [
       "<Figure size 1000x600 with 1 Axes>"
      ]
     },
     "metadata": {},
     "output_type": "display_data"
    }
   ],
   "source": [
    "data = [\n",
    "    [\"Acc_Tr\", 0.7778, 0.95],\n",
    "    [\"Acc_Te\", 0.6667, 0.75],\n",
    "    [\"Prec_Tr\", 0.7766, 0.96],\n",
    "    [\"Prec_Te\", 0.8889, 0.86],\n",
    "    [\"Rec_Tr\", 0.7778, 0.95],\n",
    "    [\"Rec_Te\", 0.6667, 0.75],\n",
    "    [\"F1_Tr\", 0.7703, 0.95],\n",
    "    [\"F1_Te\", 0.6667, 0.74],\n",
    "]\n",
    "headers = [\"Metrics\", \"k-NN\", \"GB\"]\n",
    "print(tabulate(data, headers=headers, tablefmt=\"grid\"))\n",
    "print(\"k-NN: n_neighbors=3, metric='manhattan', 20% test\")\n",
    "print(\"GB: max_depth=2, n_estimators=100, learning_rate=0.01, 20% test\")\n",
    "\n",
    "parameters = [row[0] for row in data]\n",
    "values_kNN = [row[1] for row in data]\n",
    "values_GB = [row[2] for row in data]\n",
    "\n",
    "bar_width = 0.3\n",
    "index = np.arange(len(parameters))\n",
    "figsize = (10,6)\n",
    "plt.figure(figsize=figsize)\n",
    "\n",
    "plt.bar(index, values_kNN, width=bar_width, label=headers[1], color='lightblue')\n",
    "plt.bar(index + bar_width, values_GB, width=bar_width, label=headers[2], color='purple')\n",
    "#plt.bar(index + 2 * bar_width, values_RF_PCA, width=bar_width, label=headers[3])\n",
    "\n",
    "plt.xlabel('Metrics')\n",
    "plt.ylabel('Values')\n",
    "plt.title('Performance of Different Models')\n",
    "plt.xticks(index + bar_width, parameters)\n",
    "plt.legend()\n",
    "plt.show()"
   ]
  },
  {
   "cell_type": "markdown",
   "id": "94965ba9",
   "metadata": {},
   "source": [
    "## Grid Search to Find Optimal Hyperparameters - GB"
   ]
  },
  {
   "cell_type": "code",
   "execution_count": 148,
   "id": "22debebf",
   "metadata": {},
   "outputs": [],
   "source": [
    "param_grid = {\n",
    "    'n_estimators': [100, 150, 200, 1000],\n",
    "    'learning_rate': [0.01, 0.03, 0.05, 0.07, 0.1],\n",
    "    'max_depth': [1, 2, 3, 5, 7, 10, 20],\n",
    "    'min_samples_leaf': [1, 2, 3, 4], \n",
    "    'min_samples_split': [2, 3],\n",
    "    'subsample': [0.1, 0.3, 0.5, 0.8]\n",
    "}\n",
    "# Create a based model\n",
    "gb_clf = GradientBoostingClassifier()\n",
    "# Instantiate the grid search model\n",
    "grid_search = GridSearchCV(estimator = gb_clf, param_grid = param_grid, \n",
    "                          cv = 5, n_jobs = -1,verbose = 1)"
   ]
  },
  {
   "cell_type": "markdown",
   "id": "4191be81",
   "metadata": {},
   "source": [
    "The code below fits the grid search to the data. As running takes a lot of time, I used the # simbol to avoid it.  "
   ]
  },
  {
   "cell_type": "code",
   "execution_count": 150,
   "id": "3aa4df7c",
   "metadata": {
    "scrolled": true
   },
   "outputs": [],
   "source": [
    "#grid_search.fit(X_train, y_train)"
   ]
  },
  {
   "cell_type": "markdown",
   "id": "0c2954ca",
   "metadata": {},
   "source": [
    "Below will print the optimal accuracy score and hyperparameters"
   ]
  },
  {
   "cell_type": "code",
   "execution_count": 152,
   "id": "96744a82",
   "metadata": {},
   "outputs": [],
   "source": [
    "#print('We can get accuracy of',grid_search.best_score_,'using',grid_search.best_params_)"
   ]
  },
  {
   "cell_type": "code",
   "execution_count": 153,
   "id": "ddbd3613",
   "metadata": {},
   "outputs": [
    {
     "data": {
      "text/plain": [
       "((45, 3), (12, 3), (45,), (12,))"
      ]
     },
     "execution_count": 153,
     "metadata": {},
     "output_type": "execute_result"
    }
   ],
   "source": [
    "X_train, X_test, y_train, y_test = train_test_split(X, y, test_size=0.2, random_state=12)\n",
    "\n",
    "X_train.shape, X_test.shape, y_train.shape, y_test.shape"
   ]
  },
  {
   "cell_type": "code",
   "execution_count": 154,
   "id": "b669a865",
   "metadata": {},
   "outputs": [],
   "source": [
    "gb_clf = GradientBoostingClassifier(learning_rate=0.03, max_depth=1, min_samples_leaf=1, min_samples_split=2, n_estimators=150, subsample=0.1, random_state=12)\n",
    "\n",
    "y_train_pred = cross_val_predict(gb_clf, X_train, y_train, cv=5)"
   ]
  },
  {
   "cell_type": "code",
   "execution_count": 155,
   "id": "25ab3d4f",
   "metadata": {},
   "outputs": [],
   "source": [
    "gb_clf.fit(X_train, y_train)\n",
    "\n",
    "y_train_pred = gb_clf.predict(X_train)\n",
    "\n",
    "y_test_pred = gb_clf.predict(X_test)"
   ]
  },
  {
   "cell_type": "code",
   "execution_count": 156,
   "id": "1673132d",
   "metadata": {},
   "outputs": [
    {
     "name": "stdout",
     "output_type": "stream",
     "text": [
      "Training Set Metrics:\n",
      "Accuracy: 0.7777777777777778\n",
      "Precision: 0.7768416768416769\n",
      "Recall: 0.7777777777777778\n",
      "F1-Score: 0.7700710811821924\n"
     ]
    },
    {
     "data": {
      "image/png": "[encoded data removed]",
      "text/plain": [
       "<Figure size 640x480 with 1 Axes>"
      ]
     },
     "metadata": {},
     "output_type": "display_data"
    }
   ],
   "source": [
    "print(\"Training Set Metrics:\")\n",
    "print(\"Accuracy:\", accuracy_score(y_train, y_train_pred))\n",
    "print(\"Precision:\", precision_score(y_train, y_train_pred, average='weighted'))\n",
    "print(\"Recall:\", recall_score(y_train, y_train_pred, average='weighted'))\n",
    "print(\"F1-Score:\", f1_score(y_train, y_train_pred, average='weighted'))\n",
    "\n",
    "cm_test = confusion_matrix(y_train, y_train_pred)\n",
    "sns.heatmap(cm_test, annot=True, cmap='Purples', fmt='g', cbar=False)\n",
    "plt.title('Confusion Matrix - Training set')\n",
    "plt.xlabel('Predicted')\n",
    "plt.ylabel('True')\n",
    "plt.show()"
   ]
  },
  {
   "cell_type": "code",
   "execution_count": 157,
   "id": "d3daa6c1",
   "metadata": {},
   "outputs": [
    {
     "name": "stdout",
     "output_type": "stream",
     "text": [
      "\n",
      "Test Set Metrics:\n",
      "Accuracy: 0.8333333333333334\n",
      "Precision: 0.9166666666666666\n",
      "Recall: 0.8333333333333334\n",
      "F1-Score: 0.8333333333333334\n"
     ]
    },
    {
     "data": {
      "image/png": "[encoded data removed]",
      "text/plain": [
       "<Figure size 640x480 with 1 Axes>"
      ]
     },
     "metadata": {},
     "output_type": "display_data"
    }
   ],
   "source": [
    "print(\"\\nTest Set Metrics:\")\n",
    "print(\"Accuracy:\", accuracy_score(y_test, y_test_pred))\n",
    "print(\"Precision:\", precision_score(y_test, y_test_pred, average='weighted'))\n",
    "print(\"Recall:\", recall_score(y_test, y_test_pred, average='weighted'))\n",
    "print(\"F1-Score:\", f1_score(y_test, y_test_pred, average='weighted'))\n",
    "\n",
    "cm_test = confusion_matrix(y_test, y_test_pred)\n",
    "sns.heatmap(cm_test, annot=True, cmap='Purples', fmt='g', cbar=False)\n",
    "plt.title('Confusion Matrix - Test set')\n",
    "plt.xlabel('Predicted')\n",
    "plt.ylabel('True')\n",
    "plt.show()"
   ]
  },
  {
   "cell_type": "code",
   "execution_count": 158,
   "id": "ce78ecf9",
   "metadata": {
    "scrolled": true
   },
   "outputs": [
    {
     "data": {
      "image/png": "[encoded data removed]",
      "text/plain": [
       "<Figure size 640x480 with 1 Axes>"
      ]
     },
     "metadata": {},
     "output_type": "display_data"
    }
   ],
   "source": [
    "feature_imp = pd.Series(gb_clf.feature_importances_, index=X.columns).sort_values(ascending=False)\n",
    "bar_color = 'orange'\n",
    "plt.barh(feature_imp.index, feature_imp, color=bar_color)\n",
    "plt.xlabel('Feature Importance')\n",
    "plt.ylabel('Features')\n",
    "plt.title('Gradient Boosting Feature Importance')\n",
    "plt.show()"
   ]
  },
  {
   "cell_type": "markdown",
   "id": "41aff983",
   "metadata": {},
   "source": [
    "As we can see in the chart above, the hyperparameter adjustments improved inclusively the feature's importance. In this case, CO<sub>2</sub> was the main feature that contributed to the model's performance."
   ]
  },
  {
   "cell_type": "markdown",
   "id": "4e8c128f",
   "metadata": {},
   "source": [
    "#### Results of Grid search - GB"
   ]
  },
  {
   "cell_type": "code",
   "execution_count": 161,
   "id": "30d7710f",
   "metadata": {},
   "outputs": [
    {
     "name": "stdout",
     "output_type": "stream",
     "text": [
      "+---------------------+---------+--------+\n",
      "| Metrics, 20% test   |   Train |   Test |\n",
      "+=====================+=========+========+\n",
      "| Accuracy            |   0.8   | 0.833  |\n",
      "+---------------------+---------+--------+\n",
      "| Precision           |   0.805 | 0.916  |\n",
      "+---------------------+---------+--------+\n",
      "| Recall              |   0.8   | 0.833  |\n",
      "+---------------------+---------+--------+\n",
      "| F1 Score            |   0.79  | 0.8333 |\n",
      "+---------------------+---------+--------+\n",
      "Grid Search - GB: learning_rate=0.03, max_depth=1, min_samples_leaf=1, min_samples_split=2, n_estimators=150, subsample=0.1\n"
     ]
    },
    {
     "data": {
      "image/png": "[encoded data removed]",
      "text/plain": [
       "<Figure size 640x480 with 1 Axes>"
      ]
     },
     "metadata": {},
     "output_type": "display_data"
    }
   ],
   "source": [
    "data = [\n",
    "    [\"Accuracy\", 0.8, 0.833],\n",
    "    [\"Precision\", 0.805, 0.916],\n",
    "    [\"Recall\", 0.8, 0.833],\n",
    "    [\"F1 Score\", 0.790, 0.8333],\n",
    "]   \n",
    "headers = [\"Metrics, 20% test\", \"Train\", \"Test\"]\n",
    "\n",
    "print(tabulate(data, headers=headers, tablefmt=\"grid\"))\n",
    "print(\"Grid Search - GB: learning_rate=0.03, max_depth=1, min_samples_leaf=1, min_samples_split=2, n_estimators=150, subsample=0.1\")\n",
    "\n",
    "def plot_data(data, headers, title):\n",
    "    categories = [row[0] for row in data]\n",
    "    values_train = [row[1] for row in data]\n",
    "    values_test = [row[2] for row in data]\n",
    "\n",
    "    bar_width = 0.35\n",
    "    index = np.arange(len(categories))\n",
    "\n",
    "    fig, ax = plt.subplots()\n",
    "    train_bars = ax.bar(index, values_train, bar_width, label=\"Train\")\n",
    "    test_bars = ax.bar(index + bar_width, values_test, bar_width, label=\"Test\")\n",
    "\n",
    "    ax.set_xlabel(\"Metrics\")\n",
    "    ax.set_ylabel(\"Values\")\n",
    "    ax.set_title(title)\n",
    "    ax.set_xticks(index + bar_width / 2)\n",
    "    ax.set_xticklabels(categories)\n",
    "    ax.legend(loc='lower left')\n",
    "\n",
    "    plt.show()\n",
    "\n",
    "plot_data(data, headers, \"Grid Search - GB: learning_rate=0.03, max_depth=1, min_samples_leaf=1, min_samples_split=2, n_estimators=150, subsample=0.1, 20% test\")"
   ]
  },
  {
   "cell_type": "markdown",
   "id": "cddddfed",
   "metadata": {},
   "source": [
    "## Gradient Boosting - SMOTE "
   ]
  },
  {
   "cell_type": "code",
   "execution_count": 163,
   "id": "2948c448",
   "metadata": {},
   "outputs": [
    {
     "data": {
      "text/plain": [
       "((45, 3), (12, 3), (45,), (12,))"
      ]
     },
     "execution_count": 163,
     "metadata": {},
     "output_type": "execute_result"
    }
   ],
   "source": [
    "X_train, X_test, y_train, y_test = train_test_split(X, y, test_size=0.2, random_state=56)\n",
    "X_train.shape, X_test.shape, y_train.shape, y_test.shape"
   ]
  },
  {
   "cell_type": "markdown",
   "id": "e2a50679",
   "metadata": {},
   "source": [
    "I am Applying SMOTE to the training set only. If I apply it to the entire dataset, it will result in an overfit of the negative class, which will generate excellent metrics but not in accordance with the real dataset."
   ]
  },
  {
   "cell_type": "code",
   "execution_count": 165,
   "id": "5a051c8a",
   "metadata": {},
   "outputs": [
    {
     "data": {
      "text/plain": [
       "((48, 3), (48,))"
      ]
     },
     "execution_count": 165,
     "metadata": {},
     "output_type": "execute_result"
    }
   ],
   "source": [
    "smote = SMOTE(random_state=42)\n",
    "X_train_resampled, y_train_resampled = smote.fit_resample(X_train, y_train)\n",
    "X_train_resampled.shape, y_train_resampled.shape"
   ]
  },
  {
   "cell_type": "markdown",
   "id": "f8fc280e",
   "metadata": {},
   "source": [
    "I will use the code below to call the Gradient Boosting Classifier with the data balanced (SMOTE), and then I will train the model using the training sets and make predictions on the test set."
   ]
  },
  {
   "cell_type": "code",
   "execution_count": 167,
   "id": "27b62e77",
   "metadata": {},
   "outputs": [],
   "source": [
    "gb_clf_smote = GradientBoostingClassifier(learning_rate=0.03, max_depth=1, min_samples_leaf=1, min_samples_split=2, n_estimators=150, subsample=0.1, random_state=12)\n",
    "\n",
    "y_train_pred = cross_val_predict(gb_clf_smote, X_train_resampled, y_train_resampled, cv=5)"
   ]
  },
  {
   "cell_type": "code",
   "execution_count": 168,
   "id": "0032ecb2",
   "metadata": {
    "scrolled": true
   },
   "outputs": [
    {
     "data": {
      "text/html": [
       "<style>#sk-container-id-2 {\n",
       "  /* Definition of color scheme common for light and dark mode */\n",
       "  --sklearn-color-text: black;\n",
       "  --sklearn-color-line: gray;\n",
       "  /* Definition of color scheme for unfitted estimators */\n",
       "  --sklearn-color-unfitted-level-0: #fff5e6;\n",
       "  --sklearn-color-unfitted-level-1: #f6e4d2;\n",
       "  --sklearn-color-unfitted-level-2: #ffe0b3;\n",
       "  --sklearn-color-unfitted-level-3: chocolate;\n",
       "  /* Definition of color scheme for fitted estimators */\n",
       "  --sklearn-color-fitted-level-0: #f0f8ff;\n",
       "  --sklearn-color-fitted-level-1: #d4ebff;\n",
       "  --sklearn-color-fitted-level-2: #b3dbfd;\n",
       "  --sklearn-color-fitted-level-3: cornflowerblue;\n",
       "\n",
       "  /* Specific color for light theme */\n",
       "  --sklearn-color-text-on-default-background: var(--sg-text-color, var(--theme-code-foreground, var(--jp-content-font-color1, black)));\n",
       "  --sklearn-color-background: var(--sg-background-color, var(--theme-background, var(--jp-layout-color0, white)));\n",
       "  --sklearn-color-border-box: var(--sg-text-color, var(--theme-code-foreground, var(--jp-content-font-color1, black)));\n",
       "  --sklearn-color-icon: #696969;\n",
       "\n",
       "  @media (prefers-color-scheme: dark) {\n",
       "    /* Redefinition of color scheme for dark theme */\n",
       "    --sklearn-color-text-on-default-background: var(--sg-text-color, var(--theme-code-foreground, var(--jp-content-font-color1, white)));\n",
       "    --sklearn-color-background: var(--sg-background-color, var(--theme-background, var(--jp-layout-color0, #111)));\n",
       "    --sklearn-color-border-box: var(--sg-text-color, var(--theme-code-foreground, var(--jp-content-font-color1, white)));\n",
       "    --sklearn-color-icon: #878787;\n",
       "  }\n",
       "}\n",
       "\n",
       "#sk-container-id-2 {\n",
       "  color: var(--sklearn-color-text);\n",
       "}\n",
       "\n",
       "#sk-container-id-2 pre {\n",
       "  padding: 0;\n",
       "}\n",
       "\n",
       "#sk-container-id-2 input.sk-hidden--visually {\n",
       "  border: 0;\n",
       "  clip: rect(1px 1px 1px 1px);\n",
       "  clip: rect(1px, 1px, 1px, 1px);\n",
       "  height: 1px;\n",
       "  margin: -1px;\n",
       "  overflow: hidden;\n",
       "  padding: 0;\n",
       "  position: absolute;\n",
       "  width: 1px;\n",
       "}\n",
       "\n",
       "#sk-container-id-2 div.sk-dashed-wrapped {\n",
       "  border: 1px dashed var(--sklearn-color-line);\n",
       "  margin: 0 0.4em 0.5em 0.4em;\n",
       "  box-sizing: border-box;\n",
       "  padding-bottom: 0.4em;\n",
       "  background-color: var(--sklearn-color-background);\n",
       "}\n",
       "\n",
       "#sk-container-id-2 div.sk-container {\n",
       "  /* jupyter's `normalize.less` sets `[hidden] { display: none; }`\n",
       "     but bootstrap.min.css set `[hidden] { display: none !important; }`\n",
       "     so we also need the `!important` here to be able to override the\n",
       "     default hidden behavior on the sphinx rendered scikit-learn.org.\n",
       "     See: https://github.com/scikit-learn/scikit-learn/issues/21755 */\n",
       "  display: inline-block !important;\n",
       "  position: relative;\n",
       "}\n",
       "\n",
       "#sk-container-id-2 div.sk-text-repr-fallback {\n",
       "  display: none;\n",
       "}\n",
       "\n",
       "div.sk-parallel-item,\n",
       "div.sk-serial,\n",
       "div.sk-item {\n",
       "  /* draw centered vertical line to link estimators */\n",
       "  background-image: linear-gradient(var(--sklearn-color-text-on-default-background), var(--sklearn-color-text-on-default-background));\n",
       "  background-size: 2px 100%;\n",
       "  background-repeat: no-repeat;\n",
       "  background-position: center center;\n",
       "}\n",
       "\n",
       "/* Parallel-specific style estimator block */\n",
       "\n",
       "#sk-container-id-2 div.sk-parallel-item::after {\n",
       "  content: \"\";\n",
       "  width: 100%;\n",
       "  border-bottom: 2px solid var(--sklearn-color-text-on-default-background);\n",
       "  flex-grow: 1;\n",
       "}\n",
       "\n",
       "#sk-container-id-2 div.sk-parallel {\n",
       "  display: flex;\n",
       "  align-items: stretch;\n",
       "  justify-content: center;\n",
       "  background-color: var(--sklearn-color-background);\n",
       "  position: relative;\n",
       "}\n",
       "\n",
       "#sk-container-id-2 div.sk-parallel-item {\n",
       "  display: flex;\n",
       "  flex-direction: column;\n",
       "}\n",
       "\n",
       "#sk-container-id-2 div.sk-parallel-item:first-child::after {\n",
       "  align-self: flex-end;\n",
       "  width: 50%;\n",
       "}\n",
       "\n",
       "#sk-container-id-2 div.sk-parallel-item:last-child::after {\n",
       "  align-self: flex-start;\n",
       "  width: 50%;\n",
       "}\n",
       "\n",
       "#sk-container-id-2 div.sk-parallel-item:only-child::after {\n",
       "  width: 0;\n",
       "}\n",
       "\n",
       "/* Serial-specific style estimator block */\n",
       "\n",
       "#sk-container-id-2 div.sk-serial {\n",
       "  display: flex;\n",
       "  flex-direction: column;\n",
       "  align-items: center;\n",
       "  background-color: var(--sklearn-color-background);\n",
       "  padding-right: 1em;\n",
       "  padding-left: 1em;\n",
       "}\n",
       "\n",
       "\n",
       "/* Toggleable style: style used for estimator/Pipeline/ColumnTransformer box that is\n",
       "clickable and can be expanded/collapsed.\n",
       "- Pipeline and ColumnTransformer use this feature and define the default style\n",
       "- Estimators will overwrite some part of the style using the `sk-estimator` class\n",
       "*/\n",
       "\n",
       "/* Pipeline and ColumnTransformer style (default) */\n",
       "\n",
       "#sk-container-id-2 div.sk-toggleable {\n",
       "  /* Default theme specific background. It is overwritten whether we have a\n",
       "  specific estimator or a Pipeline/ColumnTransformer */\n",
       "  background-color: var(--sklearn-color-background);\n",
       "}\n",
       "\n",
       "/* Toggleable label */\n",
       "#sk-container-id-2 label.sk-toggleable__label {\n",
       "  cursor: pointer;\n",
       "  display: block;\n",
       "  width: 100%;\n",
       "  margin-bottom: 0;\n",
       "  padding: 0.5em;\n",
       "  box-sizing: border-box;\n",
       "  text-align: center;\n",
       "}\n",
       "\n",
       "#sk-container-id-2 label.sk-toggleable__label-arrow:before {\n",
       "  /* Arrow on the left of the label */\n",
       "  content: \"▸\";\n",
       "  float: left;\n",
       "  margin-right: 0.25em;\n",
       "  color: var(--sklearn-color-icon);\n",
       "}\n",
       "\n",
       "#sk-container-id-2 label.sk-toggleable__label-arrow:hover:before {\n",
       "  color: var(--sklearn-color-text);\n",
       "}\n",
       "\n",
       "/* Toggleable content - dropdown */\n",
       "\n",
       "#sk-container-id-2 div.sk-toggleable__content {\n",
       "  max-height: 0;\n",
       "  max-width: 0;\n",
       "  overflow: hidden;\n",
       "  text-align: left;\n",
       "  /* unfitted */\n",
       "  background-color: var(--sklearn-color-unfitted-level-0);\n",
       "}\n",
       "\n",
       "#sk-container-id-2 div.sk-toggleable__content.fitted {\n",
       "  /* fitted */\n",
       "  background-color: var(--sklearn-color-fitted-level-0);\n",
       "}\n",
       "\n",
       "#sk-container-id-2 div.sk-toggleable__content pre {\n",
       "  margin: 0.2em;\n",
       "  border-radius: 0.25em;\n",
       "  color: var(--sklearn-color-text);\n",
       "  /* unfitted */\n",
       "  background-color: var(--sklearn-color-unfitted-level-0);\n",
       "}\n",
       "\n",
       "#sk-container-id-2 div.sk-toggleable__content.fitted pre {\n",
       "  /* unfitted */\n",
       "  background-color: var(--sklearn-color-fitted-level-0);\n",
       "}\n",
       "\n",
       "#sk-container-id-2 input.sk-toggleable__control:checked~div.sk-toggleable__content {\n",
       "  /* Expand drop-down */\n",
       "  max-height: 200px;\n",
       "  max-width: 100%;\n",
       "  overflow: auto;\n",
       "}\n",
       "\n",
       "#sk-container-id-2 input.sk-toggleable__control:checked~label.sk-toggleable__label-arrow:before {\n",
       "  content: \"▾\";\n",
       "}\n",
       "\n",
       "/* Pipeline/ColumnTransformer-specific style */\n",
       "\n",
       "#sk-container-id-2 div.sk-label input.sk-toggleable__control:checked~label.sk-toggleable__label {\n",
       "  color: var(--sklearn-color-text);\n",
       "  background-color: var(--sklearn-color-unfitted-level-2);\n",
       "}\n",
       "\n",
       "#sk-container-id-2 div.sk-label.fitted input.sk-toggleable__control:checked~label.sk-toggleable__label {\n",
       "  background-color: var(--sklearn-color-fitted-level-2);\n",
       "}\n",
       "\n",
       "/* Estimator-specific style */\n",
       "\n",
       "/* Colorize estimator box */\n",
       "#sk-container-id-2 div.sk-estimator input.sk-toggleable__control:checked~label.sk-toggleable__label {\n",
       "  /* unfitted */\n",
       "  background-color: var(--sklearn-color-unfitted-level-2);\n",
       "}\n",
       "\n",
       "#sk-container-id-2 div.sk-estimator.fitted input.sk-toggleable__control:checked~label.sk-toggleable__label {\n",
       "  /* fitted */\n",
       "  background-color: var(--sklearn-color-fitted-level-2);\n",
       "}\n",
       "\n",
       "#sk-container-id-2 div.sk-label label.sk-toggleable__label,\n",
       "#sk-container-id-2 div.sk-label label {\n",
       "  /* The background is the default theme color */\n",
       "  color: var(--sklearn-color-text-on-default-background);\n",
       "}\n",
       "\n",
       "/* On hover, darken the color of the background */\n",
       "#sk-container-id-2 div.sk-label:hover label.sk-toggleable__label {\n",
       "  color: var(--sklearn-color-text);\n",
       "  background-color: var(--sklearn-color-unfitted-level-2);\n",
       "}\n",
       "\n",
       "/* Label box, darken color on hover, fitted */\n",
       "#sk-container-id-2 div.sk-label.fitted:hover label.sk-toggleable__label.fitted {\n",
       "  color: var(--sklearn-color-text);\n",
       "  background-color: var(--sklearn-color-fitted-level-2);\n",
       "}\n",
       "\n",
       "/* Estimator label */\n",
       "\n",
       "#sk-container-id-2 div.sk-label label {\n",
       "  font-family: monospace;\n",
       "  font-weight: bold;\n",
       "  display: inline-block;\n",
       "  line-height: 1.2em;\n",
       "}\n",
       "\n",
       "#sk-container-id-2 div.sk-label-container {\n",
       "  text-align: center;\n",
       "}\n",
       "\n",
       "/* Estimator-specific */\n",
       "#sk-container-id-2 div.sk-estimator {\n",
       "  font-family: monospace;\n",
       "  border: 1px dotted var(--sklearn-color-border-box);\n",
       "  border-radius: 0.25em;\n",
       "  box-sizing: border-box;\n",
       "  margin-bottom: 0.5em;\n",
       "  /* unfitted */\n",
       "  background-color: var(--sklearn-color-unfitted-level-0);\n",
       "}\n",
       "\n",
       "#sk-container-id-2 div.sk-estimator.fitted {\n",
       "  /* fitted */\n",
       "  background-color: var(--sklearn-color-fitted-level-0);\n",
       "}\n",
       "\n",
       "/* on hover */\n",
       "#sk-container-id-2 div.sk-estimator:hover {\n",
       "  /* unfitted */\n",
       "  background-color: var(--sklearn-color-unfitted-level-2);\n",
       "}\n",
       "\n",
       "#sk-container-id-2 div.sk-estimator.fitted:hover {\n",
       "  /* fitted */\n",
       "  background-color: var(--sklearn-color-fitted-level-2);\n",
       "}\n",
       "\n",
       "/* Specification for estimator info (e.g. \"i\" and \"?\") */\n",
       "\n",
       "/* Common style for \"i\" and \"?\" */\n",
       "\n",
       ".sk-estimator-doc-link,\n",
       "a:link.sk-estimator-doc-link,\n",
       "a:visited.sk-estimator-doc-link {\n",
       "  float: right;\n",
       "  font-size: smaller;\n",
       "  line-height: 1em;\n",
       "  font-family: monospace;\n",
       "  background-color: var(--sklearn-color-background);\n",
       "  border-radius: 1em;\n",
       "  height: 1em;\n",
       "  width: 1em;\n",
       "  text-decoration: none !important;\n",
       "  margin-left: 1ex;\n",
       "  /* unfitted */\n",
       "  border: var(--sklearn-color-unfitted-level-1) 1pt solid;\n",
       "  color: var(--sklearn-color-unfitted-level-1);\n",
       "}\n",
       "\n",
       ".sk-estimator-doc-link.fitted,\n",
       "a:link.sk-estimator-doc-link.fitted,\n",
       "a:visited.sk-estimator-doc-link.fitted {\n",
       "  /* fitted */\n",
       "  border: var(--sklearn-color-fitted-level-1) 1pt solid;\n",
       "  color: var(--sklearn-color-fitted-level-1);\n",
       "}\n",
       "\n",
       "/* On hover */\n",
       "div.sk-estimator:hover .sk-estimator-doc-link:hover,\n",
       ".sk-estimator-doc-link:hover,\n",
       "div.sk-label-container:hover .sk-estimator-doc-link:hover,\n",
       ".sk-estimator-doc-link:hover {\n",
       "  /* unfitted */\n",
       "  background-color: var(--sklearn-color-unfitted-level-3);\n",
       "  color: var(--sklearn-color-background);\n",
       "  text-decoration: none;\n",
       "}\n",
       "\n",
       "div.sk-estimator.fitted:hover .sk-estimator-doc-link.fitted:hover,\n",
       ".sk-estimator-doc-link.fitted:hover,\n",
       "div.sk-label-container:hover .sk-estimator-doc-link.fitted:hover,\n",
       ".sk-estimator-doc-link.fitted:hover {\n",
       "  /* fitted */\n",
       "  background-color: var(--sklearn-color-fitted-level-3);\n",
       "  color: var(--sklearn-color-background);\n",
       "  text-decoration: none;\n",
       "}\n",
       "\n",
       "/* Span, style for the box shown on hovering the info icon */\n",
       ".sk-estimator-doc-link span {\n",
       "  display: none;\n",
       "  z-index: 9999;\n",
       "  position: relative;\n",
       "  font-weight: normal;\n",
       "  right: .2ex;\n",
       "  padding: .5ex;\n",
       "  margin: .5ex;\n",
       "  width: min-content;\n",
       "  min-width: 20ex;\n",
       "  max-width: 50ex;\n",
       "  color: var(--sklearn-color-text);\n",
       "  box-shadow: 2pt 2pt 4pt #999;\n",
       "  /* unfitted */\n",
       "  background: var(--sklearn-color-unfitted-level-0);\n",
       "  border: .5pt solid var(--sklearn-color-unfitted-level-3);\n",
       "}\n",
       "\n",
       ".sk-estimator-doc-link.fitted span {\n",
       "  /* fitted */\n",
       "  background: var(--sklearn-color-fitted-level-0);\n",
       "  border: var(--sklearn-color-fitted-level-3);\n",
       "}\n",
       "\n",
       ".sk-estimator-doc-link:hover span {\n",
       "  display: block;\n",
       "}\n",
       "\n",
       "/* \"?\"-specific style due to the `<a>` HTML tag */\n",
       "\n",
       "#sk-container-id-2 a.estimator_doc_link {\n",
       "  float: right;\n",
       "  font-size: 1rem;\n",
       "  line-height: 1em;\n",
       "  font-family: monospace;\n",
       "  background-color: var(--sklearn-color-background);\n",
       "  border-radius: 1rem;\n",
       "  height: 1rem;\n",
       "  width: 1rem;\n",
       "  text-decoration: none;\n",
       "  /* unfitted */\n",
       "  color: var(--sklearn-color-unfitted-level-1);\n",
       "  border: var(--sklearn-color-unfitted-level-1) 1pt solid;\n",
       "}\n",
       "\n",
       "#sk-container-id-2 a.estimator_doc_link.fitted {\n",
       "  /* fitted */\n",
       "  border: var(--sklearn-color-fitted-level-1) 1pt solid;\n",
       "  color: var(--sklearn-color-fitted-level-1);\n",
       "}\n",
       "\n",
       "/* On hover */\n",
       "#sk-container-id-2 a.estimator_doc_link:hover {\n",
       "  /* unfitted */\n",
       "  background-color: var(--sklearn-color-unfitted-level-3);\n",
       "  color: var(--sklearn-color-background);\n",
       "  text-decoration: none;\n",
       "}\n",
       "\n",
       "#sk-container-id-2 a.estimator_doc_link.fitted:hover {\n",
       "  /* fitted */\n",
       "  background-color: var(--sklearn-color-fitted-level-3);\n",
       "}\n",
       "</style><div id=\"sk-container-id-2\" class=\"sk-top-container\"><div class=\"sk-text-repr-fallback\"><pre>GradientBoostingClassifier(learning_rate=0.03, max_depth=1, n_estimators=150,\n",
       "                           random_state=12, subsample=0.1)</pre><b>In a Jupyter environment, please rerun this cell to show the HTML representation or trust the notebook. <br />On GitHub, the HTML representation is unable to render, please try loading this page with nbviewer.org.</b></div><div class=\"sk-container\" hidden><div class=\"sk-item\"><div class=\"sk-estimator fitted sk-toggleable\"><input class=\"sk-toggleable__control sk-hidden--visually\" id=\"sk-estimator-id-2\" type=\"checkbox\" checked><label for=\"sk-estimator-id-2\" class=\"sk-toggleable__label fitted sk-toggleable__label-arrow fitted\">&nbsp;&nbsp;GradientBoostingClassifier<a class=\"sk-estimator-doc-link fitted\" rel=\"noreferrer\" target=\"_blank\" href=\"https://scikit-learn.org/1.4/modules/generated/sklearn.ensemble.GradientBoostingClassifier.html\">?<span>Documentation for GradientBoostingClassifier</span></a><span class=\"sk-estimator-doc-link fitted\">i<span>Fitted</span></span></label><div class=\"sk-toggleable__content fitted\"><pre>GradientBoostingClassifier(learning_rate=0.03, max_depth=1, n_estimators=150,\n",
       "                           random_state=12, subsample=0.1)</pre></div> </div></div></div></div>"
      ],
      "text/plain": [
       "GradientBoostingClassifier(learning_rate=0.03, max_depth=1, n_estimators=150,\n",
       "                           random_state=12, subsample=0.1)"
      ]
     },
     "execution_count": 168,
     "metadata": {},
     "output_type": "execute_result"
    }
   ],
   "source": [
    "gb_clf_smote.fit(X_train_resampled, y_train_resampled)"
   ]
  },
  {
   "cell_type": "markdown",
   "id": "f174e61c",
   "metadata": {},
   "source": [
    "Making predictions on the test set."
   ]
  },
  {
   "cell_type": "code",
   "execution_count": 170,
   "id": "9c6e60cb",
   "metadata": {},
   "outputs": [],
   "source": [
    "y_pred_smote = gb_clf_smote.predict(X_test)"
   ]
  },
  {
   "cell_type": "markdown",
   "id": "bd1785c0",
   "metadata": {},
   "source": [
    "Making predictions on the training set."
   ]
  },
  {
   "cell_type": "code",
   "execution_count": 172,
   "id": "42c11018",
   "metadata": {},
   "outputs": [],
   "source": [
    "y_train_pred_smote = gb_clf_smote.predict(X_train_resampled)"
   ]
  },
  {
   "cell_type": "markdown",
   "id": "24a8487c",
   "metadata": {},
   "source": [
    "####  Training Set Metrics  - SMOTE - GB"
   ]
  },
  {
   "cell_type": "code",
   "execution_count": 174,
   "id": "b64028d0",
   "metadata": {},
   "outputs": [
    {
     "name": "stdout",
     "output_type": "stream",
     "text": [
      "Training Set Metrics:\n",
      "Accuracy: 0.8958333333333334\n",
      "Precision: 0.9008940620782727\n",
      "Recall: 0.8958333333333334\n",
      "F1-Score: 0.8931239737274219\n"
     ]
    }
   ],
   "source": [
    "print(\"Training Set Metrics:\")\n",
    "print(\"Accuracy:\", accuracy_score(y_train_resampled, y_train_pred_smote))\n",
    "print(\"Precision:\", precision_score(y_train_resampled, y_train_pred_smote, average='weighted'))\n",
    "print(\"Recall:\", recall_score(y_train_resampled, y_train_pred_smote, average='weighted'))\n",
    "print(\"F1-Score:\", f1_score(y_train_resampled, y_train_pred_smote, average='weighted'))"
   ]
  },
  {
   "cell_type": "markdown",
   "id": "8b2cf75f",
   "metadata": {},
   "source": [
    "####  Test Set Metrics  - SMOTE - GB"
   ]
  },
  {
   "cell_type": "code",
   "execution_count": 176,
   "id": "ce78d17c",
   "metadata": {},
   "outputs": [
    {
     "name": "stdout",
     "output_type": "stream",
     "text": [
      "\n",
      "Test Set Metrics:\n",
      "Accuracy: 0.92\n",
      "precision: 0.93\n",
      "recall: 0.92\n",
      "F1 Score: 0.92\n"
     ]
    }
   ],
   "source": [
    "print(\"\\nTest Set Metrics:\")\n",
    "print( \"Accuracy: {:.2f}\".format(metrics.accuracy_score(y_test, y_pred_smote)) )\n",
    "print( \"precision: {:.2f}\".format(metrics.precision_score(y_test, y_pred_smote, average='weighted')) )\n",
    "print( \"recall: {:.2f}\".format(metrics.recall_score(y_test, y_pred_smote, average='weighted')) )\n",
    "print( \"F1 Score: {:.2f}\".format(metrics.f1_score(y_test, y_pred_smote, average='weighted')) )"
   ]
  },
  {
   "cell_type": "markdown",
   "id": "d19b6c17",
   "metadata": {},
   "source": [
    "####  Accuracy - SMOTE - GB - train and test "
   ]
  },
  {
   "cell_type": "code",
   "execution_count": 178,
   "id": "fef613db",
   "metadata": {},
   "outputs": [
    {
     "name": "stdout",
     "output_type": "stream",
     "text": [
      "Training Accuracy : 0.8888888888888888\n",
      "Testing Accuracy : 0.9166666666666666\n"
     ]
    }
   ],
   "source": [
    "print(\"Training Accuracy :\", gb_clf_smote.score(X_train, y_train))\n",
    "print(\"Testing Accuracy :\", gb_clf_smote.score(X_test, y_test))"
   ]
  },
  {
   "cell_type": "markdown",
   "id": "c90de2b4",
   "metadata": {},
   "source": [
    "####  Feature Importance - SMOTE - GB"
   ]
  },
  {
   "cell_type": "code",
   "execution_count": 180,
   "id": "1609f06f",
   "metadata": {},
   "outputs": [
    {
     "data": {
      "image/png": "[encoded data removed]",
      "text/plain": [
       "<Figure size 640x480 with 1 Axes>"
      ]
     },
     "metadata": {},
     "output_type": "display_data"
    }
   ],
   "source": [
    "feature_imp = pd.Series(gb_clf_smote.feature_importances_, index=X.columns).sort_values(ascending=False)\n",
    "bar_color = 'green'\n",
    "plt.barh(feature_imp.index, feature_imp, color=bar_color)\n",
    "plt.xlabel('Feature Importance')\n",
    "plt.ylabel('Features')\n",
    "plt.title('Feature Importance - SMOTE - GB')\n",
    "plt.show()"
   ]
  },
  {
   "cell_type": "code",
   "execution_count": 181,
   "id": "22443221",
   "metadata": {
    "scrolled": true
   },
   "outputs": [
    {
     "data": {
      "text/plain": [
       "Text(50.72222222222221, 0.5, 'Actual')"
      ]
     },
     "execution_count": 181,
     "metadata": {},
     "output_type": "execute_result"
    },
    {
     "data": {
      "image/png": "[encoded data removed]",
      "text/plain": [
       "<Figure size 640x480 with 2 Axes>"
      ]
     },
     "metadata": {},
     "output_type": "display_data"
    }
   ],
   "source": [
    "cm = confusion_matrix(y_test, y_pred_smote)\n",
    "sns.heatmap(cm, annot=True)\n",
    "ax = sns.heatmap(cm, annot=True,                  \n",
    "                 xticklabels=['Activated Carbon', 'MOFs', 'Polymers'],                \n",
    "                 yticklabels=['Activated Carbon', 'MOFs', 'Polymers'],                  \n",
    "                 cbar=False)\n",
    "ax.set_xlabel(\"Prediction\")\n",
    "ax.set_ylabel(\"Actual\")"
   ]
  },
  {
   "cell_type": "code",
   "execution_count": 182,
   "id": "7d312a88",
   "metadata": {},
   "outputs": [
    {
     "name": "stdout",
     "output_type": "stream",
     "text": [
      "+--------------------+---------+--------+\n",
      "| Metrics, 20%test   |   Train |   Test |\n",
      "+====================+=========+========+\n",
      "| Accuracy           |   0.895 |   0.92 |\n",
      "+--------------------+---------+--------+\n",
      "| Precision          |   0.9   |   0.93 |\n",
      "+--------------------+---------+--------+\n",
      "| Recall             |   0.895 |   0.92 |\n",
      "+--------------------+---------+--------+\n",
      "| F1 Score           |   0.893 |   0.92 |\n",
      "+--------------------+---------+--------+\n",
      "Grid Search - GB: learning_rate=0.03, max_depth=1, min_samples_leaf=1, min_samples_split=2, n_estimators=150, subsample=0.1\n"
     ]
    },
    {
     "data": {
      "image/png": "[encoded data removed]",
      "text/plain": [
       "<Figure size 640x480 with 1 Axes>"
      ]
     },
     "metadata": {},
     "output_type": "display_data"
    }
   ],
   "source": [
    "data = [\n",
    "    [\"Accuracy\", 0.895, 0.92],\n",
    "    [\"Precision\", 0.900, 0.93],\n",
    "    [\"Recall\", 0.895, 0.92],\n",
    "    [\"F1 Score\", 0.893, 0.92],\n",
    "]   \n",
    "headers = [\"Metrics, 20%test\", \"Train\", \"Test\"]\n",
    "\n",
    "print(tabulate(data, headers=headers, tablefmt=\"grid\"))\n",
    "print(\"Grid Search - GB: learning_rate=0.03, max_depth=1, min_samples_leaf=1, min_samples_split=2, n_estimators=150, subsample=0.1\")\n",
    "\n",
    "def plot_data(data, headers, title):\n",
    "    categories = [row[0] for row in data]\n",
    "    values_train = [row[1] for row in data]\n",
    "    values_test = [row[2] for row in data]\n",
    "\n",
    "    bar_width = 0.4\n",
    "    index = np.arange(len(categories))\n",
    "\n",
    "    fig, ax = plt.subplots()\n",
    "    train_bars = ax.bar(index, values_train, bar_width, color=\"lightgreen\", label=\"Train\")\n",
    "    test_bars = ax.bar(index + bar_width, values_test, bar_width, color=\"green\", label=\"Test\")\n",
    "\n",
    "    ax.set_xlabel(\"Metrics\")\n",
    "    ax.set_ylabel(\"Value\")\n",
    "    ax.set_title(title)\n",
    "    ax.set_xticks(index + bar_width / 2)\n",
    "    ax.set_xticklabels(categories)\n",
    "    ax.legend(loc='lower left')\n",
    "\n",
    "plot_data(data, headers, \"Grid Search - GB: learning_rate=0.03, max_depth=1, min_samples_leaf=1, min_samples_split=2, n_estimators=150, subsample=0.1, 20% test\")"
   ]
  },
  {
   "cell_type": "markdown",
   "id": "d37ef334",
   "metadata": {},
   "source": [
    "## Conclusion\n",
    "\n",
    "I found that the Gradient Boosting performed better than k-NN using the SMOTE and under these conditions (learning_rate=0.03, max_depth=1, min_samples_leaf=1, min_samples_split=2, n_estimators=150, subsample=0.1, 20% test) including cross-validation and I also used to Grid Search that gave the optimal hyperparameters.\n",
    "\n",
    "I achieved a training accuracy (0.89) lower than the testing accuracy (0.92), suggesting that the model does not overfit the training data, which is a good sign, and similar results were encountered in the other metrics that can corroborate it. In other words, they present the ability to correctly identify positive instances, which is essential in the present model because the objective is to predict the correct material given a specific CO<sub>2</sub> value. The test set can also generalize well unseen data. However, it will be necessary to increase the sample size, mainly to enhance the confiability of the results. "
   ]
  },
  {
   "cell_type": "markdown",
   "id": "30b5472c",
   "metadata": {},
   "source": [
    "## Reference"
   ]
  },
  {
   "cell_type": "markdown",
   "id": "d0752c4c",
   "metadata": {},
   "source": [
    "Chawla, N.V. (2009). Data Mining for Imbalanced Datasets: An Overview. In: Data Mining and Knowledge Discovery Handbook. [online] pp.875–886. doi:https://doi.org/10.1007/978-0-387-09823-4_45.\n",
    "\n",
    "Devore, J.L. (2012). Probability and Statistics for Engineering and the Sciences. 8th ed. Boston, MA: Brooks/Cole Pub Co.\n",
    "\n",
    "Dziejarski, B., Serafin, J., Andersson, K. and Krzyżyńska, R. (2023). CO2 capture materials: a review of current trends and future challenges. Materials Today Sustainability, 24, p.100483. doi:https://doi.org/10.1016/j.mtsust.2023.100483.\n",
    "\n",
    "Müller, A. C. and Guido, S. (2017). *Introduction to machine learning with Python: a guide for data scientists*. 1st ed. United States of America. O’reilly Media.\n",
    "\n",
    "scikit-learn. (n.d.). sklearn.preprocessing.RobustScaler. [online] Available at: https://scikit-learn.org/stable/modules/generated/sklearn.preprocessing.RobustScaler.html#sklearn.preprocessing.RobustScaler [Accessed 2 Dec. 2023]."
   ]
  }
 ],
 "metadata": {
  "kernelspec": {
   "display_name": "Python 3 (ipykernel)",
   "language": "python",
   "name": "python3"
  },
  "language_info": {
   "codemirror_mode": {
    "name": "ipython",
    "version": 3
   },
   "file_extension": ".py",
   "mimetype": "text/x-python",
   "name": "python",
   "nbconvert_exporter": "python",
   "pygments_lexer": "ipython3",
   "version": "3.11.9"
  }
 },
 "nbformat": 4,
 "nbformat_minor": 5
}
