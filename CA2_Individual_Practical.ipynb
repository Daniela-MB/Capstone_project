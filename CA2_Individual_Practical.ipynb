{
 "cells": [
  {
   "cell_type": "markdown",
   "id": "018903a5",
   "metadata": {},
   "source": [
    "I use the Pandas library to read the CSV file with the dataset and the methods head, shape and info to see how the data is structured and the data types."
   ]
  },
  {
   "cell_type": "code",
   "execution_count": 1,
   "id": "13382b5d",
   "metadata": {},
   "outputs": [],
   "source": [
    "import pandas as pd"
   ]
  },
  {
   "cell_type": "code",
   "execution_count": 2,
   "id": "527ab25c",
   "metadata": {},
   "outputs": [],
   "source": [
    "df = pd.read_csv(\"CO2_adsorption.csv\")"
   ]
  },
  {
   "cell_type": "markdown",
   "id": "c9ca5c06",
   "metadata": {},
   "source": [
    "## Data understanding"
   ]
  },
  {
   "cell_type": "markdown",
   "id": "6de139e2",
   "metadata": {},
   "source": [
    "#### Data description:"
   ]
  },
  {
   "cell_type": "markdown",
   "id": "bec975a0",
   "metadata": {},
   "source": [
    "This dataset was gathered from a review article containing a compilation of the results of academic papers. I focused on the three main materials target of studies since 2013, which are carbon-based, metal-organic frameworks (MOFs), and polymers (Dziejarski et al., 2023, p.3,20,36,41)"
   ]
  },
  {
   "cell_type": "code",
   "execution_count": 3,
   "id": "42d6e433",
   "metadata": {},
   "outputs": [
    {
     "data": {
      "text/html": [
       "<div>\n",
       "<style scoped>\n",
       "    .dataframe tbody tr th:only-of-type {\n",
       "        vertical-align: middle;\n",
       "    }\n",
       "\n",
       "    .dataframe tbody tr th {\n",
       "        vertical-align: top;\n",
       "    }\n",
       "\n",
       "    .dataframe thead th {\n",
       "        text-align: right;\n",
       "    }\n",
       "</style>\n",
       "<table border=\"1\" class=\"dataframe\">\n",
       "  <thead>\n",
       "    <tr style=\"text-align: right;\">\n",
       "      <th></th>\n",
       "      <th>Material_replace</th>\n",
       "      <th>Material</th>\n",
       "      <th>Precursor</th>\n",
       "      <th>Conjugated microporous polymer</th>\n",
       "      <th>Activation agent</th>\n",
       "      <th>Activation temperature_°C</th>\n",
       "      <th>Activation approach</th>\n",
       "      <th>BET surface area_m2/g</th>\n",
       "      <th>Total pore volume_cm3/g</th>\n",
       "      <th>CO2 uptake_mmol/g_25°C</th>\n",
       "      <th>Adsorption pressure_bar</th>\n",
       "      <th>Reference</th>\n",
       "      <th>Unnamed: 12</th>\n",
       "      <th>Unnamed: 13</th>\n",
       "    </tr>\n",
       "  </thead>\n",
       "  <tbody>\n",
       "    <tr>\n",
       "      <th>0</th>\n",
       "      <td>0</td>\n",
       "      <td>Activated Carbon</td>\n",
       "      <td>Pomegranate peels</td>\n",
       "      <td>NaN</td>\n",
       "      <td>KOH</td>\n",
       "      <td>700.0</td>\n",
       "      <td>Wet impregnation</td>\n",
       "      <td>585.0</td>\n",
       "      <td>0.28</td>\n",
       "      <td>4.11</td>\n",
       "      <td>1</td>\n",
       "      <td>[204]</td>\n",
       "      <td>NaN</td>\n",
       "      <td>NaN</td>\n",
       "    </tr>\n",
       "    <tr>\n",
       "      <th>1</th>\n",
       "      <td>0</td>\n",
       "      <td>Activated Carbon</td>\n",
       "      <td>Carrot peels</td>\n",
       "      <td>NaN</td>\n",
       "      <td>KOH</td>\n",
       "      <td>700.0</td>\n",
       "      <td>Wet impregnation</td>\n",
       "      <td>1379.0</td>\n",
       "      <td>0.58</td>\n",
       "      <td>4.18</td>\n",
       "      <td>1</td>\n",
       "      <td>[204]</td>\n",
       "      <td>NaN</td>\n",
       "      <td>NaN</td>\n",
       "    </tr>\n",
       "    <tr>\n",
       "      <th>2</th>\n",
       "      <td>0</td>\n",
       "      <td>Activated Carbon</td>\n",
       "      <td>Fern leaves</td>\n",
       "      <td>NaN</td>\n",
       "      <td>KOH</td>\n",
       "      <td>700.0</td>\n",
       "      <td>Wet impregnation</td>\n",
       "      <td>1593.0</td>\n",
       "      <td>0.74</td>\n",
       "      <td>4.12</td>\n",
       "      <td>1</td>\n",
       "      <td>[204]</td>\n",
       "      <td>NaN</td>\n",
       "      <td>NaN</td>\n",
       "    </tr>\n",
       "    <tr>\n",
       "      <th>3</th>\n",
       "      <td>0</td>\n",
       "      <td>Activated Carbon</td>\n",
       "      <td>Black locust</td>\n",
       "      <td>NaN</td>\n",
       "      <td>KOH</td>\n",
       "      <td>830.0</td>\n",
       "      <td>Wet impregnation</td>\n",
       "      <td>2064.0</td>\n",
       "      <td>0.98</td>\n",
       "      <td>3.75</td>\n",
       "      <td>1</td>\n",
       "      <td>[205]</td>\n",
       "      <td>NaN</td>\n",
       "      <td>NaN</td>\n",
       "    </tr>\n",
       "    <tr>\n",
       "      <th>4</th>\n",
       "      <td>0</td>\n",
       "      <td>Activated Carbon</td>\n",
       "      <td>Rice husk char</td>\n",
       "      <td>NaN</td>\n",
       "      <td>KOH</td>\n",
       "      <td>780.0</td>\n",
       "      <td>Wet impregnation</td>\n",
       "      <td>2965.0</td>\n",
       "      <td>1.14</td>\n",
       "      <td>3.71</td>\n",
       "      <td>1</td>\n",
       "      <td>[206]</td>\n",
       "      <td>NaN</td>\n",
       "      <td>NaN</td>\n",
       "    </tr>\n",
       "  </tbody>\n",
       "</table>\n",
       "</div>"
      ],
      "text/plain": [
       "   Material_replace          Material          Precursor  \\\n",
       "0                 0  Activated Carbon  Pomegranate peels   \n",
       "1                 0  Activated Carbon       Carrot peels   \n",
       "2                 0  Activated Carbon        Fern leaves   \n",
       "3                 0  Activated Carbon       Black locust   \n",
       "4                 0  Activated Carbon     Rice husk char   \n",
       "\n",
       "  Conjugated microporous polymer Activation agent  Activation temperature_°C  \\\n",
       "0                            NaN              KOH                      700.0   \n",
       "1                            NaN              KOH                      700.0   \n",
       "2                            NaN              KOH                      700.0   \n",
       "3                            NaN              KOH                      830.0   \n",
       "4                            NaN              KOH                      780.0   \n",
       "\n",
       "  Activation approach  BET surface area_m2/g  Total pore volume_cm3/g  \\\n",
       "0    Wet impregnation                  585.0                     0.28   \n",
       "1    Wet impregnation                 1379.0                     0.58   \n",
       "2    Wet impregnation                 1593.0                     0.74   \n",
       "3    Wet impregnation                 2064.0                     0.98   \n",
       "4    Wet impregnation                 2965.0                     1.14   \n",
       "\n",
       "   CO2 uptake_mmol/g_25°C  Adsorption pressure_bar Reference  Unnamed: 12  \\\n",
       "0                    4.11                        1     [204]          NaN   \n",
       "1                    4.18                        1     [204]          NaN   \n",
       "2                    4.12                        1     [204]          NaN   \n",
       "3                    3.75                        1     [205]          NaN   \n",
       "4                    3.71                        1     [206]          NaN   \n",
       "\n",
       "   Unnamed: 13  \n",
       "0          NaN  \n",
       "1          NaN  \n",
       "2          NaN  \n",
       "3          NaN  \n",
       "4          NaN  "
      ]
     },
     "execution_count": 3,
     "metadata": {},
     "output_type": "execute_result"
    }
   ],
   "source": [
    "df.head()"
   ]
  },
  {
   "cell_type": "code",
   "execution_count": 4,
   "id": "098e91d2",
   "metadata": {},
   "outputs": [
    {
     "data": {
      "text/plain": [
       "(57, 14)"
      ]
     },
     "execution_count": 4,
     "metadata": {},
     "output_type": "execute_result"
    }
   ],
   "source": [
    "df.shape"
   ]
  },
  {
   "cell_type": "code",
   "execution_count": 5,
   "id": "80df810c",
   "metadata": {},
   "outputs": [
    {
     "name": "stdout",
     "output_type": "stream",
     "text": [
      "<class 'pandas.core.frame.DataFrame'>\n",
      "RangeIndex: 57 entries, 0 to 56\n",
      "Data columns (total 14 columns):\n",
      " #   Column                          Non-Null Count  Dtype  \n",
      "---  ------                          --------------  -----  \n",
      " 0   Material_replace                57 non-null     int64  \n",
      " 1   Material                        57 non-null     object \n",
      " 2   Precursor                       38 non-null     object \n",
      " 3   Conjugated microporous polymer  19 non-null     object \n",
      " 4   Activation agent                17 non-null     object \n",
      " 5   Activation temperature_°C       17 non-null     float64\n",
      " 6   Activation approach             17 non-null     object \n",
      " 7   BET surface area_m2/g           53 non-null     float64\n",
      " 8   Total pore volume_cm3/g         43 non-null     float64\n",
      " 9   CO2 uptake_mmol/g_25°C          57 non-null     float64\n",
      " 10  Adsorption pressure_bar         57 non-null     int64  \n",
      " 11  Reference                       57 non-null     object \n",
      " 12  Unnamed: 12                     0 non-null      float64\n",
      " 13  Unnamed: 13                     0 non-null      float64\n",
      "dtypes: float64(6), int64(2), object(6)\n",
      "memory usage: 6.4+ KB\n"
     ]
    }
   ],
   "source": [
    "df.info()"
   ]
  },
  {
   "cell_type": "markdown",
   "id": "30f9278a",
   "metadata": {},
   "source": [
    "Since I opened this file on MS Excel, I saw that columns 12 and 13 had no content. Then, I used the unique method to certify it and posteriorly drop these columns."
   ]
  },
  {
   "cell_type": "code",
   "execution_count": 6,
   "id": "a97d718f",
   "metadata": {},
   "outputs": [
    {
     "data": {
      "text/plain": [
       "(array([nan]), array([nan]))"
      ]
     },
     "execution_count": 6,
     "metadata": {},
     "output_type": "execute_result"
    }
   ],
   "source": [
    "df['Unnamed: 12'].unique(), df['Unnamed: 13'].unique()"
   ]
  },
  {
   "cell_type": "code",
   "execution_count": 7,
   "id": "16a7962b",
   "metadata": {},
   "outputs": [
    {
     "data": {
      "text/html": [
       "<div>\n",
       "<style scoped>\n",
       "    .dataframe tbody tr th:only-of-type {\n",
       "        vertical-align: middle;\n",
       "    }\n",
       "\n",
       "    .dataframe tbody tr th {\n",
       "        vertical-align: top;\n",
       "    }\n",
       "\n",
       "    .dataframe thead th {\n",
       "        text-align: right;\n",
       "    }\n",
       "</style>\n",
       "<table border=\"1\" class=\"dataframe\">\n",
       "  <thead>\n",
       "    <tr style=\"text-align: right;\">\n",
       "      <th></th>\n",
       "      <th>Material_replace</th>\n",
       "      <th>Material</th>\n",
       "      <th>Precursor</th>\n",
       "      <th>Conjugated microporous polymer</th>\n",
       "      <th>Activation agent</th>\n",
       "      <th>Activation temperature_°C</th>\n",
       "      <th>Activation approach</th>\n",
       "      <th>BET surface area_m2/g</th>\n",
       "      <th>Total pore volume_cm3/g</th>\n",
       "      <th>CO2 uptake_mmol/g_25°C</th>\n",
       "      <th>Adsorption pressure_bar</th>\n",
       "      <th>Reference</th>\n",
       "    </tr>\n",
       "  </thead>\n",
       "  <tbody>\n",
       "    <tr>\n",
       "      <th>0</th>\n",
       "      <td>0</td>\n",
       "      <td>Activated Carbon</td>\n",
       "      <td>Pomegranate peels</td>\n",
       "      <td>NaN</td>\n",
       "      <td>KOH</td>\n",
       "      <td>700.0</td>\n",
       "      <td>Wet impregnation</td>\n",
       "      <td>585.0</td>\n",
       "      <td>0.28</td>\n",
       "      <td>4.11</td>\n",
       "      <td>1</td>\n",
       "      <td>[204]</td>\n",
       "    </tr>\n",
       "    <tr>\n",
       "      <th>1</th>\n",
       "      <td>0</td>\n",
       "      <td>Activated Carbon</td>\n",
       "      <td>Carrot peels</td>\n",
       "      <td>NaN</td>\n",
       "      <td>KOH</td>\n",
       "      <td>700.0</td>\n",
       "      <td>Wet impregnation</td>\n",
       "      <td>1379.0</td>\n",
       "      <td>0.58</td>\n",
       "      <td>4.18</td>\n",
       "      <td>1</td>\n",
       "      <td>[204]</td>\n",
       "    </tr>\n",
       "    <tr>\n",
       "      <th>2</th>\n",
       "      <td>0</td>\n",
       "      <td>Activated Carbon</td>\n",
       "      <td>Fern leaves</td>\n",
       "      <td>NaN</td>\n",
       "      <td>KOH</td>\n",
       "      <td>700.0</td>\n",
       "      <td>Wet impregnation</td>\n",
       "      <td>1593.0</td>\n",
       "      <td>0.74</td>\n",
       "      <td>4.12</td>\n",
       "      <td>1</td>\n",
       "      <td>[204]</td>\n",
       "    </tr>\n",
       "    <tr>\n",
       "      <th>3</th>\n",
       "      <td>0</td>\n",
       "      <td>Activated Carbon</td>\n",
       "      <td>Black locust</td>\n",
       "      <td>NaN</td>\n",
       "      <td>KOH</td>\n",
       "      <td>830.0</td>\n",
       "      <td>Wet impregnation</td>\n",
       "      <td>2064.0</td>\n",
       "      <td>0.98</td>\n",
       "      <td>3.75</td>\n",
       "      <td>1</td>\n",
       "      <td>[205]</td>\n",
       "    </tr>\n",
       "    <tr>\n",
       "      <th>4</th>\n",
       "      <td>0</td>\n",
       "      <td>Activated Carbon</td>\n",
       "      <td>Rice husk char</td>\n",
       "      <td>NaN</td>\n",
       "      <td>KOH</td>\n",
       "      <td>780.0</td>\n",
       "      <td>Wet impregnation</td>\n",
       "      <td>2965.0</td>\n",
       "      <td>1.14</td>\n",
       "      <td>3.71</td>\n",
       "      <td>1</td>\n",
       "      <td>[206]</td>\n",
       "    </tr>\n",
       "  </tbody>\n",
       "</table>\n",
       "</div>"
      ],
      "text/plain": [
       "   Material_replace          Material          Precursor  \\\n",
       "0                 0  Activated Carbon  Pomegranate peels   \n",
       "1                 0  Activated Carbon       Carrot peels   \n",
       "2                 0  Activated Carbon        Fern leaves   \n",
       "3                 0  Activated Carbon       Black locust   \n",
       "4                 0  Activated Carbon     Rice husk char   \n",
       "\n",
       "  Conjugated microporous polymer Activation agent  Activation temperature_°C  \\\n",
       "0                            NaN              KOH                      700.0   \n",
       "1                            NaN              KOH                      700.0   \n",
       "2                            NaN              KOH                      700.0   \n",
       "3                            NaN              KOH                      830.0   \n",
       "4                            NaN              KOH                      780.0   \n",
       "\n",
       "  Activation approach  BET surface area_m2/g  Total pore volume_cm3/g  \\\n",
       "0    Wet impregnation                  585.0                     0.28   \n",
       "1    Wet impregnation                 1379.0                     0.58   \n",
       "2    Wet impregnation                 1593.0                     0.74   \n",
       "3    Wet impregnation                 2064.0                     0.98   \n",
       "4    Wet impregnation                 2965.0                     1.14   \n",
       "\n",
       "   CO2 uptake_mmol/g_25°C  Adsorption pressure_bar Reference  \n",
       "0                    4.11                        1     [204]  \n",
       "1                    4.18                        1     [204]  \n",
       "2                    4.12                        1     [204]  \n",
       "3                    3.75                        1     [205]  \n",
       "4                    3.71                        1     [206]  "
      ]
     },
     "execution_count": 7,
     "metadata": {},
     "output_type": "execute_result"
    }
   ],
   "source": [
    "df1 = df.drop(['Unnamed: 12', 'Unnamed: 13'], axis = 1)\n",
    "df1.head()"
   ]
  },
  {
   "cell_type": "code",
   "execution_count": 8,
   "id": "315a087b",
   "metadata": {},
   "outputs": [
    {
     "data": {
      "text/plain": [
       "(57, 12)"
      ]
     },
     "execution_count": 8,
     "metadata": {},
     "output_type": "execute_result"
    }
   ],
   "source": [
    "df1.shape"
   ]
  },
  {
   "cell_type": "code",
   "execution_count": 9,
   "id": "8c0385cd",
   "metadata": {},
   "outputs": [
    {
     "name": "stdout",
     "output_type": "stream",
     "text": [
      "<class 'pandas.core.frame.DataFrame'>\n",
      "RangeIndex: 57 entries, 0 to 56\n",
      "Data columns (total 12 columns):\n",
      " #   Column                          Non-Null Count  Dtype  \n",
      "---  ------                          --------------  -----  \n",
      " 0   Material_replace                57 non-null     int64  \n",
      " 1   Material                        57 non-null     object \n",
      " 2   Precursor                       38 non-null     object \n",
      " 3   Conjugated microporous polymer  19 non-null     object \n",
      " 4   Activation agent                17 non-null     object \n",
      " 5   Activation temperature_°C       17 non-null     float64\n",
      " 6   Activation approach             17 non-null     object \n",
      " 7   BET surface area_m2/g           53 non-null     float64\n",
      " 8   Total pore volume_cm3/g         43 non-null     float64\n",
      " 9   CO2 uptake_mmol/g_25°C          57 non-null     float64\n",
      " 10  Adsorption pressure_bar         57 non-null     int64  \n",
      " 11  Reference                       57 non-null     object \n",
      "dtypes: float64(4), int64(2), object(6)\n",
      "memory usage: 5.5+ KB\n"
     ]
    }
   ],
   "source": [
    "df1.info()"
   ]
  },
  {
   "cell_type": "markdown",
   "id": "b181819e",
   "metadata": {},
   "source": [
    "#### Exploratory Data Analysis (EDA) and Data Cleaning:"
   ]
  },
  {
   "cell_type": "markdown",
   "id": "889478ff",
   "metadata": {},
   "source": [
    "Now, I will search for missing and null values because they are part of data quality assurance. If the data is inaccurate, it can lead to incorrect analysis, conclusions, and biased results, affecting the model's performance. "
   ]
  },
  {
   "cell_type": "code",
   "execution_count": 10,
   "id": "dba900ac",
   "metadata": {},
   "outputs": [
    {
     "data": {
      "text/plain": [
       "Material_replace                   0\n",
       "Material                           0\n",
       "Precursor                         19\n",
       "Conjugated microporous polymer    38\n",
       "Activation agent                  40\n",
       "Activation temperature_°C         40\n",
       "Activation approach               40\n",
       "BET surface area_m2/g              4\n",
       "Total pore volume_cm3/g           14\n",
       "CO2 uptake_mmol/g_25°C             0\n",
       "Adsorption pressure_bar            0\n",
       "Reference                          0\n",
       "dtype: int64"
      ]
     },
     "execution_count": 10,
     "metadata": {},
     "output_type": "execute_result"
    }
   ],
   "source": [
    "df1.isnull().sum()"
   ]
  },
  {
   "cell_type": "markdown",
   "id": "2bccf980",
   "metadata": {},
   "source": [
    "For this analysis, I will focus on: 'Material_replace', 'BET surface area_m2/g', 'Total pore volume_cm3/g', 'CO2 uptake_mmol/g_25°C' and 'Adsorption pressure_bar'. The other features are redundant or specific to a unique material category. For example, 'Material' is the name of the material used in CO2 adsorption, but it is stored in the feature called 'Material_replace'. The other features are related exclusively to a specific material, such as activated-carbon or polymers."
   ]
  },
  {
   "cell_type": "code",
   "execution_count": 11,
   "id": "1dd89da4",
   "metadata": {
    "scrolled": true
   },
   "outputs": [
    {
     "data": {
      "text/html": [
       "<div>\n",
       "<style scoped>\n",
       "    .dataframe tbody tr th:only-of-type {\n",
       "        vertical-align: middle;\n",
       "    }\n",
       "\n",
       "    .dataframe tbody tr th {\n",
       "        vertical-align: top;\n",
       "    }\n",
       "\n",
       "    .dataframe thead th {\n",
       "        text-align: right;\n",
       "    }\n",
       "</style>\n",
       "<table border=\"1\" class=\"dataframe\">\n",
       "  <thead>\n",
       "    <tr style=\"text-align: right;\">\n",
       "      <th></th>\n",
       "      <th>Material_replace</th>\n",
       "      <th>BET surface area_m2/g</th>\n",
       "      <th>Total pore volume_cm3/g</th>\n",
       "      <th>CO2 uptake_mmol/g_25°C</th>\n",
       "      <th>Adsorption pressure_bar</th>\n",
       "    </tr>\n",
       "  </thead>\n",
       "  <tbody>\n",
       "    <tr>\n",
       "      <th>0</th>\n",
       "      <td>0</td>\n",
       "      <td>585.0</td>\n",
       "      <td>0.28</td>\n",
       "      <td>4.11</td>\n",
       "      <td>1</td>\n",
       "    </tr>\n",
       "    <tr>\n",
       "      <th>1</th>\n",
       "      <td>0</td>\n",
       "      <td>1379.0</td>\n",
       "      <td>0.58</td>\n",
       "      <td>4.18</td>\n",
       "      <td>1</td>\n",
       "    </tr>\n",
       "    <tr>\n",
       "      <th>2</th>\n",
       "      <td>0</td>\n",
       "      <td>1593.0</td>\n",
       "      <td>0.74</td>\n",
       "      <td>4.12</td>\n",
       "      <td>1</td>\n",
       "    </tr>\n",
       "    <tr>\n",
       "      <th>3</th>\n",
       "      <td>0</td>\n",
       "      <td>2064.0</td>\n",
       "      <td>0.98</td>\n",
       "      <td>3.75</td>\n",
       "      <td>1</td>\n",
       "    </tr>\n",
       "    <tr>\n",
       "      <th>4</th>\n",
       "      <td>0</td>\n",
       "      <td>2965.0</td>\n",
       "      <td>1.14</td>\n",
       "      <td>3.71</td>\n",
       "      <td>1</td>\n",
       "    </tr>\n",
       "  </tbody>\n",
       "</table>\n",
       "</div>"
      ],
      "text/plain": [
       "   Material_replace  BET surface area_m2/g  Total pore volume_cm3/g  \\\n",
       "0                 0                  585.0                     0.28   \n",
       "1                 0                 1379.0                     0.58   \n",
       "2                 0                 1593.0                     0.74   \n",
       "3                 0                 2064.0                     0.98   \n",
       "4                 0                 2965.0                     1.14   \n",
       "\n",
       "   CO2 uptake_mmol/g_25°C  Adsorption pressure_bar  \n",
       "0                    4.11                        1  \n",
       "1                    4.18                        1  \n",
       "2                    4.12                        1  \n",
       "3                    3.75                        1  \n",
       "4                    3.71                        1  "
      ]
     },
     "execution_count": 11,
     "metadata": {},
     "output_type": "execute_result"
    }
   ],
   "source": [
    "df2 = df1.drop(['Material', 'Precursor', 'Conjugated microporous polymer', 'Activation agent', 'Activation temperature_°C', 'Activation approach', 'Reference'], axis = 1)\n",
    "df2.head()"
   ]
  },
  {
   "cell_type": "markdown",
   "id": "c7416272",
   "metadata": {},
   "source": [
    "After running the function .isnull() again, I can see that I will have to handle missing values from 2 features ('BET surface area_m2/g' and 'Total pore volume_cm3/g')."
   ]
  },
  {
   "cell_type": "code",
   "execution_count": 12,
   "id": "43ae846f",
   "metadata": {
    "scrolled": true
   },
   "outputs": [
    {
     "data": {
      "text/plain": [
       "Material_replace            0\n",
       "BET surface area_m2/g       4\n",
       "Total pore volume_cm3/g    14\n",
       "CO2 uptake_mmol/g_25°C      0\n",
       "Adsorption pressure_bar     0\n",
       "dtype: int64"
      ]
     },
     "execution_count": 12,
     "metadata": {},
     "output_type": "execute_result"
    }
   ],
   "source": [
    "df2.isnull().sum()"
   ]
  },
  {
   "cell_type": "code",
   "execution_count": 13,
   "id": "d465288b",
   "metadata": {},
   "outputs": [
    {
     "data": {
      "text/html": [
       "<div>\n",
       "<style scoped>\n",
       "    .dataframe tbody tr th:only-of-type {\n",
       "        vertical-align: middle;\n",
       "    }\n",
       "\n",
       "    .dataframe tbody tr th {\n",
       "        vertical-align: top;\n",
       "    }\n",
       "\n",
       "    .dataframe thead th {\n",
       "        text-align: right;\n",
       "    }\n",
       "</style>\n",
       "<table border=\"1\" class=\"dataframe\">\n",
       "  <thead>\n",
       "    <tr style=\"text-align: right;\">\n",
       "      <th></th>\n",
       "      <th>Material_replace</th>\n",
       "      <th>BET surface area_m2/g</th>\n",
       "      <th>Total pore volume_cm3/g</th>\n",
       "      <th>CO2 uptake_mmol/g_25°C</th>\n",
       "      <th>Adsorption pressure_bar</th>\n",
       "    </tr>\n",
       "  </thead>\n",
       "  <tbody>\n",
       "    <tr>\n",
       "      <th>count</th>\n",
       "      <td>57.000000</td>\n",
       "      <td>53.000000</td>\n",
       "      <td>43.000000</td>\n",
       "      <td>57.000000</td>\n",
       "      <td>57.0</td>\n",
       "    </tr>\n",
       "    <tr>\n",
       "      <th>mean</th>\n",
       "      <td>1.035088</td>\n",
       "      <td>1459.184906</td>\n",
       "      <td>0.862937</td>\n",
       "      <td>2.710702</td>\n",
       "      <td>1.0</td>\n",
       "    </tr>\n",
       "    <tr>\n",
       "      <th>std</th>\n",
       "      <td>0.801002</td>\n",
       "      <td>944.417112</td>\n",
       "      <td>0.568819</td>\n",
       "      <td>1.741102</td>\n",
       "      <td>0.0</td>\n",
       "    </tr>\n",
       "    <tr>\n",
       "      <th>min</th>\n",
       "      <td>0.000000</td>\n",
       "      <td>240.000000</td>\n",
       "      <td>0.220000</td>\n",
       "      <td>0.580000</td>\n",
       "      <td>1.0</td>\n",
       "    </tr>\n",
       "    <tr>\n",
       "      <th>25%</th>\n",
       "      <td>0.000000</td>\n",
       "      <td>798.000000</td>\n",
       "      <td>0.505000</td>\n",
       "      <td>1.180000</td>\n",
       "      <td>1.0</td>\n",
       "    </tr>\n",
       "    <tr>\n",
       "      <th>50%</th>\n",
       "      <td>1.000000</td>\n",
       "      <td>1384.000000</td>\n",
       "      <td>0.740000</td>\n",
       "      <td>2.040000</td>\n",
       "      <td>1.0</td>\n",
       "    </tr>\n",
       "    <tr>\n",
       "      <th>75%</th>\n",
       "      <td>2.000000</td>\n",
       "      <td>1906.000000</td>\n",
       "      <td>1.019000</td>\n",
       "      <td>4.180000</td>\n",
       "      <td>1.0</td>\n",
       "    </tr>\n",
       "    <tr>\n",
       "      <th>max</th>\n",
       "      <td>2.000000</td>\n",
       "      <td>5290.000000</td>\n",
       "      <td>2.810000</td>\n",
       "      <td>6.180000</td>\n",
       "      <td>1.0</td>\n",
       "    </tr>\n",
       "  </tbody>\n",
       "</table>\n",
       "</div>"
      ],
      "text/plain": [
       "       Material_replace  BET surface area_m2/g  Total pore volume_cm3/g  \\\n",
       "count         57.000000              53.000000                43.000000   \n",
       "mean           1.035088            1459.184906                 0.862937   \n",
       "std            0.801002             944.417112                 0.568819   \n",
       "min            0.000000             240.000000                 0.220000   \n",
       "25%            0.000000             798.000000                 0.505000   \n",
       "50%            1.000000            1384.000000                 0.740000   \n",
       "75%            2.000000            1906.000000                 1.019000   \n",
       "max            2.000000            5290.000000                 2.810000   \n",
       "\n",
       "       CO2 uptake_mmol/g_25°C  Adsorption pressure_bar  \n",
       "count               57.000000                     57.0  \n",
       "mean                 2.710702                      1.0  \n",
       "std                  1.741102                      0.0  \n",
       "min                  0.580000                      1.0  \n",
       "25%                  1.180000                      1.0  \n",
       "50%                  2.040000                      1.0  \n",
       "75%                  4.180000                      1.0  \n",
       "max                  6.180000                      1.0  "
      ]
     },
     "execution_count": 13,
     "metadata": {},
     "output_type": "execute_result"
    }
   ],
   "source": [
    "df2.describe()"
   ]
  },
  {
   "cell_type": "markdown",
   "id": "136a1d39",
   "metadata": {},
   "source": [
    "Evaluating the descriptive statistics is possible to see that the data is skewed. But I will verify it because I need to confirm whether I will replace the missing values with mean, median, or even interpolation values. When the data has a normal distribution I can replace the values with mean; otherwise, I must use median or interpolation. "
   ]
  },
  {
   "cell_type": "code",
   "execution_count": 14,
   "id": "f11dfe7e",
   "metadata": {},
   "outputs": [
    {
     "data": {
      "text/plain": [
       "<Axes: xlabel='BET surface area_m2/g', ylabel='Count'>"
      ]
     },
     "execution_count": 14,
     "metadata": {},
     "output_type": "execute_result"
    },
    {
     "data": {
      "image/png": "[encoded data removed]",
      "text/plain": [
       "<Figure size 640x480 with 1 Axes>"
      ]
     },
     "metadata": {},
     "output_type": "display_data"
    }
   ],
   "source": [
    "import seaborn as sns\n",
    "sns.histplot(data=df2, x=\"BET surface area_m2/g\")"
   ]
  },
  {
   "cell_type": "code",
   "execution_count": 15,
   "id": "93b37d54",
   "metadata": {},
   "outputs": [
    {
     "data": {
      "text/plain": [
       "<Axes: xlabel='Total pore volume_cm3/g', ylabel='Count'>"
      ]
     },
     "execution_count": 15,
     "metadata": {},
     "output_type": "execute_result"
    },
    {
     "data": {
      "image/png": "[encoded data removed]",
      "text/plain": [
       "<Figure size 640x480 with 1 Axes>"
      ]
     },
     "metadata": {},
     "output_type": "display_data"
    }
   ],
   "source": [
    "sns.histplot(data=df2, x=\"Total pore volume_cm3/g\")"
   ]
  },
  {
   "cell_type": "code",
   "execution_count": 16,
   "id": "3a0e23da",
   "metadata": {},
   "outputs": [
    {
     "data": {
      "text/plain": [
       "<Axes: >"
      ]
     },
     "execution_count": 16,
     "metadata": {},
     "output_type": "execute_result"
    },
    {
     "data": {
      "image/png": "[encoded data removed]",
      "text/plain": [
       "<Figure size 640x480 with 1 Axes>"
      ]
     },
     "metadata": {},
     "output_type": "display_data"
    }
   ],
   "source": [
    "sns.boxplot(data=df2[\"BET surface area_m2/g\"])"
   ]
  },
  {
   "cell_type": "code",
   "execution_count": 17,
   "id": "99eef47a",
   "metadata": {},
   "outputs": [
    {
     "data": {
      "text/plain": [
       "<Axes: >"
      ]
     },
     "execution_count": 17,
     "metadata": {},
     "output_type": "execute_result"
    },
    {
     "data": {
      "image/png": "[encoded data removed]",
      "text/plain": [
       "<Figure size 640x480 with 1 Axes>"
      ]
     },
     "metadata": {},
     "output_type": "display_data"
    }
   ],
   "source": [
    "sns.boxplot(data=df2[\"Total pore volume_cm3/g\"])"
   ]
  },
  {
   "cell_type": "markdown",
   "id": "0c932f03",
   "metadata": {},
   "source": [
    "The histograms confirmed that these features are skewed, and the boxplot shows the presence of outliers in the features. Thus, in this case, I will input the missing values with interpolation because this method is more robust to outliers than the median."
   ]
  },
  {
   "cell_type": "code",
   "execution_count": 18,
   "id": "3265b877",
   "metadata": {},
   "outputs": [],
   "source": [
    "df3 = df2.interpolate(method=\"linear\", axis=0, subset=[\"BET surface area_m2/g\", \"Total pore volume_cm3/g\"])"
   ]
  },
  {
   "cell_type": "code",
   "execution_count": 19,
   "id": "8229fae5",
   "metadata": {},
   "outputs": [
    {
     "data": {
      "text/html": [
       "<div>\n",
       "<style scoped>\n",
       "    .dataframe tbody tr th:only-of-type {\n",
       "        vertical-align: middle;\n",
       "    }\n",
       "\n",
       "    .dataframe tbody tr th {\n",
       "        vertical-align: top;\n",
       "    }\n",
       "\n",
       "    .dataframe thead th {\n",
       "        text-align: right;\n",
       "    }\n",
       "</style>\n",
       "<table border=\"1\" class=\"dataframe\">\n",
       "  <thead>\n",
       "    <tr style=\"text-align: right;\">\n",
       "      <th></th>\n",
       "      <th>Material_replace</th>\n",
       "      <th>BET surface area_m2/g</th>\n",
       "      <th>Total pore volume_cm3/g</th>\n",
       "      <th>CO2 uptake_mmol/g_25°C</th>\n",
       "      <th>Adsorption pressure_bar</th>\n",
       "    </tr>\n",
       "  </thead>\n",
       "  <tbody>\n",
       "    <tr>\n",
       "      <th>0</th>\n",
       "      <td>0</td>\n",
       "      <td>585.0</td>\n",
       "      <td>0.28</td>\n",
       "      <td>4.11</td>\n",
       "      <td>1</td>\n",
       "    </tr>\n",
       "    <tr>\n",
       "      <th>1</th>\n",
       "      <td>0</td>\n",
       "      <td>1379.0</td>\n",
       "      <td>0.58</td>\n",
       "      <td>4.18</td>\n",
       "      <td>1</td>\n",
       "    </tr>\n",
       "    <tr>\n",
       "      <th>2</th>\n",
       "      <td>0</td>\n",
       "      <td>1593.0</td>\n",
       "      <td>0.74</td>\n",
       "      <td>4.12</td>\n",
       "      <td>1</td>\n",
       "    </tr>\n",
       "    <tr>\n",
       "      <th>3</th>\n",
       "      <td>0</td>\n",
       "      <td>2064.0</td>\n",
       "      <td>0.98</td>\n",
       "      <td>3.75</td>\n",
       "      <td>1</td>\n",
       "    </tr>\n",
       "    <tr>\n",
       "      <th>4</th>\n",
       "      <td>0</td>\n",
       "      <td>2965.0</td>\n",
       "      <td>1.14</td>\n",
       "      <td>3.71</td>\n",
       "      <td>1</td>\n",
       "    </tr>\n",
       "  </tbody>\n",
       "</table>\n",
       "</div>"
      ],
      "text/plain": [
       "   Material_replace  BET surface area_m2/g  Total pore volume_cm3/g  \\\n",
       "0                 0                  585.0                     0.28   \n",
       "1                 0                 1379.0                     0.58   \n",
       "2                 0                 1593.0                     0.74   \n",
       "3                 0                 2064.0                     0.98   \n",
       "4                 0                 2965.0                     1.14   \n",
       "\n",
       "   CO2 uptake_mmol/g_25°C  Adsorption pressure_bar  \n",
       "0                    4.11                        1  \n",
       "1                    4.18                        1  \n",
       "2                    4.12                        1  \n",
       "3                    3.75                        1  \n",
       "4                    3.71                        1  "
      ]
     },
     "execution_count": 19,
     "metadata": {},
     "output_type": "execute_result"
    }
   ],
   "source": [
    "df3.head()"
   ]
  },
  {
   "cell_type": "code",
   "execution_count": 20,
   "id": "90dcc61d",
   "metadata": {},
   "outputs": [
    {
     "data": {
      "text/plain": [
       "Material_replace           0\n",
       "BET surface area_m2/g      0\n",
       "Total pore volume_cm3/g    0\n",
       "CO2 uptake_mmol/g_25°C     0\n",
       "Adsorption pressure_bar    0\n",
       "dtype: int64"
      ]
     },
     "execution_count": 20,
     "metadata": {},
     "output_type": "execute_result"
    }
   ],
   "source": [
    "df3.isnull().sum()"
   ]
  },
  {
   "cell_type": "code",
   "execution_count": 21,
   "id": "8ae2845c",
   "metadata": {},
   "outputs": [
    {
     "data": {
      "text/plain": [
       "(57, 5)"
      ]
     },
     "execution_count": 21,
     "metadata": {},
     "output_type": "execute_result"
    }
   ],
   "source": [
    "df3.shape"
   ]
  },
  {
   "cell_type": "markdown",
   "id": "da36137d",
   "metadata": {},
   "source": [
    "Now, the dataset is clean and is named as 'df3'."
   ]
  },
  {
   "cell_type": "markdown",
   "id": "4d656dc6",
   "metadata": {},
   "source": [
    "Checking for duplicates is essential to maintain data integrity. Otherwise, it can lead to inaccurate results. Thus, I used the duplicated() method to identify duplicates, which resulted in zero duplicates."
   ]
  },
  {
   "cell_type": "code",
   "execution_count": 22,
   "id": "c86dcbe9",
   "metadata": {},
   "outputs": [
    {
     "data": {
      "text/plain": [
       "0"
      ]
     },
     "execution_count": 22,
     "metadata": {},
     "output_type": "execute_result"
    }
   ],
   "source": [
    "df3.duplicated().sum()"
   ]
  },
  {
   "cell_type": "markdown",
   "id": "169d554f",
   "metadata": {},
   "source": [
    "Now, I will calculate the Interquartile Range (IQR) using the function below. Then, I will check for outliers and verify if I can remove them without losing the data integrity."
   ]
  },
  {
   "cell_type": "code",
   "execution_count": 23,
   "id": "17d70c20",
   "metadata": {},
   "outputs": [],
   "source": [
    "Q1 = df3.quantile(0.25)\n",
    "Q3 = df3.quantile(0.75)\n",
    "IQR = Q3 - Q1"
   ]
  },
  {
   "cell_type": "code",
   "execution_count": 24,
   "id": "b5506506",
   "metadata": {},
   "outputs": [
    {
     "data": {
      "text/plain": [
       "(53, 5)"
      ]
     },
     "execution_count": 24,
     "metadata": {},
     "output_type": "execute_result"
    }
   ],
   "source": [
    "df_outliers = df3[~((df3<(Q1-1.5*IQR))|(df3>Q3+1.5*IQR)).any(axis=1)]\n",
    "df_outliers.shape"
   ]
  },
  {
   "cell_type": "markdown",
   "id": "f76182cf",
   "metadata": {},
   "source": [
    "After discovering that 7% of the data are outliers, a significant amount, I decided not to remove them; otherwise, I could lose the data integrity. I will search for a robust ML model that can handle it."
   ]
  },
  {
   "cell_type": "markdown",
   "id": "f728bab2",
   "metadata": {},
   "source": [
    "#### Descriptive Statistic:"
   ]
  },
  {
   "cell_type": "markdown",
   "id": "d2302e6d",
   "metadata": {},
   "source": [
    "I will use the funcition.describe() to call the summary statistics parameters, such as mean, median, and standard deviation."
   ]
  },
  {
   "cell_type": "code",
   "execution_count": 25,
   "id": "2efe41fb",
   "metadata": {},
   "outputs": [
    {
     "data": {
      "text/html": [
       "<div>\n",
       "<style scoped>\n",
       "    .dataframe tbody tr th:only-of-type {\n",
       "        vertical-align: middle;\n",
       "    }\n",
       "\n",
       "    .dataframe tbody tr th {\n",
       "        vertical-align: top;\n",
       "    }\n",
       "\n",
       "    .dataframe thead th {\n",
       "        text-align: right;\n",
       "    }\n",
       "</style>\n",
       "<table border=\"1\" class=\"dataframe\">\n",
       "  <thead>\n",
       "    <tr style=\"text-align: right;\">\n",
       "      <th></th>\n",
       "      <th>Material_replace</th>\n",
       "      <th>BET surface area_m2/g</th>\n",
       "      <th>Total pore volume_cm3/g</th>\n",
       "      <th>CO2 uptake_mmol/g_25°C</th>\n",
       "      <th>Adsorption pressure_bar</th>\n",
       "    </tr>\n",
       "  </thead>\n",
       "  <tbody>\n",
       "    <tr>\n",
       "      <th>count</th>\n",
       "      <td>57.000000</td>\n",
       "      <td>57.000000</td>\n",
       "      <td>57.000000</td>\n",
       "      <td>57.000000</td>\n",
       "      <td>57.0</td>\n",
       "    </tr>\n",
       "    <tr>\n",
       "      <th>mean</th>\n",
       "      <td>1.035088</td>\n",
       "      <td>1420.885965</td>\n",
       "      <td>0.835345</td>\n",
       "      <td>2.710702</td>\n",
       "      <td>1.0</td>\n",
       "    </tr>\n",
       "    <tr>\n",
       "      <th>std</th>\n",
       "      <td>0.801002</td>\n",
       "      <td>940.609642</td>\n",
       "      <td>0.509640</td>\n",
       "      <td>1.741102</td>\n",
       "      <td>0.0</td>\n",
       "    </tr>\n",
       "    <tr>\n",
       "      <th>min</th>\n",
       "      <td>0.000000</td>\n",
       "      <td>240.000000</td>\n",
       "      <td>0.220000</td>\n",
       "      <td>0.580000</td>\n",
       "      <td>1.0</td>\n",
       "    </tr>\n",
       "    <tr>\n",
       "      <th>25%</th>\n",
       "      <td>0.000000</td>\n",
       "      <td>772.000000</td>\n",
       "      <td>0.500000</td>\n",
       "      <td>1.180000</td>\n",
       "      <td>1.0</td>\n",
       "    </tr>\n",
       "    <tr>\n",
       "      <th>50%</th>\n",
       "      <td>1.000000</td>\n",
       "      <td>1379.000000</td>\n",
       "      <td>0.882000</td>\n",
       "      <td>2.040000</td>\n",
       "      <td>1.0</td>\n",
       "    </tr>\n",
       "    <tr>\n",
       "      <th>75%</th>\n",
       "      <td>2.000000</td>\n",
       "      <td>1906.000000</td>\n",
       "      <td>0.980000</td>\n",
       "      <td>4.180000</td>\n",
       "      <td>1.0</td>\n",
       "    </tr>\n",
       "    <tr>\n",
       "      <th>max</th>\n",
       "      <td>2.000000</td>\n",
       "      <td>5290.000000</td>\n",
       "      <td>2.810000</td>\n",
       "      <td>6.180000</td>\n",
       "      <td>1.0</td>\n",
       "    </tr>\n",
       "  </tbody>\n",
       "</table>\n",
       "</div>"
      ],
      "text/plain": [
       "       Material_replace  BET surface area_m2/g  Total pore volume_cm3/g  \\\n",
       "count         57.000000              57.000000                57.000000   \n",
       "mean           1.035088            1420.885965                 0.835345   \n",
       "std            0.801002             940.609642                 0.509640   \n",
       "min            0.000000             240.000000                 0.220000   \n",
       "25%            0.000000             772.000000                 0.500000   \n",
       "50%            1.000000            1379.000000                 0.882000   \n",
       "75%            2.000000            1906.000000                 0.980000   \n",
       "max            2.000000            5290.000000                 2.810000   \n",
       "\n",
       "       CO2 uptake_mmol/g_25°C  Adsorption pressure_bar  \n",
       "count               57.000000                     57.0  \n",
       "mean                 2.710702                      1.0  \n",
       "std                  1.741102                      0.0  \n",
       "min                  0.580000                      1.0  \n",
       "25%                  1.180000                      1.0  \n",
       "50%                  2.040000                      1.0  \n",
       "75%                  4.180000                      1.0  \n",
       "max                  6.180000                      1.0  "
      ]
     },
     "execution_count": 25,
     "metadata": {},
     "output_type": "execute_result"
    }
   ],
   "source": [
    "df3.describe()"
   ]
  },
  {
   "cell_type": "markdown",
   "id": "f9c50b15",
   "metadata": {},
   "source": [
    "##### Sparsity of the data\n",
    "Sparse datasets are characterized by most features having 0 most of the time (Müller and Guido, 2017 p.44) and the sparsity is a measurement of how sparse or dense a dataset is. It can be represented as the ratio of the number of zero or missing values to the total number of data points or entries in the dataset. "
   ]
  },
  {
   "cell_type": "code",
   "execution_count": 26,
   "id": "6d46f21e",
   "metadata": {},
   "outputs": [
    {
     "name": "stdout",
     "output_type": "stream",
     "text": [
      "Sparsity of the dataset: 0.060\n"
     ]
    }
   ],
   "source": [
    "missing_values = df3.isnull().sum().sum()\n",
    "zero_values = (df3 == 0).sum().sum()\n",
    "\n",
    "total_data_points = df3.size\n",
    "\n",
    "sparsity = (missing_values + zero_values) / total_data_points\n",
    "\n",
    "print(f\"Sparsity of the dataset: {sparsity:.3f}\")"
   ]
  },
  {
   "cell_type": "code",
   "execution_count": 27,
   "id": "c6ebb1e6",
   "metadata": {},
   "outputs": [
    {
     "name": "stdout",
     "output_type": "stream",
     "text": [
      "Missing values:  0\n",
      "zero_values:  17\n"
     ]
    }
   ],
   "source": [
    "print(\"Missing values: \", missing_values)\n",
    "print(\"zero_values: \", zero_values)"
   ]
  },
  {
   "cell_type": "markdown",
   "id": "28c76f8e",
   "metadata": {},
   "source": [
    "The sparsity values must be between 0 and 1 when 0 indicates no sparsity, and 1 indicates completely spaced. The result for this dataset was found to be 0.060, meaning that the dataset is not sparse. Thus, this data does not have a significant portion of missing or zero values.\n",
    "\n",
    "As I already handled the missing values, it is only missing handling these zero_values that came from the 'material_replace' feature used to encode the material's class. I  will use the one-hot encoding method in the preprocessing phase to avoid adding different weights for each material class. However, the dataset might remain sparse due to the One-hot encoding process that automatically generate a lot of zeros."
   ]
  },
  {
   "cell_type": "markdown",
   "id": "4bd63a95",
   "metadata": {},
   "source": [
    "The charts below (pair plot and heatmap) show the relation between features and their strength and direction of the relationship. I dropped these features ('Material_replace' and 'Adsorption pressure_bar') because they do not provide essential information, like 'Adsorption pressure_bar' that has the same value for all rows, and 'Material_replace' is a representation of a categorical feature."
   ]
  },
  {
   "cell_type": "code",
   "execution_count": 28,
   "id": "c4e0751a",
   "metadata": {
    "scrolled": true
   },
   "outputs": [
    {
     "data": {
      "text/plain": [
       "<seaborn.axisgrid.PairGrid at 0x270f430e310>"
      ]
     },
     "execution_count": 28,
     "metadata": {},
     "output_type": "execute_result"
    },
    {
     "data": {
      "image/png": "[encoded data removed]",
      "text/plain": [
       "<Figure size 750x750 with 12 Axes>"
      ]
     },
     "metadata": {},
     "output_type": "display_data"
    }
   ],
   "source": [
    "df3_plot = df3.drop(['Material_replace', 'Adsorption pressure_bar'], axis=1)\n",
    "sns.pairplot(df3_plot)"
   ]
  },
  {
   "cell_type": "code",
   "execution_count": 29,
   "id": "4d8e2dc0",
   "metadata": {
    "scrolled": false
   },
   "outputs": [
    {
     "data": {
      "text/html": [
       "<div>\n",
       "<style scoped>\n",
       "    .dataframe tbody tr th:only-of-type {\n",
       "        vertical-align: middle;\n",
       "    }\n",
       "\n",
       "    .dataframe tbody tr th {\n",
       "        vertical-align: top;\n",
       "    }\n",
       "\n",
       "    .dataframe thead th {\n",
       "        text-align: right;\n",
       "    }\n",
       "</style>\n",
       "<table border=\"1\" class=\"dataframe\">\n",
       "  <thead>\n",
       "    <tr style=\"text-align: right;\">\n",
       "      <th></th>\n",
       "      <th>BET surface area_m2/g</th>\n",
       "      <th>Total pore volume_cm3/g</th>\n",
       "      <th>CO2 uptake_mmol/g_25°C</th>\n",
       "    </tr>\n",
       "  </thead>\n",
       "  <tbody>\n",
       "    <tr>\n",
       "      <th>BET surface area_m2/g</th>\n",
       "      <td>1.000000</td>\n",
       "      <td>0.659264</td>\n",
       "      <td>0.227061</td>\n",
       "    </tr>\n",
       "    <tr>\n",
       "      <th>Total pore volume_cm3/g</th>\n",
       "      <td>0.659264</td>\n",
       "      <td>1.000000</td>\n",
       "      <td>0.084840</td>\n",
       "    </tr>\n",
       "    <tr>\n",
       "      <th>CO2 uptake_mmol/g_25°C</th>\n",
       "      <td>0.227061</td>\n",
       "      <td>0.084840</td>\n",
       "      <td>1.000000</td>\n",
       "    </tr>\n",
       "  </tbody>\n",
       "</table>\n",
       "</div>"
      ],
      "text/plain": [
       "                         BET surface area_m2/g  Total pore volume_cm3/g  \\\n",
       "BET surface area_m2/g                 1.000000                 0.659264   \n",
       "Total pore volume_cm3/g               0.659264                 1.000000   \n",
       "CO2 uptake_mmol/g_25°C                0.227061                 0.084840   \n",
       "\n",
       "                         CO2 uptake_mmol/g_25°C  \n",
       "BET surface area_m2/g                  0.227061  \n",
       "Total pore volume_cm3/g                0.084840  \n",
       "CO2 uptake_mmol/g_25°C                 1.000000  "
      ]
     },
     "execution_count": 29,
     "metadata": {},
     "output_type": "execute_result"
    },
    {
     "data": {
      "image/png": "[encoded data removed]",
      "text/plain": [
       "<Figure size 1000x600 with 2 Axes>"
      ]
     },
     "metadata": {},
     "output_type": "display_data"
    }
   ],
   "source": [
    "import matplotlib.pyplot as plt\n",
    "import seaborn as sns\n",
    "\n",
    "plt.figure(figsize=(10,6)) \n",
    "c= df3_plot.corr() \n",
    "sns.heatmap(c,cmap=\"viridis\",annot=True) \n",
    "c"
   ]
  },
  {
   "cell_type": "markdown",
   "id": "d8c12f90",
   "metadata": {},
   "source": [
    "#### Inferential Statistics:\n",
    "\n",
    "##### Hypothesis test\n",
    "\n",
    "In this case, I will apply the Kruskal-Wallis test because it is appropriate when handling a non-normal distribution and small sample size (Devore, 2012, p.645), conditions that I encountered in this dataset.  \n",
    "\n",
    "*Hypothesis:*\n",
    "    \n",
    "$H_0$: There is no difference between the means.\n",
    "\n",
    "$H_A$: There is a difference between the means.\n",
    "  \n",
    "Considering 95% of confidence level and 𝛼 = 0.05 I will calculate the p-value to know if there is a significant difference between the $CO_2$ adsorption for each material. "
   ]
  },
  {
   "cell_type": "code",
   "execution_count": 30,
   "id": "4f7d9b4c",
   "metadata": {},
   "outputs": [
    {
     "data": {
      "text/html": [
       "<div>\n",
       "<style scoped>\n",
       "    .dataframe tbody tr th:only-of-type {\n",
       "        vertical-align: middle;\n",
       "    }\n",
       "\n",
       "    .dataframe tbody tr th {\n",
       "        vertical-align: top;\n",
       "    }\n",
       "\n",
       "    .dataframe thead th {\n",
       "        text-align: right;\n",
       "    }\n",
       "</style>\n",
       "<table border=\"1\" class=\"dataframe\">\n",
       "  <thead>\n",
       "    <tr style=\"text-align: right;\">\n",
       "      <th></th>\n",
       "      <th>Material_replace</th>\n",
       "      <th>BET surface area_m2/g</th>\n",
       "      <th>Total pore volume_cm3/g</th>\n",
       "      <th>CO2 uptake_mmol/g_25°C</th>\n",
       "      <th>Adsorption pressure_bar</th>\n",
       "    </tr>\n",
       "  </thead>\n",
       "  <tbody>\n",
       "    <tr>\n",
       "      <th>0</th>\n",
       "      <td>0</td>\n",
       "      <td>585.0</td>\n",
       "      <td>0.28</td>\n",
       "      <td>4.11</td>\n",
       "      <td>1</td>\n",
       "    </tr>\n",
       "    <tr>\n",
       "      <th>1</th>\n",
       "      <td>0</td>\n",
       "      <td>1379.0</td>\n",
       "      <td>0.58</td>\n",
       "      <td>4.18</td>\n",
       "      <td>1</td>\n",
       "    </tr>\n",
       "    <tr>\n",
       "      <th>2</th>\n",
       "      <td>0</td>\n",
       "      <td>1593.0</td>\n",
       "      <td>0.74</td>\n",
       "      <td>4.12</td>\n",
       "      <td>1</td>\n",
       "    </tr>\n",
       "    <tr>\n",
       "      <th>3</th>\n",
       "      <td>0</td>\n",
       "      <td>2064.0</td>\n",
       "      <td>0.98</td>\n",
       "      <td>3.75</td>\n",
       "      <td>1</td>\n",
       "    </tr>\n",
       "    <tr>\n",
       "      <th>4</th>\n",
       "      <td>0</td>\n",
       "      <td>2965.0</td>\n",
       "      <td>1.14</td>\n",
       "      <td>3.71</td>\n",
       "      <td>1</td>\n",
       "    </tr>\n",
       "  </tbody>\n",
       "</table>\n",
       "</div>"
      ],
      "text/plain": [
       "   Material_replace  BET surface area_m2/g  Total pore volume_cm3/g  \\\n",
       "0                 0                  585.0                     0.28   \n",
       "1                 0                 1379.0                     0.58   \n",
       "2                 0                 1593.0                     0.74   \n",
       "3                 0                 2064.0                     0.98   \n",
       "4                 0                 2965.0                     1.14   \n",
       "\n",
       "   CO2 uptake_mmol/g_25°C  Adsorption pressure_bar  \n",
       "0                    4.11                        1  \n",
       "1                    4.18                        1  \n",
       "2                    4.12                        1  \n",
       "3                    3.75                        1  \n",
       "4                    3.71                        1  "
      ]
     },
     "execution_count": 30,
     "metadata": {},
     "output_type": "execute_result"
    }
   ],
   "source": [
    "df3.head()"
   ]
  },
  {
   "cell_type": "code",
   "execution_count": 31,
   "id": "18c5c698",
   "metadata": {},
   "outputs": [
    {
     "name": "stdout",
     "output_type": "stream",
     "text": [
      "H-Statistic: 27.36766992935005\n",
      "P-Value: 1.140738196109236e-06\n"
     ]
    }
   ],
   "source": [
    "from scipy.stats import kruskal\n",
    "\n",
    "material_0 = df3[df3['Material_replace'] == 0]['CO2 uptake_mmol/g_25°C']\n",
    "material_1 = df3[df3['Material_replace'] == 1]['CO2 uptake_mmol/g_25°C']\n",
    "material_2 = df3[df3['Material_replace'] == 2]['CO2 uptake_mmol/g_25°C']\n",
    "\n",
    "h_statistic, p_value = kruskal(material_0, material_1, material_2)\n",
    "\n",
    "print(\"H-Statistic:\", h_statistic)\n",
    "print(\"P-Value:\", p_value)"
   ]
  },
  {
   "cell_type": "markdown",
   "id": "94e1e03b",
   "metadata": {},
   "source": [
    "As we can see above, the p-value is less than 𝛼, thus I can reject the null hypothesis, suggesting a significant difference among at least one pair of materials regarding $CO_2$ adsorption. After performing the Dunn test to identify which specific pairs of materials are different, I found that all of them are significantly different, considering the p-values less than 0.05. The result is illustrated below in a chart."
   ]
  },
  {
   "cell_type": "code",
   "execution_count": 32,
   "id": "7184be75",
   "metadata": {
    "scrolled": true
   },
   "outputs": [
    {
     "name": "stdout",
     "output_type": "stream",
     "text": [
      "Dunn Test Results:\n",
      "              1         2             3\n",
      "1  1.000000e+00  0.007996  5.168780e-07\n",
      "2  7.996149e-03  1.000000  4.706746e-02\n",
      "3  5.168780e-07  0.047067  1.000000e+00\n"
     ]
    }
   ],
   "source": [
    "import scikit_posthocs as sp\n",
    "\n",
    "# Combine data into a list of lists\n",
    "all_data = [material_0, material_1, material_2]\n",
    "\n",
    "# Perform Kruskal-Wallis test\n",
    "h_statistic, p_value = kruskal(*all_data)\n",
    "\n",
    "# Check if the overall Kruskal-Wallis test is significant\n",
    "if p_value < 0.05:\n",
    "    # Perform Dunn post-hoc test for pairwise comparisons\n",
    "    results = sp.posthoc_dunn(all_data, p_adjust='bonferroni')\n",
    "    print(\"Dunn Test Results:\")\n",
    "    print(results)\n",
    "else:\n",
    "    print(\"No significant difference in the Kruskal-Wallis test.\")\n"
   ]
  },
  {
   "cell_type": "code",
   "execution_count": 33,
   "id": "7474aecf",
   "metadata": {},
   "outputs": [
    {
     "name": "stdout",
     "output_type": "stream",
     "text": [
      "4.4682352941176475 0.933322260088374\n",
      "2.588571428571429 1.7475276413101044\n",
      "1.273157894736842 0.384188215325928\n"
     ]
    }
   ],
   "source": [
    "import numpy as np\n",
    "\n",
    "# Material 0:\n",
    "mean_material_0 = np.mean(material_0)\n",
    "std_dev_material_0 = np.std(material_0, ddof=1)\n",
    "\n",
    "# Material 1:\n",
    "mean_material_1 = np.mean(material_1)\n",
    "std_dev_material_1 = np.std(material_1, ddof=1)\n",
    "\n",
    "# Material 2:\n",
    "mean_material_2 = np.mean(material_2)\n",
    "std_dev_material_2 = np.std(material_2, ddof=1)\n",
    "\n",
    "print(mean_material_0, std_dev_material_0)\n",
    "print(mean_material_1, std_dev_material_1)\n",
    "print(mean_material_2, std_dev_material_2)"
   ]
  },
  {
   "cell_type": "code",
   "execution_count": 34,
   "id": "f081a4fb",
   "metadata": {},
   "outputs": [
    {
     "data": {
      "image/png": "[encoded data removed]",
      "text/plain": [
       "<Figure size 640x480 with 1 Axes>"
      ]
     },
     "metadata": {},
     "output_type": "display_data"
    }
   ],
   "source": [
    "materials = ['Activated Carbon', 'MOFs', 'Polymers']\n",
    "means = [mean_material_0, mean_material_1, mean_material_2]\n",
    "std_devs = [std_dev_material_0, std_dev_material_1, std_dev_material_2]\n",
    "\n",
    "fig, ax = plt.subplots()\n",
    "ax.bar(materials, means, yerr=std_devs, capsize=5, color=['lightblue', 'lightgreen', 'lightpink'])\n",
    "ax.set_ylabel('CO2 uptake (mmol/g 25°C)')\n",
    "ax.set_title('Mean and Standard Deviation of Materials')\n",
    "plt.show()"
   ]
  },
  {
   "cell_type": "markdown",
   "id": "df3859b5",
   "metadata": {},
   "source": [
    "## Data Preparation"
   ]
  },
  {
   "cell_type": "markdown",
   "id": "d437f082",
   "metadata": {},
   "source": [
    "### Preprocessing:"
   ]
  },
  {
   "cell_type": "markdown",
   "id": "a343fece",
   "metadata": {},
   "source": [
    "In this phase, I will preprocess the data, making them suitable for the ML model, like standardizing all features to be on the same scale to reduce memory and time consumption and avoid missed calculations. I will also use one-hot encoding to avoid attributing weight to the categories, avoiding that one material has more advantages."
   ]
  },
  {
   "cell_type": "markdown",
   "id": "90e40341",
   "metadata": {},
   "source": [
    "##### One-hot encoding"
   ]
  },
  {
   "cell_type": "markdown",
   "id": "a11bd600",
   "metadata": {},
   "source": [
    "I will use the pd.get_dummies function from the panda's library to perform the one-hot encoding. "
   ]
  },
  {
   "cell_type": "code",
   "execution_count": 35,
   "id": "bb24fe29",
   "metadata": {},
   "outputs": [
    {
     "data": {
      "text/html": [
       "<div>\n",
       "<style scoped>\n",
       "    .dataframe tbody tr th:only-of-type {\n",
       "        vertical-align: middle;\n",
       "    }\n",
       "\n",
       "    .dataframe tbody tr th {\n",
       "        vertical-align: top;\n",
       "    }\n",
       "\n",
       "    .dataframe thead th {\n",
       "        text-align: right;\n",
       "    }\n",
       "</style>\n",
       "<table border=\"1\" class=\"dataframe\">\n",
       "  <thead>\n",
       "    <tr style=\"text-align: right;\">\n",
       "      <th></th>\n",
       "      <th>BET surface area_m2/g</th>\n",
       "      <th>Total pore volume_cm3/g</th>\n",
       "      <th>CO2 uptake_mmol/g_25°C</th>\n",
       "      <th>Adsorption pressure_bar</th>\n",
       "      <th>Material_replace_0</th>\n",
       "      <th>Material_replace_1</th>\n",
       "      <th>Material_replace_2</th>\n",
       "    </tr>\n",
       "  </thead>\n",
       "  <tbody>\n",
       "    <tr>\n",
       "      <th>0</th>\n",
       "      <td>585.0</td>\n",
       "      <td>0.28</td>\n",
       "      <td>4.11</td>\n",
       "      <td>1</td>\n",
       "      <td>1</td>\n",
       "      <td>0</td>\n",
       "      <td>0</td>\n",
       "    </tr>\n",
       "    <tr>\n",
       "      <th>1</th>\n",
       "      <td>1379.0</td>\n",
       "      <td>0.58</td>\n",
       "      <td>4.18</td>\n",
       "      <td>1</td>\n",
       "      <td>1</td>\n",
       "      <td>0</td>\n",
       "      <td>0</td>\n",
       "    </tr>\n",
       "    <tr>\n",
       "      <th>2</th>\n",
       "      <td>1593.0</td>\n",
       "      <td>0.74</td>\n",
       "      <td>4.12</td>\n",
       "      <td>1</td>\n",
       "      <td>1</td>\n",
       "      <td>0</td>\n",
       "      <td>0</td>\n",
       "    </tr>\n",
       "    <tr>\n",
       "      <th>3</th>\n",
       "      <td>2064.0</td>\n",
       "      <td>0.98</td>\n",
       "      <td>3.75</td>\n",
       "      <td>1</td>\n",
       "      <td>1</td>\n",
       "      <td>0</td>\n",
       "      <td>0</td>\n",
       "    </tr>\n",
       "    <tr>\n",
       "      <th>4</th>\n",
       "      <td>2965.0</td>\n",
       "      <td>1.14</td>\n",
       "      <td>3.71</td>\n",
       "      <td>1</td>\n",
       "      <td>1</td>\n",
       "      <td>0</td>\n",
       "      <td>0</td>\n",
       "    </tr>\n",
       "  </tbody>\n",
       "</table>\n",
       "</div>"
      ],
      "text/plain": [
       "   BET surface area_m2/g  Total pore volume_cm3/g  CO2 uptake_mmol/g_25°C  \\\n",
       "0                  585.0                     0.28                    4.11   \n",
       "1                 1379.0                     0.58                    4.18   \n",
       "2                 1593.0                     0.74                    4.12   \n",
       "3                 2064.0                     0.98                    3.75   \n",
       "4                 2965.0                     1.14                    3.71   \n",
       "\n",
       "   Adsorption pressure_bar  Material_replace_0  Material_replace_1  \\\n",
       "0                        1                   1                   0   \n",
       "1                        1                   1                   0   \n",
       "2                        1                   1                   0   \n",
       "3                        1                   1                   0   \n",
       "4                        1                   1                   0   \n",
       "\n",
       "   Material_replace_2  \n",
       "0                   0  \n",
       "1                   0  \n",
       "2                   0  \n",
       "3                   0  \n",
       "4                   0  "
      ]
     },
     "execution_count": 35,
     "metadata": {},
     "output_type": "execute_result"
    }
   ],
   "source": [
    "df_encod = pd.get_dummies(df3, columns=['Material_replace'])\n",
    "df_encod.head()"
   ]
  },
  {
   "cell_type": "code",
   "execution_count": 36,
   "id": "80e3e9dd",
   "metadata": {},
   "outputs": [
    {
     "data": {
      "text/plain": [
       "(57, 7)"
      ]
     },
     "execution_count": 36,
     "metadata": {},
     "output_type": "execute_result"
    }
   ],
   "source": [
    "df_encod.shape"
   ]
  },
  {
   "cell_type": "code",
   "execution_count": 37,
   "id": "a0d34b7b",
   "metadata": {},
   "outputs": [
    {
     "name": "stdout",
     "output_type": "stream",
     "text": [
      "Sparsity of the dataset: 0.286\n"
     ]
    }
   ],
   "source": [
    "missing_values = df_encod.isnull().sum().sum()\n",
    "zero_values = (df_encod == 0).sum().sum()\n",
    "\n",
    "total_data_points = df_encod.size\n",
    "\n",
    "sparsity = (missing_values + zero_values) / total_data_points\n",
    "\n",
    "print(f\"Sparsity of the dataset: {sparsity:.3f}\")"
   ]
  },
  {
   "cell_type": "code",
   "execution_count": 38,
   "id": "2ba0e1d4",
   "metadata": {},
   "outputs": [
    {
     "name": "stdout",
     "output_type": "stream",
     "text": [
      "Missing values:  0\n",
      "zero_values:  114\n"
     ]
    }
   ],
   "source": [
    "print(\"Missing values: \", missing_values)\n",
    "print(\"zero_values: \", zero_values)"
   ]
  },
  {
   "cell_type": "markdown",
   "id": "60dd62bb",
   "metadata": {},
   "source": [
    "As we can see in the results above, the sparsity increased 4.8 times after the one-hot encoding; however, it is necessary not to add weight to categories in the material feature."
   ]
  },
  {
   "cell_type": "markdown",
   "id": "ca9336a4",
   "metadata": {},
   "source": [
    "##### Standardization"
   ]
  },
  {
   "cell_type": "markdown",
   "id": "a7130962",
   "metadata": {},
   "source": [
    "Standardization is a common preprocessing for many ML models; however, in the presence of outliers, generally necessary robust methods to handle it, such as the RobustScaler function that considers the median and the interquartile range (sci-kit-learn, n.d.). As I identified that this dataset contains 7% outliers, I will use the RobustScaler to deal with these outliers."
   ]
  },
  {
   "cell_type": "markdown",
   "id": "21cbeb0f",
   "metadata": {},
   "source": [
    "Before starting the normalization, I will drop the columns of materials because they result from one-hot encoding and, therefore, already have values between zero and one. I will also drop the column 'Adsorption pressure_bar' because its value is 1 for all records. "
   ]
  },
  {
   "cell_type": "code",
   "execution_count": 39,
   "id": "c269bf1b",
   "metadata": {
    "scrolled": true
   },
   "outputs": [
    {
     "data": {
      "text/html": [
       "<div>\n",
       "<style scoped>\n",
       "    .dataframe tbody tr th:only-of-type {\n",
       "        vertical-align: middle;\n",
       "    }\n",
       "\n",
       "    .dataframe tbody tr th {\n",
       "        vertical-align: top;\n",
       "    }\n",
       "\n",
       "    .dataframe thead th {\n",
       "        text-align: right;\n",
       "    }\n",
       "</style>\n",
       "<table border=\"1\" class=\"dataframe\">\n",
       "  <thead>\n",
       "    <tr style=\"text-align: right;\">\n",
       "      <th></th>\n",
       "      <th>BET surface area_m2/g</th>\n",
       "      <th>Total pore volume_cm3/g</th>\n",
       "      <th>CO2 uptake_mmol/g_25°C</th>\n",
       "    </tr>\n",
       "  </thead>\n",
       "  <tbody>\n",
       "    <tr>\n",
       "      <th>0</th>\n",
       "      <td>585.0</td>\n",
       "      <td>0.28</td>\n",
       "      <td>4.11</td>\n",
       "    </tr>\n",
       "    <tr>\n",
       "      <th>1</th>\n",
       "      <td>1379.0</td>\n",
       "      <td>0.58</td>\n",
       "      <td>4.18</td>\n",
       "    </tr>\n",
       "    <tr>\n",
       "      <th>2</th>\n",
       "      <td>1593.0</td>\n",
       "      <td>0.74</td>\n",
       "      <td>4.12</td>\n",
       "    </tr>\n",
       "    <tr>\n",
       "      <th>3</th>\n",
       "      <td>2064.0</td>\n",
       "      <td>0.98</td>\n",
       "      <td>3.75</td>\n",
       "    </tr>\n",
       "    <tr>\n",
       "      <th>4</th>\n",
       "      <td>2965.0</td>\n",
       "      <td>1.14</td>\n",
       "      <td>3.71</td>\n",
       "    </tr>\n",
       "  </tbody>\n",
       "</table>\n",
       "</div>"
      ],
      "text/plain": [
       "   BET surface area_m2/g  Total pore volume_cm3/g  CO2 uptake_mmol/g_25°C\n",
       "0                  585.0                     0.28                    4.11\n",
       "1                 1379.0                     0.58                    4.18\n",
       "2                 1593.0                     0.74                    4.12\n",
       "3                 2064.0                     0.98                    3.75\n",
       "4                 2965.0                     1.14                    3.71"
      ]
     },
     "execution_count": 39,
     "metadata": {},
     "output_type": "execute_result"
    }
   ],
   "source": [
    "df_norm = df_encod.drop(columns=[\"Material_replace_0\", \"Material_replace_1\", \"Material_replace_2\", \"Adsorption pressure_bar\"])\n",
    "df_norm.head()"
   ]
  },
  {
   "cell_type": "markdown",
   "id": "6c94a778",
   "metadata": {},
   "source": [
    "I will use the function RobustScaler from the SKlearn library to standardize the data."
   ]
  },
  {
   "cell_type": "code",
   "execution_count": 40,
   "id": "40894f08",
   "metadata": {},
   "outputs": [],
   "source": [
    "from sklearn.preprocessing import RobustScaler\n",
    "\n",
    "scaler = RobustScaler()\n",
    "scaled_data = scaler.fit_transform(df_norm)"
   ]
  },
  {
   "cell_type": "code",
   "execution_count": 41,
   "id": "139ef2df",
   "metadata": {},
   "outputs": [
    {
     "name": "stdout",
     "output_type": "stream",
     "text": [
      "[[-7.00176367e-01 -1.25416667e+00  6.90000000e-01]\n",
      " [ 0.00000000e+00 -6.29166667e-01  7.13333333e-01]\n",
      " [ 1.88712522e-01 -2.95833333e-01  6.93333333e-01]\n",
      " [ 6.04056437e-01  2.04166667e-01  5.70000000e-01]\n",
      " [ 1.39858907e+00  5.37500000e-01  5.56666667e-01]\n",
      " [ 1.55202822e+00  3.37083333e+00  4.53333333e-01]\n",
      " [ 2.32804233e-01 -5.20833333e-02  1.25333333e+00]\n",
      " [ 3.95061728e-01  1.62500000e-01  5.63333333e-01]\n",
      " [ 7.68959436e-01  3.29166667e-01  1.15666667e+00]\n",
      " [ 6.55643739e-01  2.85416667e-01  1.96666667e-01]\n",
      " [ 5.42328042e-01  2.41666667e-01  1.21000000e+00]\n",
      " [ 4.08289242e-01  5.83333333e-02  1.21000000e+00]\n",
      " [ 4.31216931e-01  3.70833333e-01  1.04333333e+00]\n",
      " [ 4.64726631e-01  3.70833333e-01  1.13333333e+00]\n",
      " [ 8.43033510e-01  1.37083333e+00  8.76666667e-01]\n",
      " [ 5.29100529e-02 -5.87500000e-01  7.86666667e-01]\n",
      " [-1.41975309e-01 -7.95833333e-01  6.53333333e-01]\n",
      " [-5.28747795e-01 -9.00833333e-01 -3.10000000e-01]\n",
      " [-9.15520282e-01 -1.00583333e+00 -4.66666667e-02]\n",
      " [-8.94885362e-01 -1.11083333e+00  1.38000000e+00]\n",
      " [-8.74250441e-01 -1.21583333e+00  8.96666667e-01]\n",
      " [-8.53615520e-01 -1.32083333e+00 -4.86666667e-01]\n",
      " [ 3.44885362e+00  2.68333333e+00 -4.13333333e-01]\n",
      " [ 3.44797178e-01 -3.60416667e-01 -3.30000000e-01]\n",
      " [ 7.61904762e-01  2.56250000e-02  8.53333333e-01]\n",
      " [ 6.19929453e-01  2.30625000e-02  1.10000000e-01]\n",
      " [ 5.33509700e-01  2.05000000e-02  1.26666667e-01]\n",
      " [ 4.28571429e-01  1.79375000e-02  6.66666667e-03]\n",
      " [ 4.03880071e-01  1.53750000e-02  0.00000000e+00]\n",
      " [ 1.95767196e-01  1.28125000e-02 -3.20000000e-01]\n",
      " [ 4.40917108e-03  1.02500000e-02 -3.20000000e-01]\n",
      " [ 3.11287478e-01  7.68750000e-03 -5.33333333e-02]\n",
      " [ 1.58730159e-01  5.12500000e-03 -7.00000000e-02]\n",
      " [-1.31393298e-01  2.56250000e-03  1.19666667e+00]\n",
      " [ 6.93121693e-01  0.00000000e+00  9.03333333e-01]\n",
      " [ 6.83421517e-01  4.16666667e-02  8.63333333e-01]\n",
      " [ 2.02028219e+00  1.32916667e+00 -3.83333333e-01]\n",
      " [-7.61022928e-01 -1.29583333e+00  2.36666667e-01]\n",
      " [-9.10934744e-01 -1.37916667e+00 -3.36666667e-01]\n",
      " [-9.29453263e-01 -5.87500000e-01 -1.90000000e-01]\n",
      " [-9.13580247e-01 -3.79166667e-01 -4.43333333e-01]\n",
      " [-5.35273369e-01  6.83333333e-01 -1.43333333e-01]\n",
      " [-3.65079365e-01  4.01666667e+00 -8.00000000e-02]\n",
      " [-5.12345679e-01  1.10000000e+00 -1.00000000e-01]\n",
      " [-1.00440917e+00 -1.05416667e+00  3.33333333e-03]\n",
      " [-4.77954145e-01 -9.00000000e-01 -2.86666667e-01]\n",
      " [-7.55731922e-01 -1.21250000e+00 -1.46666667e-01]\n",
      " [-4.23280423e-01 -2.75000000e-01 -3.66666667e-01]\n",
      " [-2.96296296e-01 -3.58333333e-01 -3.23333333e-01]\n",
      " [-4.22398589e-01 -6.91666667e-01 -2.96666667e-01]\n",
      " [-3.66843034e-01  2.04166667e-01 -2.33333333e-01]\n",
      " [-3.38624339e-01 -6.91666667e-01 -1.96666667e-01]\n",
      " [-3.68606702e-01 -1.08750000e+00 -2.60000000e-01]\n",
      " [-7.80423280e-01 -7.75000000e-01 -2.73333333e-01]\n",
      " [-3.18342152e-01 -6.70833333e-01 -2.76666667e-01]\n",
      " [-7.55731922e-01 -1.29583333e+00 -4.53333333e-01]\n",
      " [-7.64550265e-01 -8.58333333e-01 -4.53333333e-01]]\n"
     ]
    }
   ],
   "source": [
    "print(scaled_data)"
   ]
  },
  {
   "cell_type": "markdown",
   "id": "9094c716",
   "metadata": {},
   "source": [
    "##### Balanced class"
   ]
  },
  {
   "cell_type": "markdown",
   "id": "e5ab6fea",
   "metadata": {},
   "source": [
    "According to the function below, the data do not have a significantly imbalanced class; however, I will adjust the 'average' parameter to ensure it will not interfere with the models' performance."
   ]
  },
  {
   "cell_type": "code",
   "execution_count": 42,
   "id": "ba31f772",
   "metadata": {
    "scrolled": true
   },
   "outputs": [
    {
     "data": {
      "text/plain": [
       "1    21\n",
       "2    19\n",
       "0    17\n",
       "Name: Material_replace, dtype: int64"
      ]
     },
     "execution_count": 42,
     "metadata": {},
     "output_type": "execute_result"
    }
   ],
   "source": [
    "df3[\"Material_replace\"].value_counts()"
   ]
  },
  {
   "cell_type": "markdown",
   "id": "faa2b4a6",
   "metadata": {},
   "source": [
    "## Machine Learning implementation"
   ]
  },
  {
   "cell_type": "markdown",
   "id": "b44e1f9f",
   "metadata": {},
   "source": [
    "### k-Nearest Neighbors (k-NN)\n",
    "I choose to use this model because it can be applied to datasets with any number of classes and often gives a reasonable performance without complex adjustments (Müller and Guido, 2017, p.36,44)."
   ]
  },
  {
   "cell_type": "markdown",
   "id": "6607e7bc",
   "metadata": {},
   "source": [
    "Below, I will convert the array of the data standardized into a dataframe to posteriorly merge the columns dropped earlier. The new dataset will named 'df_ml'. "
   ]
  },
  {
   "cell_type": "code",
   "execution_count": 43,
   "id": "de8b212c",
   "metadata": {},
   "outputs": [
    {
     "data": {
      "text/html": [
       "<div>\n",
       "<style scoped>\n",
       "    .dataframe tbody tr th:only-of-type {\n",
       "        vertical-align: middle;\n",
       "    }\n",
       "\n",
       "    .dataframe tbody tr th {\n",
       "        vertical-align: top;\n",
       "    }\n",
       "\n",
       "    .dataframe thead th {\n",
       "        text-align: right;\n",
       "    }\n",
       "</style>\n",
       "<table border=\"1\" class=\"dataframe\">\n",
       "  <thead>\n",
       "    <tr style=\"text-align: right;\">\n",
       "      <th></th>\n",
       "      <th>BET surface area_m2/g</th>\n",
       "      <th>Total pore volume_cm3/g</th>\n",
       "      <th>CO2 uptake_mmol/g_25°C</th>\n",
       "    </tr>\n",
       "  </thead>\n",
       "  <tbody>\n",
       "    <tr>\n",
       "      <th>0</th>\n",
       "      <td>-0.700176</td>\n",
       "      <td>-1.254167</td>\n",
       "      <td>0.690000</td>\n",
       "    </tr>\n",
       "    <tr>\n",
       "      <th>1</th>\n",
       "      <td>0.000000</td>\n",
       "      <td>-0.629167</td>\n",
       "      <td>0.713333</td>\n",
       "    </tr>\n",
       "    <tr>\n",
       "      <th>2</th>\n",
       "      <td>0.188713</td>\n",
       "      <td>-0.295833</td>\n",
       "      <td>0.693333</td>\n",
       "    </tr>\n",
       "    <tr>\n",
       "      <th>3</th>\n",
       "      <td>0.604056</td>\n",
       "      <td>0.204167</td>\n",
       "      <td>0.570000</td>\n",
       "    </tr>\n",
       "    <tr>\n",
       "      <th>4</th>\n",
       "      <td>1.398589</td>\n",
       "      <td>0.537500</td>\n",
       "      <td>0.556667</td>\n",
       "    </tr>\n",
       "  </tbody>\n",
       "</table>\n",
       "</div>"
      ],
      "text/plain": [
       "   BET surface area_m2/g  Total pore volume_cm3/g  CO2 uptake_mmol/g_25°C\n",
       "0              -0.700176                -1.254167                0.690000\n",
       "1               0.000000                -0.629167                0.713333\n",
       "2               0.188713                -0.295833                0.693333\n",
       "3               0.604056                 0.204167                0.570000\n",
       "4               1.398589                 0.537500                0.556667"
      ]
     },
     "execution_count": 43,
     "metadata": {},
     "output_type": "execute_result"
    }
   ],
   "source": [
    "import numpy as np\n",
    "array_data = np.array(scaled_data)\n",
    "column_labels = ['BET surface area_m2/g', 'Total pore volume_cm3/g', 'CO2 uptake_mmol/g_25°C']\n",
    "df_ar = pd.DataFrame(array_data, columns=column_labels)\n",
    "df_ar.head()"
   ]
  },
  {
   "cell_type": "code",
   "execution_count": 44,
   "id": "40b9a690",
   "metadata": {},
   "outputs": [
    {
     "data": {
      "text/html": [
       "<div>\n",
       "<style scoped>\n",
       "    .dataframe tbody tr th:only-of-type {\n",
       "        vertical-align: middle;\n",
       "    }\n",
       "\n",
       "    .dataframe tbody tr th {\n",
       "        vertical-align: top;\n",
       "    }\n",
       "\n",
       "    .dataframe thead th {\n",
       "        text-align: right;\n",
       "    }\n",
       "</style>\n",
       "<table border=\"1\" class=\"dataframe\">\n",
       "  <thead>\n",
       "    <tr style=\"text-align: right;\">\n",
       "      <th></th>\n",
       "      <th>BET surface area_m2/g</th>\n",
       "      <th>Total pore volume_cm3/g</th>\n",
       "      <th>CO2 uptake_mmol/g_25°C</th>\n",
       "      <th>Material_replace_0</th>\n",
       "      <th>Material_replace_1</th>\n",
       "      <th>Material_replace_2</th>\n",
       "    </tr>\n",
       "  </thead>\n",
       "  <tbody>\n",
       "    <tr>\n",
       "      <th>0</th>\n",
       "      <td>-0.700176</td>\n",
       "      <td>-1.254167</td>\n",
       "      <td>0.690000</td>\n",
       "      <td>1</td>\n",
       "      <td>0</td>\n",
       "      <td>0</td>\n",
       "    </tr>\n",
       "    <tr>\n",
       "      <th>1</th>\n",
       "      <td>0.000000</td>\n",
       "      <td>-0.629167</td>\n",
       "      <td>0.713333</td>\n",
       "      <td>1</td>\n",
       "      <td>0</td>\n",
       "      <td>0</td>\n",
       "    </tr>\n",
       "    <tr>\n",
       "      <th>2</th>\n",
       "      <td>0.188713</td>\n",
       "      <td>-0.295833</td>\n",
       "      <td>0.693333</td>\n",
       "      <td>1</td>\n",
       "      <td>0</td>\n",
       "      <td>0</td>\n",
       "    </tr>\n",
       "    <tr>\n",
       "      <th>3</th>\n",
       "      <td>0.604056</td>\n",
       "      <td>0.204167</td>\n",
       "      <td>0.570000</td>\n",
       "      <td>1</td>\n",
       "      <td>0</td>\n",
       "      <td>0</td>\n",
       "    </tr>\n",
       "    <tr>\n",
       "      <th>4</th>\n",
       "      <td>1.398589</td>\n",
       "      <td>0.537500</td>\n",
       "      <td>0.556667</td>\n",
       "      <td>1</td>\n",
       "      <td>0</td>\n",
       "      <td>0</td>\n",
       "    </tr>\n",
       "  </tbody>\n",
       "</table>\n",
       "</div>"
      ],
      "text/plain": [
       "   BET surface area_m2/g  Total pore volume_cm3/g  CO2 uptake_mmol/g_25°C  \\\n",
       "0              -0.700176                -1.254167                0.690000   \n",
       "1               0.000000                -0.629167                0.713333   \n",
       "2               0.188713                -0.295833                0.693333   \n",
       "3               0.604056                 0.204167                0.570000   \n",
       "4               1.398589                 0.537500                0.556667   \n",
       "\n",
       "   Material_replace_0  Material_replace_1  Material_replace_2  \n",
       "0                   1                   0                   0  \n",
       "1                   1                   0                   0  \n",
       "2                   1                   0                   0  \n",
       "3                   1                   0                   0  \n",
       "4                   1                   0                   0  "
      ]
     },
     "execution_count": 44,
     "metadata": {},
     "output_type": "execute_result"
    }
   ],
   "source": [
    "df_ml = pd.merge(df_ar, df_encod[[\"Material_replace_0\", \"Material_replace_1\", \"Material_replace_2\"]], left_index=True, right_index=True, how='left')\n",
    "df_ml.head()"
   ]
  },
  {
   "cell_type": "markdown",
   "id": "7de55f20",
   "metadata": {},
   "source": [
    "Now, I will prepare the data to split for performing the k-NN.\n",
    "\n",
    "The target variable will be the 'Material_replace' because I want to identify which material can be suitable given a certain amount of CO2 uptake desired by the industry. \n",
    "\n",
    "First, I will define the X and y variables. Then, I used the 'idxmax' to flatten the target variable without introducing different weights to the classes."
   ]
  },
  {
   "cell_type": "code",
   "execution_count": 45,
   "id": "3e0d932a",
   "metadata": {},
   "outputs": [],
   "source": [
    "X = df_ml.drop([\"Material_replace_0\", \"Material_replace_1\", \"Material_replace_2\"], axis=1)\n",
    "y = df_ml[[\"Material_replace_0\", \"Material_replace_1\", \"Material_replace_2\"]]\n",
    "\n",
    "y = y.idxmax(axis=1)"
   ]
  },
  {
   "cell_type": "markdown",
   "id": "45c61dde",
   "metadata": {},
   "source": [
    "I will Split the data into train and test sets."
   ]
  },
  {
   "cell_type": "code",
   "execution_count": 46,
   "id": "3891c614",
   "metadata": {},
   "outputs": [
    {
     "data": {
      "text/plain": [
       "((45, 3), (12, 3), (45,), (12,))"
      ]
     },
     "execution_count": 46,
     "metadata": {},
     "output_type": "execute_result"
    }
   ],
   "source": [
    "from sklearn.model_selection import train_test_split, cross_val_predict\n",
    "\n",
    "X_train, X_test, y_train, y_test = train_test_split(X, y, test_size=0.2, random_state=63)\n",
    "X_train.shape, X_test.shape, y_train.shape, y_test.shape"
   ]
  },
  {
   "cell_type": "markdown",
   "id": "ed60cce1",
   "metadata": {},
   "source": [
    "I will initialize the k-NN classifiers and then use the Cross-Validation to reduce the possibility of bias in the model performance, as it is a statistical method used to assess the performance of a machine learning model by splitting the dataset into multiple subsets (folds) that will be trained and evaluating the model on different combinations of these folds (Müller and Guido, 2017, p.253)."
   ]
  },
  {
   "cell_type": "code",
   "execution_count": 47,
   "id": "4d86076c",
   "metadata": {},
   "outputs": [],
   "source": [
    "from sklearn.neighbors import KNeighborsClassifier\n",
    "\n",
    "knn = KNeighborsClassifier(n_neighbors=3, metric=\"manhattan\")\n",
    "\n",
    "y_pred_train = cross_val_predict(knn, X_train, y_train, cv=5)"
   ]
  },
  {
   "cell_type": "markdown",
   "id": "64fa472e",
   "metadata": {},
   "source": [
    "I will fit the model on the training set and make predictions on the test set."
   ]
  },
  {
   "cell_type": "code",
   "execution_count": 48,
   "id": "6894078b",
   "metadata": {},
   "outputs": [],
   "source": [
    "knn.fit(X_train, y_train)\n",
    "\n",
    "y_pred_test = knn.predict(X_test)"
   ]
  },
  {
   "cell_type": "markdown",
   "id": "4b5f6a4f",
   "metadata": {},
   "source": [
    "###### Metrics for training set"
   ]
  },
  {
   "cell_type": "markdown",
   "id": "9599c3eb",
   "metadata": {},
   "source": [
    "I will calculate the metrics (accuracy, precision, recall and F1-score) for the training and test set to evaluate the models' performance. I will also use the \"average='weighted'\" to ensure that the metrics will not dominate in the majority class compared to the minority because there is a slight difference between the classes, and as I am using a small dataset, it could make a significant difference."
   ]
  },
  {
   "cell_type": "code",
   "execution_count": 49,
   "id": "11dfb9cd",
   "metadata": {},
   "outputs": [
    {
     "name": "stdout",
     "output_type": "stream",
     "text": [
      "Metrics for Training set:\n",
      "Accuracy: 0.7778\n",
      "Precision: 0.7760\n",
      "Recall: 0.7778\n",
      "F1 Score: 0.7703\n",
      "\n",
      "Confusion Matrix:\n"
     ]
    },
    {
     "data": {
      "image/png": "[encoded data removed]",
      "text/plain": [
       "<Figure size 640x480 with 1 Axes>"
      ]
     },
     "metadata": {},
     "output_type": "display_data"
    }
   ],
   "source": [
    "from sklearn.metrics import confusion_matrix, accuracy_score, precision_score, recall_score, f1_score\n",
    "\n",
    "accuracy_train = accuracy_score(y_train, y_pred_train)\n",
    "precision_train = precision_score(y_train, y_pred_train, average='weighted')\n",
    "recall_train = recall_score(y_train, y_pred_train, average='weighted')\n",
    "f1_train = f1_score(y_train, y_pred_train, average='weighted')\n",
    "\n",
    "print(\"Metrics for Training set:\")\n",
    "print(f\"Accuracy: {accuracy_train:.4f}\")\n",
    "print(f\"Precision: {precision_train:.4f}\")\n",
    "print(f\"Recall: {recall_train:.4f}\")\n",
    "print(f\"F1 Score: {f1_train:.4f}\")\n",
    "print(\"\\nConfusion Matrix:\")\n",
    "\n",
    "cm_train = confusion_matrix(y_train, y_pred_train)\n",
    "sns.heatmap(cm_train, annot=True, cmap='Greens', fmt='g', cbar=False)\n",
    "plt.title('Confusion Matrix - Training set')\n",
    "plt.xlabel('Predicted')\n",
    "plt.ylabel('True')\n",
    "plt.show()"
   ]
  },
  {
   "cell_type": "markdown",
   "id": "3df60e7b",
   "metadata": {},
   "source": [
    "###### Metrics for test set"
   ]
  },
  {
   "cell_type": "code",
   "execution_count": 50,
   "id": "b4c74167",
   "metadata": {},
   "outputs": [
    {
     "name": "stdout",
     "output_type": "stream",
     "text": [
      "\n",
      "Metrics for Test set:\n",
      "Accuracy: 0.6667\n",
      "Precision: 0.8889\n",
      "Recall: 0.6667\n",
      "F1 Score: 0.6667\n",
      "\n",
      "Confusion Matrix:\n"
     ]
    },
    {
     "data": {
      "image/png": "[encoded data removed]",
      "text/plain": [
       "<Figure size 640x480 with 1 Axes>"
      ]
     },
     "metadata": {},
     "output_type": "display_data"
    }
   ],
   "source": [
    "accuracy_test = accuracy_score(y_test, y_pred_test)\n",
    "precision_test = precision_score(y_test, y_pred_test, average='weighted')\n",
    "recall_test = recall_score(y_test, y_pred_test, average='weighted')\n",
    "f1_test = f1_score(y_test, y_pred_test, average='weighted')\n",
    "\n",
    "print(\"\\nMetrics for Test set:\")\n",
    "print(f\"Accuracy: {accuracy_test:.4f}\")\n",
    "print(f\"Precision: {precision_test:.4f}\")\n",
    "print(f\"Recall: {recall_test:.4f}\")\n",
    "print(f\"F1 Score: {f1_test:.4f}\")\n",
    "print(\"\\nConfusion Matrix:\")\n",
    "\n",
    "cm_test = confusion_matrix(y_test, y_pred_test)\n",
    "sns.heatmap(cm_test, annot=True, cmap='Greens', fmt='g', cbar=False)\n",
    "plt.title('Confusion Matrix - Test set')\n",
    "plt.xlabel('Predicted')\n",
    "plt.ylabel('True')\n",
    "plt.show()"
   ]
  },
  {
   "cell_type": "markdown",
   "id": "9847a707",
   "metadata": {},
   "source": [
    "## Evaluation - kNN"
   ]
  },
  {
   "cell_type": "code",
   "execution_count": 51,
   "id": "267be0ef",
   "metadata": {
    "scrolled": false
   },
   "outputs": [
    {
     "name": "stdout",
     "output_type": "stream",
     "text": [
      "+------------+---------+--------+\n",
      "| 10% test   |   Train |   Test |\n",
      "+============+=========+========+\n",
      "| Accuracy   |  0.7451 | 0.8333 |\n",
      "+------------+---------+--------+\n",
      "| Precision  |  0.7489 | 0.9167 |\n",
      "+------------+---------+--------+\n",
      "| Recall     |  0.7451 | 0.8333 |\n",
      "+------------+---------+--------+\n",
      "| F1 Score   |  0.7348 | 0.8333 |\n",
      "+------------+---------+--------+\n",
      "+------------+---------+--------+\n",
      "| 20% test   |   Train |   Test |\n",
      "+============+=========+========+\n",
      "| Accuracy   |  0.7111 | 0.6667 |\n",
      "+------------+---------+--------+\n",
      "| Precision  |  0.704  | 0.8889 |\n",
      "+------------+---------+--------+\n",
      "| Recall     |  0.7111 | 0.6667 |\n",
      "+------------+---------+--------+\n",
      "| F1 Score   |  0.6978 | 0.6667 |\n",
      "+------------+---------+--------+\n",
      "+------------+---------+--------+\n",
      "| 30% test   |   Train |   Test |\n",
      "+============+=========+========+\n",
      "| Accuracy   |  0.7436 | 0.5556 |\n",
      "+------------+---------+--------+\n",
      "| Precision  |  0.7433 | 0.7389 |\n",
      "+------------+---------+--------+\n",
      "| Recall     |  0.7436 | 0.5556 |\n",
      "+------------+---------+--------+\n",
      "| F1 Score   |  0.7384 | 0.5915 |\n",
      "+------------+---------+--------+\n"
     ]
    },
    {
     "data": {
      "image/png": "[encoded data removed]",
      "text/plain": [
       "<Figure size 640x480 with 1 Axes>"
      ]
     },
     "metadata": {},
     "output_type": "display_data"
    },
    {
     "data": {
      "image/png": "[encoded data removed]",
      "text/plain": [
       "<Figure size 640x480 with 1 Axes>"
      ]
     },
     "metadata": {},
     "output_type": "display_data"
    },
    {
     "data": {
      "image/png": "[encoded data removed]",
      "text/plain": [
       "<Figure size 640x480 with 1 Axes>"
      ]
     },
     "metadata": {},
     "output_type": "display_data"
    }
   ],
   "source": [
    "import matplotlib.pyplot as plt\n",
    "from tabulate import tabulate\n",
    "import numpy as np\n",
    "\n",
    "data = [\n",
    "    [\"Accuracy\", 0.7451, 0.8333],\n",
    "    [\"Precision\", 0.7489, 0.9167],\n",
    "    [\"Recall\", 0.7451, 0.8333],\n",
    "    [\"F1 Score\", 0.7348, 0.8333],\n",
    "]   \n",
    "headers = [\"10% test\", \"Train\", \"Test\"]\n",
    "\n",
    "data1 = [\n",
    "    [\"Accuracy\", 0.7111, 0.6667],\n",
    "    [\"Precision\", 0.7040, 0.8889],\n",
    "    [\"Recall\", 0.7111, 0.6667],\n",
    "    [\"F1 Score\", 0.6978, 0.6667],\n",
    "]   \n",
    "headers1 = [\"20% test\", \"Train\", \"Test\"]\n",
    "\n",
    "data2 = [\n",
    "    [\"Accuracy\", 0.7436, 0.5556],\n",
    "    [\"Precision\", 0.7433, 0.7389],\n",
    "    [\"Recall\", 0.7436, 0.5556],\n",
    "    [\"F1 Score\", 0.7384, 0.5915],\n",
    "]   \n",
    "headers2 = [\"30% test\", \"Train\", \"Test\"]\n",
    "print(tabulate(data, headers=headers, tablefmt=\"grid\"))\n",
    "print(tabulate(data1, headers=headers1, tablefmt=\"grid\"))\n",
    "print(tabulate(data2, headers=headers2, tablefmt=\"grid\"))\n",
    "\n",
    "def plot_data(data, headers, title):\n",
    "    categories = [row[0] for row in data]\n",
    "    values_train = [row[1] for row in data]\n",
    "    values_test = [row[2] for row in data]\n",
    "\n",
    "    bar_width = 0.35\n",
    "    index = np.arange(len(categories))\n",
    "\n",
    "    fig, ax = plt.subplots()\n",
    "    train_bars = ax.bar(index, values_train, bar_width, label=\"Train\")\n",
    "    test_bars = ax.bar(index + bar_width, values_test, bar_width, label=\"Test\")\n",
    "\n",
    "    ax.set_xlabel(\"Metrics\")\n",
    "    ax.set_ylabel(\"Values\")\n",
    "    ax.set_title(title)\n",
    "    ax.set_xticks(index + bar_width / 2)\n",
    "    ax.set_xticklabels(categories)\n",
    "    ax.legend()\n",
    "\n",
    "    plt.show()\n",
    "\n",
    "plot_data(data, headers, \"k-NN, 10% test\")\n",
    "plot_data(data1, headers1, \"k-NN, 20% test\")\n",
    "plot_data(data2, headers2, \"k-NN, 30% test\")"
   ]
  },
  {
   "cell_type": "markdown",
   "id": "e3e115ac",
   "metadata": {},
   "source": [
    "Using the default parameters, I obtained overfitting in all metrics when I split the test into 10%. In 20%, it happened only in the precision metric, meaning that the model memorised the positive instances but generalised well when considering the other metrics. The same occurred in the 30% split but with more differences between the training and test sets; however, these results decreased compared to the 20%. Because of this, I will use the 20% percentage split for the hyperparameters adjustment in the next step."
   ]
  },
  {
   "cell_type": "markdown",
   "id": "dacd89d5",
   "metadata": {},
   "source": [
    "#### Adjusting hyperparameters"
   ]
  },
  {
   "cell_type": "markdown",
   "id": "c36d6c71",
   "metadata": {},
   "source": [
    "Now, I will focus on the 20% test split to assess the hyperparameters in this model to try to improve the model's performance.\n",
    "\n",
    "The k-NN classifier has two essential parameters: the number of neighbors and the distance measurement between data points (Müller and Guido, 2017, p.44). Regarding the number of neighbours (chart below), I found that the number 3 is the best in this case because it is reasonably accurate and is not overfitted. \n",
    "\n",
    "Considering the distance measurement, they resulted in reasonable accuracy and generalization. The distance metric did not influence the test set; however, Manhattan performed better than the other metrics in the training set (chart below)."
   ]
  },
  {
   "cell_type": "code",
   "execution_count": 52,
   "id": "1ee0d0e4",
   "metadata": {},
   "outputs": [
    {
     "name": "stdout",
     "output_type": "stream",
     "text": [
      "+---------------------+---------+--------+\n",
      "|   Accuracy, 20%test |   Train |   Test |\n",
      "+=====================+=========+========+\n",
      "|                   1 |  0.6889 | 0.75   |\n",
      "+---------------------+---------+--------+\n",
      "|                   2 |  0.6    | 0.5833 |\n",
      "+---------------------+---------+--------+\n",
      "|                   3 |  0.7111 | 0.6667 |\n",
      "+---------------------+---------+--------+\n",
      "|                   4 |  0.6444 | 0.5833 |\n",
      "+---------------------+---------+--------+\n",
      "|                   5 |  0.7111 | 0.6667 |\n",
      "+---------------------+---------+--------+\n"
     ]
    },
    {
     "data": {
      "image/png": "[encoded data removed]",
      "text/plain": [
       "<Figure size 640x480 with 1 Axes>"
      ]
     },
     "metadata": {},
     "output_type": "display_data"
    }
   ],
   "source": [
    "data = [\n",
    "    [\"1\", 0.6889, 0.7500],\n",
    "    [\"2\", 0.6000, 0.5833],\n",
    "    [\"3\", 0.7111, 0.6667],\n",
    "    [\"4\", 0.6444, 0.5833],\n",
    "    [\"5\", 0.7111, 0.6667],\n",
    "]   \n",
    "headers = [\"Accuracy, 20%test\", \"Train\", \"Test\"]\n",
    "\n",
    "print(tabulate(data, headers=headers, tablefmt=\"grid\"))\n",
    "\n",
    "def plot_data(data, headers, title):\n",
    "    categories = [row[0] for row in data]\n",
    "    values_train = [row[1] for row in data]\n",
    "    values_test = [row[2] for row in data]\n",
    "\n",
    "    bar_width = 0.4\n",
    "    index = np.arange(len(categories))\n",
    "\n",
    "    fig, ax = plt.subplots()\n",
    "    train_bars = ax.bar(index, values_train, bar_width, color=\"lightgreen\", label=\"Train\")\n",
    "    test_bars = ax.bar(index + bar_width, values_test, bar_width, color=\"green\", label=\"Test\")\n",
    "\n",
    "    ax.set_xlabel(\"Number of neighbors\")\n",
    "    ax.set_ylabel(\"Accuracy\")\n",
    "    ax.set_title(title)\n",
    "    ax.set_xticks(index + bar_width / 2)\n",
    "    ax.set_xticklabels(categories)\n",
    "    ax.legend()\n",
    "\n",
    "    plt.show()\n",
    "\n",
    "plot_data(data, headers, \"20% test\")"
   ]
  },
  {
   "cell_type": "code",
   "execution_count": 53,
   "id": "99f4ff9f",
   "metadata": {
    "scrolled": false
   },
   "outputs": [
    {
     "name": "stdout",
     "output_type": "stream",
     "text": [
      "+---------------------+---------+--------+\n",
      "| Accuracy, 30%test   |   Train |   Test |\n",
      "+=====================+=========+========+\n",
      "| euclidean           |  0.7111 | 0.6667 |\n",
      "+---------------------+---------+--------+\n",
      "| manhattan           |  0.7778 | 0.6667 |\n",
      "+---------------------+---------+--------+\n",
      "| chebyshev           |  0.7111 | 0.6667 |\n",
      "+---------------------+---------+--------+\n"
     ]
    },
    {
     "data": {
      "image/png": "[encoded data removed]",
      "text/plain": [
       "<Figure size 640x480 with 1 Axes>"
      ]
     },
     "metadata": {},
     "output_type": "display_data"
    }
   ],
   "source": [
    "data = [\n",
    "    [\"euclidean\", 0.7111, 0.6667],\n",
    "    [\"manhattan\", 0.7778, 0.6667],\n",
    "    [\"chebyshev\", 0.7111, 0.6667],\n",
    "]   \n",
    "headers = [\"Accuracy, 30%test\", \"Train\", \"Test\"]\n",
    "\n",
    "print(tabulate(data, headers=headers, tablefmt=\"grid\"))\n",
    "\n",
    "def plot_data(data, headers, title):\n",
    "    categories = [row[0] for row in data]\n",
    "    values_train = [row[1] for row in data]\n",
    "    values_test = [row[2] for row in data]\n",
    "\n",
    "    bar_width = 0.35\n",
    "    index = np.arange(len(categories))\n",
    "\n",
    "    fig, ax = plt.subplots()\n",
    "    train_bars = ax.bar(index, values_train, bar_width, color=\"lightblue\", label=\"Train\")\n",
    "    test_bars = ax.bar(index + bar_width, values_test, bar_width, color=\"blue\", label=\"Test\")\n",
    "\n",
    "    ax.set_xlabel(\"Distance metric\")\n",
    "    ax.set_ylabel(\"Accuracy\")\n",
    "    ax.set_title(title)\n",
    "    ax.set_xticks(index + bar_width / 2)\n",
    "    ax.set_xticklabels(categories)\n",
    "    ax.legend()\n",
    "\n",
    "    plt.show()\n",
    "\n",
    "plot_data(data, headers, \"30% test\")"
   ]
  },
  {
   "cell_type": "markdown",
   "id": "3a6676da",
   "metadata": {},
   "source": [
    "The chart below shows that using the 'manhattan' distance metric, the training set slightly improved compared to 'euclidean' and 'chebyshev' metrics. Therefore, at the moment, it is the best set that I could achieve with these adjustments."
   ]
  },
  {
   "cell_type": "code",
   "execution_count": 54,
   "id": "f124c38f",
   "metadata": {
    "scrolled": true
   },
   "outputs": [
    {
     "name": "stdout",
     "output_type": "stream",
     "text": [
      "+------------+---------+--------+\n",
      "| 20% test   |   Train |   Test |\n",
      "+============+=========+========+\n",
      "| Accuracy   |  0.7778 | 0.6667 |\n",
      "+------------+---------+--------+\n",
      "| Precision  |  0.7766 | 0.8889 |\n",
      "+------------+---------+--------+\n",
      "| Recall     |  0.7778 | 0.6667 |\n",
      "+------------+---------+--------+\n",
      "| F1 Score   |  0.7703 | 0.6667 |\n",
      "+------------+---------+--------+\n"
     ]
    },
    {
     "data": {
      "image/png": "[encoded data removed]",
      "text/plain": [
       "<Figure size 640x480 with 1 Axes>"
      ]
     },
     "metadata": {},
     "output_type": "display_data"
    }
   ],
   "source": [
    "data = [\n",
    "    [\"Accuracy\", 0.7778, 0.6667],\n",
    "    [\"Precision\", 0.77660, 0.8889],\n",
    "    [\"Recall\", 0.7778, 0.6667],\n",
    "    [\"F1 Score\", 0.7703, 0.6667],\n",
    "]   \n",
    "headers = [\"20% test\", \"Train\", \"Test\"]\n",
    "\n",
    "print(tabulate(data, headers=headers, tablefmt=\"grid\"))\n",
    "\n",
    "\n",
    "def plot_data(data, headers, title):\n",
    "    categories = [row[0] for row in data]\n",
    "    values_train = [row[1] for row in data]\n",
    "    values_test = [row[2] for row in data]\n",
    "\n",
    "    bar_width = 0.35\n",
    "    index = np.arange(len(categories))\n",
    "\n",
    "    fig, ax = plt.subplots()\n",
    "    train_bars = ax.bar(index, values_train, bar_width, label=\"Train\")\n",
    "    test_bars = ax.bar(index + bar_width, values_test, bar_width, label=\"Test\")\n",
    "\n",
    "    ax.set_xlabel(\"Metrics\")\n",
    "    ax.set_ylabel(\"Values\")\n",
    "    ax.set_title(title)\n",
    "    ax.set_xticks(index + bar_width / 2)\n",
    "    ax.set_xticklabels(categories)\n",
    "    ax.legend()\n",
    "\n",
    "    plt.show()\n",
    "\n",
    "plot_data(data, headers, \"k-NN, n_neighbors=3, metric='manhattan', 20% test\")"
   ]
  },
  {
   "cell_type": "markdown",
   "id": "a7514ef8",
   "metadata": {},
   "source": [
    "## kNN - SMOTE \n",
    "\n",
    "The Synthetic Minority Over-sampling Technique (SMOTE) is an algorithm that can be used to generate synthetic data to provide new related information on the positive class to the learning algorithm (Chawla, 2009, p.880).\n",
    "\n",
    "I will use the SMOTE balance the classes and try to imporeve the models performanceI will use the SMOTE to balance the classes and try to improve the k-NN's performance."
   ]
  },
  {
   "cell_type": "code",
   "execution_count": 55,
   "id": "952a75db",
   "metadata": {},
   "outputs": [
    {
     "data": {
      "text/plain": [
       "((45, 3), (12, 3), (45,), (12,))"
      ]
     },
     "execution_count": 55,
     "metadata": {},
     "output_type": "execute_result"
    }
   ],
   "source": [
    "from imblearn.over_sampling import SMOTE\n",
    "\n",
    "X_train, X_test, y_train, y_test = train_test_split(X, y, test_size=0.2, random_state=56)\n",
    "X_train.shape, X_test.shape, y_train.shape, y_test.shape"
   ]
  },
  {
   "cell_type": "markdown",
   "id": "ac37f528",
   "metadata": {},
   "source": [
    "I am Applying SMOTE to the training set only. If I apply it to the entire dataset, it will result in an overfit of the negative class, which will generate excellent metrics but not in accordance with the real dataset."
   ]
  },
  {
   "cell_type": "code",
   "execution_count": 56,
   "id": "62068256",
   "metadata": {},
   "outputs": [
    {
     "data": {
      "text/plain": [
       "((48, 3), (48,))"
      ]
     },
     "execution_count": 56,
     "metadata": {},
     "output_type": "execute_result"
    }
   ],
   "source": [
    "smote = SMOTE(random_state=51)\n",
    "X_train_resampled, y_train_resampled = smote.fit_resample(X_train, y_train)\n",
    "X_train_resampled.shape, y_train_resampled.shape"
   ]
  },
  {
   "cell_type": "markdown",
   "id": "70a2186f",
   "metadata": {},
   "source": [
    "I will use the code below to call the Gradient Boosting Classifier with the data balanced (SMOTE), and then I will train the model using the training sets and make predictions on the test set."
   ]
  },
  {
   "cell_type": "code",
   "execution_count": 57,
   "id": "bd287d08",
   "metadata": {},
   "outputs": [],
   "source": [
    "knn_smote = KNeighborsClassifier(n_neighbors=3, metric=\"manhattan\")\n",
    "\n",
    "y_train_pred = cross_val_predict(knn_smote, X_train_resampled, y_train_resampled, cv=5)"
   ]
  },
  {
   "cell_type": "code",
   "execution_count": 58,
   "id": "c305fe08",
   "metadata": {},
   "outputs": [
    {
     "data": {
      "text/html": [
       "<style>#sk-container-id-1 {color: black;}#sk-container-id-1 pre{padding: 0;}#sk-container-id-1 div.sk-toggleable {background-color: white;}#sk-container-id-1 label.sk-toggleable__label {cursor: pointer;display: block;width: 100%;margin-bottom: 0;padding: 0.3em;box-sizing: border-box;text-align: center;}#sk-container-id-1 label.sk-toggleable__label-arrow:before {content: \"▸\";float: left;margin-right: 0.25em;color: #696969;}#sk-container-id-1 label.sk-toggleable__label-arrow:hover:before {color: black;}#sk-container-id-1 div.sk-estimator:hover label.sk-toggleable__label-arrow:before {color: black;}#sk-container-id-1 div.sk-toggleable__content {max-height: 0;max-width: 0;overflow: hidden;text-align: left;background-color: #f0f8ff;}#sk-container-id-1 div.sk-toggleable__content pre {margin: 0.2em;color: black;border-radius: 0.25em;background-color: #f0f8ff;}#sk-container-id-1 input.sk-toggleable__control:checked~div.sk-toggleable__content {max-height: 200px;max-width: 100%;overflow: auto;}#sk-container-id-1 input.sk-toggleable__control:checked~label.sk-toggleable__label-arrow:before {content: \"▾\";}#sk-container-id-1 div.sk-estimator input.sk-toggleable__control:checked~label.sk-toggleable__label {background-color: #d4ebff;}#sk-container-id-1 div.sk-label input.sk-toggleable__control:checked~label.sk-toggleable__label {background-color: #d4ebff;}#sk-container-id-1 input.sk-hidden--visually {border: 0;clip: rect(1px 1px 1px 1px);clip: rect(1px, 1px, 1px, 1px);height: 1px;margin: -1px;overflow: hidden;padding: 0;position: absolute;width: 1px;}#sk-container-id-1 div.sk-estimator {font-family: monospace;background-color: #f0f8ff;border: 1px dotted black;border-radius: 0.25em;box-sizing: border-box;margin-bottom: 0.5em;}#sk-container-id-1 div.sk-estimator:hover {background-color: #d4ebff;}#sk-container-id-1 div.sk-parallel-item::after {content: \"\";width: 100%;border-bottom: 1px solid gray;flex-grow: 1;}#sk-container-id-1 div.sk-label:hover label.sk-toggleable__label {background-color: #d4ebff;}#sk-container-id-1 div.sk-serial::before {content: \"\";position: absolute;border-left: 1px solid gray;box-sizing: border-box;top: 0;bottom: 0;left: 50%;z-index: 0;}#sk-container-id-1 div.sk-serial {display: flex;flex-direction: column;align-items: center;background-color: white;padding-right: 0.2em;padding-left: 0.2em;position: relative;}#sk-container-id-1 div.sk-item {position: relative;z-index: 1;}#sk-container-id-1 div.sk-parallel {display: flex;align-items: stretch;justify-content: center;background-color: white;position: relative;}#sk-container-id-1 div.sk-item::before, #sk-container-id-1 div.sk-parallel-item::before {content: \"\";position: absolute;border-left: 1px solid gray;box-sizing: border-box;top: 0;bottom: 0;left: 50%;z-index: -1;}#sk-container-id-1 div.sk-parallel-item {display: flex;flex-direction: column;z-index: 1;position: relative;background-color: white;}#sk-container-id-1 div.sk-parallel-item:first-child::after {align-self: flex-end;width: 50%;}#sk-container-id-1 div.sk-parallel-item:last-child::after {align-self: flex-start;width: 50%;}#sk-container-id-1 div.sk-parallel-item:only-child::after {width: 0;}#sk-container-id-1 div.sk-dashed-wrapped {border: 1px dashed gray;margin: 0 0.4em 0.5em 0.4em;box-sizing: border-box;padding-bottom: 0.4em;background-color: white;}#sk-container-id-1 div.sk-label label {font-family: monospace;font-weight: bold;display: inline-block;line-height: 1.2em;}#sk-container-id-1 div.sk-label-container {text-align: center;}#sk-container-id-1 div.sk-container {/* jupyter's `normalize.less` sets `[hidden] { display: none; }` but bootstrap.min.css set `[hidden] { display: none !important; }` so we also need the `!important` here to be able to override the default hidden behavior on the sphinx rendered scikit-learn.org. See: https://github.com/scikit-learn/scikit-learn/issues/21755 */display: inline-block !important;position: relative;}#sk-container-id-1 div.sk-text-repr-fallback {display: none;}</style><div id=\"sk-container-id-1\" class=\"sk-top-container\"><div class=\"sk-text-repr-fallback\"><pre>KNeighborsClassifier(metric=&#x27;manhattan&#x27;, n_neighbors=3)</pre><b>In a Jupyter environment, please rerun this cell to show the HTML representation or trust the notebook. <br />On GitHub, the HTML representation is unable to render, please try loading this page with nbviewer.org.</b></div><div class=\"sk-container\" hidden><div class=\"sk-item\"><div class=\"sk-estimator sk-toggleable\"><input class=\"sk-toggleable__control sk-hidden--visually\" id=\"sk-estimator-id-1\" type=\"checkbox\" checked><label for=\"sk-estimator-id-1\" class=\"sk-toggleable__label sk-toggleable__label-arrow\">KNeighborsClassifier</label><div class=\"sk-toggleable__content\"><pre>KNeighborsClassifier(metric=&#x27;manhattan&#x27;, n_neighbors=3)</pre></div></div></div></div></div>"
      ],
      "text/plain": [
       "KNeighborsClassifier(metric='manhattan', n_neighbors=3)"
      ]
     },
     "execution_count": 58,
     "metadata": {},
     "output_type": "execute_result"
    }
   ],
   "source": [
    "knn_smote.fit(X_train_resampled, y_train_resampled)"
   ]
  },
  {
   "cell_type": "markdown",
   "id": "ddc53d6f",
   "metadata": {},
   "source": [
    "Making predictions on the test set."
   ]
  },
  {
   "cell_type": "code",
   "execution_count": 59,
   "id": "f2014dd2",
   "metadata": {},
   "outputs": [],
   "source": [
    "y_pred_smote_knn = knn_smote.predict(X_test)"
   ]
  },
  {
   "cell_type": "markdown",
   "id": "02006ffd",
   "metadata": {},
   "source": [
    "####  Metrics - SMOTE - kNN"
   ]
  },
  {
   "cell_type": "code",
   "execution_count": 60,
   "id": "79e76f8b",
   "metadata": {},
   "outputs": [
    {
     "name": "stdout",
     "output_type": "stream",
     "text": [
      "Accuracy: 0.67\n",
      "precision: 0.57\n",
      "recall: 0.67\n",
      "F1 Score: 0.61\n"
     ]
    },
    {
     "name": "stderr",
     "output_type": "stream",
     "text": [
      "C:\\Users\\danie\\anaconda3\\Lib\\site-packages\\sklearn\\metrics\\_classification.py:1471: UndefinedMetricWarning: Precision is ill-defined and being set to 0.0 in labels with no predicted samples. Use `zero_division` parameter to control this behavior.\n",
      "  _warn_prf(average, modifier, msg_start, len(result))\n"
     ]
    }
   ],
   "source": [
    "from sklearn import metrics\n",
    "\n",
    "print( \"Accuracy: {:.2f}\".format(metrics.accuracy_score(y_test, y_pred_smote_knn)) )\n",
    "print( \"precision: {:.2f}\".format(metrics.precision_score(y_test, y_pred_smote_knn, average='weighted')) )\n",
    "print( \"recall: {:.2f}\".format(metrics.recall_score(y_test, y_pred_smote_knn, average='weighted')) )\n",
    "print( \"F1 Score: {:.2f}\".format(metrics.f1_score(y_test, y_pred_smote_knn, average='weighted')) )"
   ]
  },
  {
   "cell_type": "markdown",
   "id": "a1291f0f",
   "metadata": {},
   "source": [
    "####  Accuracy - SMOTE - kNN - train and test"
   ]
  },
  {
   "cell_type": "code",
   "execution_count": 61,
   "id": "e6f0cbc5",
   "metadata": {},
   "outputs": [
    {
     "name": "stdout",
     "output_type": "stream",
     "text": [
      "Training Accuracy : 0.8444444444444444\n",
      "Testing Accuracy : 0.6666666666666666\n"
     ]
    }
   ],
   "source": [
    "print(\"Training Accuracy :\", knn_smote.score(X_train, y_train))\n",
    "print(\"Testing Accuracy :\", knn_smote.score(X_test, y_test))"
   ]
  },
  {
   "cell_type": "code",
   "execution_count": 62,
   "id": "cf727949",
   "metadata": {},
   "outputs": [
    {
     "data": {
      "text/plain": [
       "Text(50.72222222222221, 0.5, 'Actual')"
      ]
     },
     "execution_count": 62,
     "metadata": {},
     "output_type": "execute_result"
    },
    {
     "data": {
      "image/png": "[encoded data removed]",
      "text/plain": [
       "<Figure size 640x480 with 2 Axes>"
      ]
     },
     "metadata": {},
     "output_type": "display_data"
    }
   ],
   "source": [
    "cm = confusion_matrix(y_test, y_pred_smote_knn)\n",
    "sns.heatmap(cm, annot=True)\n",
    "ax = sns.heatmap(cm, annot=True,                  \n",
    "                 xticklabels=['Activated Carbon', 'MOFs', 'Polymers'],                \n",
    "                 yticklabels=['Activated Carbon', 'MOFs', 'Polymers'],                  \n",
    "                 cbar=False)\n",
    "ax.set_xlabel(\"Prediction\")\n",
    "ax.set_ylabel(\"Actual\")"
   ]
  },
  {
   "cell_type": "markdown",
   "id": "4c9c8c41",
   "metadata": {},
   "source": [
    "After applying the SMOTE in the k-NN model, I realized that this tool did not promote enhancements in the model performance. Inclusive seems overfitting because the training accuracy is too high (0.84) and the test is not (0.67). Generally, it indicates that the training set learned the data too well, including its noises, and performs poorly in new data. "
   ]
  },
  {
   "cell_type": "markdown",
   "id": "83062998",
   "metadata": {},
   "source": [
    "### Gradient boosted regression trees\n",
    "I chose to use this model as an alternative to k-NN, which did not improve after extensive adjustments.\n",
    "\n",
    "Gradient Boosting is considered a powerful model due to its approach to building serial trees that try to correct the mistakes of the previous one; in addition, it is more sensitive than random forest and can provide better accuracy with the correct setting (Müller and Guido, 2017, p.88,89).\n",
    "\n",
    "I will use the scaled data because there is no difference in the model's performance between scaled and non-scaled data. "
   ]
  },
  {
   "cell_type": "markdown",
   "id": "09081e9d",
   "metadata": {},
   "source": [
    "I will prepare the data to split for performing the Gradient Boosting.\n",
    "\n",
    "First, I will define the X and y variables. Then, I used the 'idxmax' to flatten the target variable without introducing different weights to the classes."
   ]
  },
  {
   "cell_type": "code",
   "execution_count": 63,
   "id": "b4570450",
   "metadata": {},
   "outputs": [],
   "source": [
    "from sklearn.model_selection import train_test_split\n",
    "from sklearn.ensemble import GradientBoostingClassifier\n",
    "from sklearn.metrics import accuracy_score, precision_score, recall_score, f1_score, confusion_matrix\n",
    "\n",
    "X = df_ml.drop([\"Material_replace_0\", \"Material_replace_1\", \"Material_replace_2\"], axis=1)\n",
    "y = df_ml[[\"Material_replace_0\", \"Material_replace_1\", \"Material_replace_2\"]]\n",
    "\n",
    "y = y.idxmax(axis=1)"
   ]
  },
  {
   "cell_type": "markdown",
   "id": "72e6dd2f",
   "metadata": {},
   "source": [
    "I will Split the data into train and test sets."
   ]
  },
  {
   "cell_type": "code",
   "execution_count": 64,
   "id": "ccb07fb8",
   "metadata": {},
   "outputs": [
    {
     "data": {
      "text/plain": [
       "((45, 3), (12, 3), (45,), (12,))"
      ]
     },
     "execution_count": 64,
     "metadata": {},
     "output_type": "execute_result"
    }
   ],
   "source": [
    "X_train, X_test, y_train, y_test = train_test_split(X, y, test_size=0.2, random_state=12)\n",
    "\n",
    "X_train.shape, X_test.shape, y_train.shape, y_test.shape"
   ]
  },
  {
   "cell_type": "markdown",
   "id": "a6888977",
   "metadata": {},
   "source": [
    "I will initialize the Gradient Boosting classifiers and then use the Cross-Validation as I did in the previous model. "
   ]
  },
  {
   "cell_type": "code",
   "execution_count": 65,
   "id": "af470101",
   "metadata": {},
   "outputs": [],
   "source": [
    "gb_clf = GradientBoostingClassifier(n_estimators=100, learning_rate=0.01, max_depth=2, random_state=12)\n",
    "\n",
    "y_train_pred = cross_val_predict(gb_clf, X_train, y_train, cv=5)"
   ]
  },
  {
   "cell_type": "markdown",
   "id": "d9c5e917",
   "metadata": {},
   "source": [
    "I will fit the model on the training set and make predictions on the training and test set."
   ]
  },
  {
   "cell_type": "code",
   "execution_count": 66,
   "id": "e0994fc6",
   "metadata": {},
   "outputs": [],
   "source": [
    "gb_clf.fit(X_train, y_train)\n",
    "\n",
    "y_train_pred = gb_clf.predict(X_train)\n",
    "\n",
    "y_test_pred = gb_clf.predict(X_test)"
   ]
  },
  {
   "cell_type": "markdown",
   "id": "2a6b4e7d",
   "metadata": {},
   "source": [
    "###### Metrics for training set"
   ]
  },
  {
   "cell_type": "code",
   "execution_count": 67,
   "id": "31821922",
   "metadata": {},
   "outputs": [
    {
     "name": "stdout",
     "output_type": "stream",
     "text": [
      "Training Set Metrics:\n",
      "Accuracy: 0.9555555555555556\n",
      "Precision: 0.960233918128655\n",
      "Recall: 0.9555555555555556\n",
      "F1-Score: 0.9549382716049383\n"
     ]
    },
    {
     "data": {
      "image/png": "[encoded data removed]",
      "text/plain": [
       "<Figure size 640x480 with 1 Axes>"
      ]
     },
     "metadata": {},
     "output_type": "display_data"
    }
   ],
   "source": [
    "print(\"Training Set Metrics:\")\n",
    "print(\"Accuracy:\", accuracy_score(y_train, y_train_pred))\n",
    "print(\"Precision:\", precision_score(y_train, y_train_pred, average='weighted'))\n",
    "print(\"Recall:\", recall_score(y_train, y_train_pred, average='weighted'))\n",
    "print(\"F1-Score:\", f1_score(y_train, y_train_pred, average='weighted'))\n",
    "\n",
    "cm_test = confusion_matrix(y_train, y_train_pred)\n",
    "sns.heatmap(cm_test, annot=True, cmap='Purples', fmt='g', cbar=False)\n",
    "plt.title('Confusion Matrix - Training set')\n",
    "plt.xlabel('Predicted')\n",
    "plt.ylabel('True')\n",
    "plt.show()"
   ]
  },
  {
   "cell_type": "markdown",
   "id": "9e54f2ef",
   "metadata": {},
   "source": [
    "###### Metrics for test set"
   ]
  },
  {
   "cell_type": "code",
   "execution_count": 68,
   "id": "070f16c5",
   "metadata": {
    "scrolled": true
   },
   "outputs": [
    {
     "name": "stdout",
     "output_type": "stream",
     "text": [
      "\n",
      "Test Set Metrics:\n",
      "Accuracy: 0.75\n",
      "Precision: 0.8571428571428571\n",
      "Recall: 0.75\n",
      "F1-Score: 0.7424242424242425\n"
     ]
    },
    {
     "data": {
      "image/png": "[encoded data removed]",
      "text/plain": [
       "<Figure size 640x480 with 1 Axes>"
      ]
     },
     "metadata": {},
     "output_type": "display_data"
    }
   ],
   "source": [
    "print(\"\\nTest Set Metrics:\")\n",
    "print(\"Accuracy:\", accuracy_score(y_test, y_test_pred))\n",
    "print(\"Precision:\", precision_score(y_test, y_test_pred, average='weighted'))\n",
    "print(\"Recall:\", recall_score(y_test, y_test_pred, average='weighted'))\n",
    "print(\"F1-Score:\", f1_score(y_test, y_test_pred, average='weighted'))\n",
    "\n",
    "cm_test = confusion_matrix(y_test, y_test_pred)\n",
    "sns.heatmap(cm_test, annot=True, cmap='Purples', fmt='g', cbar=False)\n",
    "plt.title('Confusion Matrix - Test set')\n",
    "plt.xlabel('Predicted')\n",
    "plt.ylabel('True')\n",
    "plt.show()"
   ]
  },
  {
   "cell_type": "markdown",
   "id": "34ddc1fd",
   "metadata": {},
   "source": [
    "## Feature importances\n",
    "\n",
    "The Gradient Boosting provides feature importance as the decision tree-based models because it is impractical to visualize at least 100 trees (default) (Müller and Guido, 2017, p.90). \n",
    "\n",
    "The chart below shows which features contribute the most to the model's predictions."
   ]
  },
  {
   "cell_type": "code",
   "execution_count": 69,
   "id": "9c1d1f50",
   "metadata": {
    "scrolled": true
   },
   "outputs": [
    {
     "data": {
      "image/png": "[encoded data removed]",
      "text/plain": [
       "<Figure size 640x480 with 1 Axes>"
      ]
     },
     "metadata": {},
     "output_type": "display_data"
    }
   ],
   "source": [
    "feature_imp = pd.Series(gb_clf.feature_importances_, index=X.columns).sort_values(ascending=False)\n",
    "bar_color = 'purple'\n",
    "plt.barh(feature_imp.index, feature_imp, color=bar_color)\n",
    "plt.xlabel('Feature Importance')\n",
    "plt.ylabel('Features')\n",
    "plt.title('Gradient Boosting Feature Importance')\n",
    "plt.show()"
   ]
  },
  {
   "cell_type": "markdown",
   "id": "6fde0ad4",
   "metadata": {},
   "source": [
    "As we can see on the chart above, the 'Total pore volume' is the feature most relevant to the models' performance, followed by the 'CO2 uptake' and 'BET surface area'."
   ]
  },
  {
   "cell_type": "markdown",
   "id": "97421299",
   "metadata": {},
   "source": [
    "## Evaluation - Gradient Boosting (GB)"
   ]
  },
  {
   "cell_type": "code",
   "execution_count": 70,
   "id": "cfe7d797",
   "metadata": {
    "scrolled": false
   },
   "outputs": [
    {
     "name": "stdout",
     "output_type": "stream",
     "text": [
      "+------------+---------+--------+\n",
      "| 10% test   |   Train |   Test |\n",
      "+============+=========+========+\n",
      "| Accuracy   |       1 |      1 |\n",
      "+------------+---------+--------+\n",
      "| Precision  |       1 |      1 |\n",
      "+------------+---------+--------+\n",
      "| Recall     |       1 |      1 |\n",
      "+------------+---------+--------+\n",
      "| F1 Score   |       1 |      1 |\n",
      "+------------+---------+--------+\n",
      "+------------+---------+--------+\n",
      "| 20% test   |   Train |   Test |\n",
      "+============+=========+========+\n",
      "| Accuracy   |       1 |  0.75  |\n",
      "+------------+---------+--------+\n",
      "| Precision  |       1 |  0.857 |\n",
      "+------------+---------+--------+\n",
      "| Recall     |       1 |  0.75  |\n",
      "+------------+---------+--------+\n",
      "| F1 Score   |       1 |  0.74  |\n",
      "+------------+---------+--------+\n",
      "+------------+---------+--------+\n",
      "| 30% test   |   Train |   Test |\n",
      "+============+=========+========+\n",
      "| Accuracy   |       1 | 0.6666 |\n",
      "+------------+---------+--------+\n",
      "| Precision  |       1 | 0.6879 |\n",
      "+------------+---------+--------+\n",
      "| Recall     |       1 | 0.6666 |\n",
      "+------------+---------+--------+\n",
      "| F1 Score   |       1 | 0.6508 |\n",
      "+------------+---------+--------+\n"
     ]
    },
    {
     "data": {
      "image/png": "[encoded data removed]",
      "text/plain": [
       "<Figure size 640x480 with 1 Axes>"
      ]
     },
     "metadata": {},
     "output_type": "display_data"
    },
    {
     "data": {
      "image/png": "[encoded data removed]",
      "text/plain": [
       "<Figure size 640x480 with 1 Axes>"
      ]
     },
     "metadata": {},
     "output_type": "display_data"
    },
    {
     "data": {
      "image/png": "[encoded data removed]",
      "text/plain": [
       "<Figure size 640x480 with 1 Axes>"
      ]
     },
     "metadata": {},
     "output_type": "display_data"
    }
   ],
   "source": [
    "data = [\n",
    "    [\"Accuracy\", 1.0, 1.0],\n",
    "    [\"Precision\", 1.0, 1.0],\n",
    "    [\"Recall\", 1.0, 1.0],\n",
    "    [\"F1 Score\", 1.0, 1.0],\n",
    "]   \n",
    "headers = [\"10% test\", \"Train\", \"Test\"]\n",
    "\n",
    "data1 = [\n",
    "    [\"Accuracy\", 1.0, 0.75],\n",
    "    [\"Precision\", 1.0, 0.857],\n",
    "    [\"Recall\", 1.0, 0.75],\n",
    "    [\"F1 Score\", 1.0, 0.74],\n",
    "]   \n",
    "headers1 = [\"20% test\", \"Train\", \"Test\"]\n",
    "\n",
    "data2 = [\n",
    "    [\"Accuracy\", 1.0, 0.6666],\n",
    "    [\"Precision\", 1.0, 0.6879],\n",
    "    [\"Recall\", 1.0, 0.6666],\n",
    "    [\"F1 Score\", 1.0, 0.6508],\n",
    "]   \n",
    "headers2 = [\"30% test\", \"Train\", \"Test\"]\n",
    "print(tabulate(data, headers=headers, tablefmt=\"grid\"))\n",
    "print(tabulate(data1, headers=headers1, tablefmt=\"grid\"))\n",
    "print(tabulate(data2, headers=headers2, tablefmt=\"grid\"))\n",
    "\n",
    "def plot_data(data, headers, title):\n",
    "    categories = [row[0] for row in data]\n",
    "    values_train = [row[1] for row in data]\n",
    "    values_test = [row[2] for row in data]\n",
    "\n",
    "    bar_width = 0.35\n",
    "    index = np.arange(len(categories))\n",
    "\n",
    "    fig, ax = plt.subplots()\n",
    "    train_bars = ax.bar(index, values_train, bar_width, label=\"Train\")\n",
    "    test_bars = ax.bar(index + bar_width, values_test, bar_width, label=\"Test\")\n",
    "\n",
    "    ax.set_xlabel(\"Metrics\")\n",
    "    ax.set_ylabel(\"Values\")\n",
    "    ax.set_title(title)\n",
    "    ax.set_xticks(index + bar_width / 2)\n",
    "    ax.set_xticklabels(categories)\n",
    "    ax.legend()\n",
    "\n",
    "    plt.show()\n",
    "\n",
    "plot_data(data, headers, \"GB, 10% test\")\n",
    "plot_data(data1, headers1, \"GB, 20% test\")\n",
    "plot_data(data2, headers2, \"GB, 30% test\")"
   ]
  },
  {
   "cell_type": "markdown",
   "id": "9a0f5b10",
   "metadata": {},
   "source": [
    "The Gradient Boosting presented better performance than the k-NN model; however, the training set is likely to be overfitting because its accuracy is 100%, but when we see the test set, the split of 20% provided better metrics than the other. Thus, I will focus on the 20% test split for hyperparameters adjustment. \n",
    "\n",
    "In the next step, I will adjust hyperparameters like learning_rate that controls how strong each tree makes corrections of the previous trees, as well as the n_estimators and maximum depth that are the main parameters for this model (Müller and Guido, 2017, p.89,91). "
   ]
  },
  {
   "cell_type": "markdown",
   "id": "edcfa2c9",
   "metadata": {},
   "source": [
    "#### Adjusting hyperparameters"
   ]
  },
  {
   "cell_type": "code",
   "execution_count": 71,
   "id": "05b3d746",
   "metadata": {},
   "outputs": [
    {
     "name": "stdout",
     "output_type": "stream",
     "text": [
      "+--------------------------------------------------------------+---------+--------+\n",
      "| max_depth=1, n_estimators=100, learning_rate=0.1, 20% test   |   Train |   Test |\n",
      "+==============================================================+=========+========+\n",
      "| Accuracy                                                     |       1 |   0.67 |\n",
      "+--------------------------------------------------------------+---------+--------+\n",
      "| Precision                                                    |       1 |   0.71 |\n",
      "+--------------------------------------------------------------+---------+--------+\n",
      "| Recall                                                       |       1 |   0.67 |\n",
      "+--------------------------------------------------------------+---------+--------+\n",
      "| F1 Score                                                     |       1 |   0.67 |\n",
      "+--------------------------------------------------------------+---------+--------+\n",
      "+--------------------------------------------------------------+---------+--------+\n",
      "| max_depth=2, n_estimators=100, learning_rate=0.1, 20% test   |   Train |   Test |\n",
      "+==============================================================+=========+========+\n",
      "| Accuracy                                                     |       1 |   0.75 |\n",
      "+--------------------------------------------------------------+---------+--------+\n",
      "| Precision                                                    |       1 |   0.86 |\n",
      "+--------------------------------------------------------------+---------+--------+\n",
      "| Recall                                                       |       1 |   0.75 |\n",
      "+--------------------------------------------------------------+---------+--------+\n",
      "| F1 Score                                                     |       1 |   0.74 |\n",
      "+--------------------------------------------------------------+---------+--------+\n",
      "+--------------------------------------------------------------+---------+--------+\n",
      "| max_depth=3, n_estimators=100, learning_rate=0.1, 20% test   |   Train |   Test |\n",
      "+==============================================================+=========+========+\n",
      "| Accuracy                                                     |       1 |   0.67 |\n",
      "+--------------------------------------------------------------+---------+--------+\n",
      "| Precision                                                    |       1 |   0.78 |\n",
      "+--------------------------------------------------------------+---------+--------+\n",
      "| Recall                                                       |       1 |   0.67 |\n",
      "+--------------------------------------------------------------+---------+--------+\n",
      "| F1 Score                                                     |       1 |   0.67 |\n",
      "+--------------------------------------------------------------+---------+--------+\n",
      "+--------------------------------------------------------------+---------+--------+\n",
      "| max_depth=4, n_estimators=100, learning_rate=0.1, 20% test   |   Train |   Test |\n",
      "+==============================================================+=========+========+\n",
      "| Accuracy                                                     |       1 |   0.75 |\n",
      "+--------------------------------------------------------------+---------+--------+\n",
      "| Precision                                                    |       1 |   0.68 |\n",
      "+--------------------------------------------------------------+---------+--------+\n",
      "| Recall                                                       |       1 |   0.75 |\n",
      "+--------------------------------------------------------------+---------+--------+\n",
      "| F1 Score                                                     |       1 |   0.74 |\n",
      "+--------------------------------------------------------------+---------+--------+\n"
     ]
    }
   ],
   "source": [
    "data = [\n",
    "    [\"Accuracy\", 1.0, 0.67],\n",
    "    [\"Precision\", 1.0, 0.71],\n",
    "    [\"Recall\", 1.0, 0.67],\n",
    "    [\"F1 Score\", 1.0, 0.67],\n",
    "]   \n",
    "headers = [\"max_depth=1, n_estimators=100, learning_rate=0.1, 20% test\", \"Train\", \"Test\"]\n",
    "\n",
    "data1 = [\n",
    "    [\"Accuracy\", 1.0, 0.75],\n",
    "    [\"Precision\", 1.0, 0.86],\n",
    "    [\"Recall\", 1.0, 0.75],\n",
    "    [\"F1 Score\", 1.0, 0.74],\n",
    "]   \n",
    "headers1 = [\"max_depth=2, n_estimators=100, learning_rate=0.1, 20% test\", \"Train\", \"Test\"]\n",
    "\n",
    "data2 = [\n",
    "    [\"Accuracy\", 1.0, 0.67],\n",
    "    [\"Precision\", 1.0, 0.78],\n",
    "    [\"Recall\", 1.0, 0.67],\n",
    "    [\"F1 Score\", 1.0, 0.67],\n",
    "]   \n",
    "headers2 = [\"max_depth=3, n_estimators=100, learning_rate=0.1, 20% test\", \"Train\", \"Test\"]\n",
    "\n",
    "data3 = [\n",
    "    [\"Accuracy\", 1.0, 0.75],\n",
    "    [\"Precision\", 1.0, 0.68],\n",
    "    [\"Recall\", 1.0, 0.75],\n",
    "    [\"F1 Score\", 1.0, 0.74],\n",
    "]   \n",
    "headers3 = [\"max_depth=4, n_estimators=100, learning_rate=0.1, 20% test\", \"Train\", \"Test\"]\n",
    "\n",
    "print(tabulate(data, headers=headers, tablefmt=\"grid\"))\n",
    "print(tabulate(data1, headers=headers1, tablefmt=\"grid\"))\n",
    "print(tabulate(data2, headers=headers2, tablefmt=\"grid\"))\n",
    "print(tabulate(data3, headers=headers3, tablefmt=\"grid\"))\n"
   ]
  },
  {
   "cell_type": "markdown",
   "id": "4b7f16a8",
   "metadata": {},
   "source": [
    "The table above shows that the train set was overfitted for all 'max_depth' tested. However, the minimum 'max_depth=2' achieved the best values for the metrics in the test set, and this information will be used to evaluate if changing the 'learning_rate' will be possible to find better metrics inclusive for the training set."
   ]
  },
  {
   "cell_type": "code",
   "execution_count": 72,
   "id": "a455c1d7",
   "metadata": {},
   "outputs": [
    {
     "name": "stdout",
     "output_type": "stream",
     "text": [
      "+--------------------------------------------------------------+---------+--------+\n",
      "| max_depth=2, n_estimators=100, learning_rate=0.1, 20% test   |   Train |   Test |\n",
      "+==============================================================+=========+========+\n",
      "| Accuracy                                                     |       1 |   0.75 |\n",
      "+--------------------------------------------------------------+---------+--------+\n",
      "| Precision                                                    |       1 |   0.86 |\n",
      "+--------------------------------------------------------------+---------+--------+\n",
      "| Recall                                                       |       1 |   0.75 |\n",
      "+--------------------------------------------------------------+---------+--------+\n",
      "| F1 Score                                                     |       1 |   0.74 |\n",
      "+--------------------------------------------------------------+---------+--------+\n",
      "+---------------------------------------------------------------+---------+--------+\n",
      "| max_depth=2, n_estimators=100, learning_rate=0.01, 20% test   |   Train |   Test |\n",
      "+===============================================================+=========+========+\n",
      "| Accuracy                                                      |    0.95 |   0.75 |\n",
      "+---------------------------------------------------------------+---------+--------+\n",
      "| Precision                                                     |    0.96 |   0.86 |\n",
      "+---------------------------------------------------------------+---------+--------+\n",
      "| Recall                                                        |    0.95 |   0.75 |\n",
      "+---------------------------------------------------------------+---------+--------+\n",
      "| F1 Score                                                      |    0.95 |   0.74 |\n",
      "+---------------------------------------------------------------+---------+--------+\n"
     ]
    },
    {
     "data": {
      "image/png": "[encoded data removed]",
      "text/plain": [
       "<Figure size 640x480 with 1 Axes>"
      ]
     },
     "metadata": {},
     "output_type": "display_data"
    },
    {
     "data": {
      "image/png": "[encoded data removed]",
      "text/plain": [
       "<Figure size 640x480 with 1 Axes>"
      ]
     },
     "metadata": {},
     "output_type": "display_data"
    }
   ],
   "source": [
    "data = [\n",
    "    [\"Accuracy\", 1.0, 0.75],\n",
    "    [\"Precision\", 1.0, 0.86],\n",
    "    [\"Recall\", 1.0, 0.75],\n",
    "    [\"F1 Score\", 1.0, 0.74],\n",
    "]   \n",
    "headers = [\"max_depth=2, n_estimators=100, learning_rate=0.1, 20% test\", \"Train\", \"Test\"]\n",
    "\n",
    "data1 = [\n",
    "    [\"Accuracy\", 0.95, 0.75],\n",
    "    [\"Precision\", 0.96, 0.86],\n",
    "    [\"Recall\", 0.95, 0.75],\n",
    "    [\"F1 Score\", 0.95, 0.74],\n",
    "]   \n",
    "headers1 = [\"max_depth=2, n_estimators=100, learning_rate=0.01, 20% test\", \"Train\", \"Test\"]\n",
    "\n",
    "print(tabulate(data, headers=headers, tablefmt=\"grid\"))\n",
    "print(tabulate(data1, headers=headers1, tablefmt=\"grid\"))\n",
    "\n",
    "def plot_data(data, headers, title):\n",
    "    categories = [row[0] for row in data]\n",
    "    values_train = [row[1] for row in data]\n",
    "    values_test = [row[2] for row in data]\n",
    "\n",
    "    bar_width = 0.35\n",
    "    index = np.arange(len(categories))\n",
    "\n",
    "    fig, ax = plt.subplots()\n",
    "    train_bars = ax.bar(index, values_train, bar_width, label=\"Train\")\n",
    "    test_bars = ax.bar(index + bar_width, values_test, bar_width, label=\"Test\")\n",
    "\n",
    "    ax.set_xlabel(\"Metrics\")\n",
    "    ax.set_ylabel(\"Values\")\n",
    "    ax.set_title(title)\n",
    "    ax.set_xticks(index + bar_width / 2)\n",
    "    ax.set_xticklabels(categories)\n",
    "    ax.legend()\n",
    "\n",
    "    plt.show()\n",
    "\n",
    "plot_data(data, headers, \"max_depth=2, n_estimators=100, learning_rate=0.1, 20% test\")\n",
    "plot_data(data1, headers1, \"max_depth=2, n_estimators=100, learning_rate=0.01, 20% test\")"
   ]
  },
  {
   "cell_type": "markdown",
   "id": "04cd8335",
   "metadata": {},
   "source": [
    "As we can see on the table and charts above the 'learning_rate=0.01' resulted in a model that is can generalize well without overfitting."
   ]
  },
  {
   "cell_type": "markdown",
   "id": "19f852fb",
   "metadata": {},
   "source": [
    "## Models assessment"
   ]
  },
  {
   "cell_type": "markdown",
   "id": "c27ee6cb",
   "metadata": {},
   "source": [
    "Now, I will compare the two models (k-NN and GB), considering the best setting obtained for each one.\n",
    "\n",
    "The chart below shows that despite the trials to improve the k-NN models' performance, it resulted in poorly performance in both training and test sets, meaning that this model is not capable of generalising well because it is underfitting, probability because the model is basic and the amount of data is too small.\n",
    "\n",
    "Regarding the Gradient Boosting, we can see a significant improvement in comparison with k-NN, mainly for the accuracy that increased 17.22% in the training set and 8.33% in the test set. It suggests that this model can generalise well; however, the test set has room for improvement. In addition, the 'Total pore volume'  was the feature that contributed most to the model's predictions, followed by the 'CO2 uptake' and 'BET surface area'."
   ]
  },
  {
   "cell_type": "code",
   "execution_count": 73,
   "id": "54da0a50",
   "metadata": {
    "scrolled": false
   },
   "outputs": [
    {
     "name": "stdout",
     "output_type": "stream",
     "text": [
      "+-----------+--------+------+\n",
      "| Metrics   |   k-NN |   GB |\n",
      "+===========+========+======+\n",
      "| Acc_Tr    | 0.7778 | 0.95 |\n",
      "+-----------+--------+------+\n",
      "| Acc_Te    | 0.6667 | 0.75 |\n",
      "+-----------+--------+------+\n",
      "| Prec_Tr   | 0.7766 | 0.96 |\n",
      "+-----------+--------+------+\n",
      "| Prec_Te   | 0.8889 | 0.86 |\n",
      "+-----------+--------+------+\n",
      "| Rec_Tr    | 0.7778 | 0.95 |\n",
      "+-----------+--------+------+\n",
      "| Rec_Te    | 0.6667 | 0.75 |\n",
      "+-----------+--------+------+\n",
      "| F1_Tr     | 0.7703 | 0.95 |\n",
      "+-----------+--------+------+\n",
      "| F1_Te     | 0.6667 | 0.74 |\n",
      "+-----------+--------+------+\n",
      "k-NN: n_neighbors=3, metric='manhattan', 20% test\n",
      "GB: max_depth=2, n_estimators=100, learning_rate=0.01, 20% test\n"
     ]
    },
    {
     "data": {
      "image/png": "[encoded data removed]",
      "text/plain": [
       "<Figure size 1000x600 with 1 Axes>"
      ]
     },
     "metadata": {},
     "output_type": "display_data"
    }
   ],
   "source": [
    "data = [\n",
    "    [\"Acc_Tr\", 0.7778, 0.95],\n",
    "    [\"Acc_Te\", 0.6667, 0.75],\n",
    "    [\"Prec_Tr\", 0.7766, 0.96],\n",
    "    [\"Prec_Te\", 0.8889, 0.86],\n",
    "    [\"Rec_Tr\", 0.7778, 0.95],\n",
    "    [\"Rec_Te\", 0.6667, 0.75],\n",
    "    [\"F1_Tr\", 0.7703, 0.95],\n",
    "    [\"F1_Te\", 0.6667, 0.74],\n",
    "]\n",
    "headers = [\"Metrics\", \"k-NN\", \"GB\"]\n",
    "print(tabulate(data, headers=headers, tablefmt=\"grid\"))\n",
    "print(\"k-NN: n_neighbors=3, metric='manhattan', 20% test\")\n",
    "print(\"GB: max_depth=2, n_estimators=100, learning_rate=0.01, 20% test\")\n",
    "\n",
    "parameters = [row[0] for row in data]\n",
    "values_kNN = [row[1] for row in data]\n",
    "values_GB = [row[2] for row in data]\n",
    "\n",
    "bar_width = 0.3\n",
    "index = np.arange(len(parameters))\n",
    "figsize = (10,6)\n",
    "plt.figure(figsize=figsize)\n",
    "\n",
    "plt.bar(index, values_kNN, width=bar_width, label=headers[1], color='lightblue')\n",
    "plt.bar(index + bar_width, values_GB, width=bar_width, label=headers[2], color='purple')\n",
    "#plt.bar(index + 2 * bar_width, values_RF_PCA, width=bar_width, label=headers[3])\n",
    "\n",
    "plt.xlabel('Metrics')\n",
    "plt.ylabel('Values')\n",
    "plt.title('Performance of Different Models')\n",
    "plt.xticks(index + bar_width, parameters)\n",
    "plt.legend()\n",
    "plt.show()"
   ]
  },
  {
   "cell_type": "markdown",
   "id": "94965ba9",
   "metadata": {},
   "source": [
    "## Grid Search to Find Optimal Hyperparameters - GB"
   ]
  },
  {
   "cell_type": "code",
   "execution_count": 74,
   "id": "22debebf",
   "metadata": {},
   "outputs": [],
   "source": [
    "from sklearn.model_selection import GridSearchCV\n",
    "param_grid = {\n",
    "    'n_estimators': [100, 150, 200, 1000],\n",
    "    'learning_rate': [0.01, 0.03, 0.05, 0.07, 0.1],\n",
    "    'max_depth': [1, 2, 3, 5, 7, 10, 20],\n",
    "    'min_samples_leaf': [1, 2, 3, 4], \n",
    "    'min_samples_split': [2, 3],\n",
    "    'subsample': [0.1, 0.3, 0.5, 0.8]\n",
    "}\n",
    "# Create a based model\n",
    "gb_clf = GradientBoostingClassifier()\n",
    "# Instantiate the grid search model\n",
    "grid_search = GridSearchCV(estimator = gb_clf, param_grid = param_grid, \n",
    "                          cv = 5, n_jobs = -1,verbose = 1)"
   ]
  },
  {
   "cell_type": "markdown",
   "id": "4191be81",
   "metadata": {},
   "source": [
    "The code below fits the grid search to the data. As running takes a lot of time, I used the # simbol to avoid it.  "
   ]
  },
  {
   "cell_type": "code",
   "execution_count": 75,
   "id": "3aa4df7c",
   "metadata": {
    "scrolled": true
   },
   "outputs": [],
   "source": [
    "#grid_search.fit(X_train, y_train)"
   ]
  },
  {
   "cell_type": "markdown",
   "id": "0c2954ca",
   "metadata": {},
   "source": [
    "Below will print the optimal accuracy score and hyperparameters"
   ]
  },
  {
   "cell_type": "code",
   "execution_count": 76,
   "id": "96744a82",
   "metadata": {},
   "outputs": [],
   "source": [
    "#print('We can get accuracy of',grid_search.best_score_,'using',grid_search.best_params_)"
   ]
  },
  {
   "cell_type": "code",
   "execution_count": 77,
   "id": "ddbd3613",
   "metadata": {},
   "outputs": [
    {
     "data": {
      "text/plain": [
       "((45, 3), (12, 3), (45,), (12,))"
      ]
     },
     "execution_count": 77,
     "metadata": {},
     "output_type": "execute_result"
    }
   ],
   "source": [
    "X_train, X_test, y_train, y_test = train_test_split(X, y, test_size=0.2, random_state=12)\n",
    "\n",
    "X_train.shape, X_test.shape, y_train.shape, y_test.shape"
   ]
  },
  {
   "cell_type": "code",
   "execution_count": 78,
   "id": "b669a865",
   "metadata": {},
   "outputs": [],
   "source": [
    "gb_clf = GradientBoostingClassifier(learning_rate=0.03, max_depth=1, min_samples_leaf=1, min_samples_split=2, n_estimators=150, subsample=0.1, random_state=12)\n",
    "\n",
    "y_train_pred = cross_val_predict(gb_clf, X_train, y_train, cv=5)"
   ]
  },
  {
   "cell_type": "code",
   "execution_count": 79,
   "id": "25ab3d4f",
   "metadata": {},
   "outputs": [],
   "source": [
    "gb_clf.fit(X_train, y_train)\n",
    "\n",
    "y_train_pred = gb_clf.predict(X_train)\n",
    "\n",
    "y_test_pred = gb_clf.predict(X_test)"
   ]
  },
  {
   "cell_type": "code",
   "execution_count": 80,
   "id": "1673132d",
   "metadata": {},
   "outputs": [
    {
     "name": "stdout",
     "output_type": "stream",
     "text": [
      "Training Set Metrics:\n",
      "Accuracy: 0.8\n",
      "Precision: 0.8051851851851852\n",
      "Recall: 0.8\n",
      "F1-Score: 0.7909837289147633\n"
     ]
    },
    {
     "data": {
      "image/png": "[encoded data removed]",
      "text/plain": [
       "<Figure size 640x480 with 1 Axes>"
      ]
     },
     "metadata": {},
     "output_type": "display_data"
    }
   ],
   "source": [
    "print(\"Training Set Metrics:\")\n",
    "print(\"Accuracy:\", accuracy_score(y_train, y_train_pred))\n",
    "print(\"Precision:\", precision_score(y_train, y_train_pred, average='weighted'))\n",
    "print(\"Recall:\", recall_score(y_train, y_train_pred, average='weighted'))\n",
    "print(\"F1-Score:\", f1_score(y_train, y_train_pred, average='weighted'))\n",
    "\n",
    "cm_test = confusion_matrix(y_train, y_train_pred)\n",
    "sns.heatmap(cm_test, annot=True, cmap='Purples', fmt='g', cbar=False)\n",
    "plt.title('Confusion Matrix - Training set')\n",
    "plt.xlabel('Predicted')\n",
    "plt.ylabel('True')\n",
    "plt.show()"
   ]
  },
  {
   "cell_type": "code",
   "execution_count": 81,
   "id": "d3daa6c1",
   "metadata": {},
   "outputs": [
    {
     "name": "stdout",
     "output_type": "stream",
     "text": [
      "\n",
      "Test Set Metrics:\n",
      "Accuracy: 0.8333333333333334\n",
      "Precision: 0.9166666666666666\n",
      "Recall: 0.8333333333333334\n",
      "F1-Score: 0.8333333333333334\n"
     ]
    },
    {
     "data": {
      "image/png": "[encoded data removed]",
      "text/plain": [
       "<Figure size 640x480 with 1 Axes>"
      ]
     },
     "metadata": {},
     "output_type": "display_data"
    }
   ],
   "source": [
    "print(\"\\nTest Set Metrics:\")\n",
    "print(\"Accuracy:\", accuracy_score(y_test, y_test_pred))\n",
    "print(\"Precision:\", precision_score(y_test, y_test_pred, average='weighted'))\n",
    "print(\"Recall:\", recall_score(y_test, y_test_pred, average='weighted'))\n",
    "print(\"F1-Score:\", f1_score(y_test, y_test_pred, average='weighted'))\n",
    "\n",
    "cm_test = confusion_matrix(y_test, y_test_pred)\n",
    "sns.heatmap(cm_test, annot=True, cmap='Purples', fmt='g', cbar=False)\n",
    "plt.title('Confusion Matrix - Test set')\n",
    "plt.xlabel('Predicted')\n",
    "plt.ylabel('True')\n",
    "plt.show()"
   ]
  },
  {
   "cell_type": "code",
   "execution_count": 82,
   "id": "ce78ecf9",
   "metadata": {
    "scrolled": true
   },
   "outputs": [
    {
     "data": {
      "image/png": "[encoded data removed]",
      "text/plain": [
       "<Figure size 640x480 with 1 Axes>"
      ]
     },
     "metadata": {},
     "output_type": "display_data"
    }
   ],
   "source": [
    "feature_imp = pd.Series(gb_clf.feature_importances_, index=X.columns).sort_values(ascending=False)\n",
    "bar_color = 'orange'\n",
    "plt.barh(feature_imp.index, feature_imp, color=bar_color)\n",
    "plt.xlabel('Feature Importance')\n",
    "plt.ylabel('Features')\n",
    "plt.title('Gradient Boosting Feature Importance')\n",
    "plt.show()"
   ]
  },
  {
   "cell_type": "markdown",
   "id": "41aff983",
   "metadata": {},
   "source": [
    "As we can see in the chart above, the hyperparameter adjustments improved inclusively the feature's importance. In this case, CO2 was the main feature that contributed to the model's performance."
   ]
  },
  {
   "cell_type": "markdown",
   "id": "4e8c128f",
   "metadata": {},
   "source": [
    "#### Results of Grid search - GB"
   ]
  },
  {
   "cell_type": "code",
   "execution_count": 83,
   "id": "30d7710f",
   "metadata": {},
   "outputs": [
    {
     "name": "stdout",
     "output_type": "stream",
     "text": [
      "+---------------------+---------+--------+\n",
      "| Metrics, 20% test   |   Train |   Test |\n",
      "+=====================+=========+========+\n",
      "| Accuracy            |   0.8   | 0.833  |\n",
      "+---------------------+---------+--------+\n",
      "| Precision           |   0.805 | 0.916  |\n",
      "+---------------------+---------+--------+\n",
      "| Recall              |   0.8   | 0.833  |\n",
      "+---------------------+---------+--------+\n",
      "| F1 Score            |   0.79  | 0.8333 |\n",
      "+---------------------+---------+--------+\n",
      "Grid Search - GB: learning_rate=0.03, max_depth=1, min_samples_leaf=1, min_samples_split=2, n_estimators=150, subsample=0.1\n"
     ]
    },
    {
     "data": {
      "image/png": "[encoded data removed]",
      "text/plain": [
       "<Figure size 640x480 with 1 Axes>"
      ]
     },
     "metadata": {},
     "output_type": "display_data"
    }
   ],
   "source": [
    "data = [\n",
    "    [\"Accuracy\", 0.8, 0.833],\n",
    "    [\"Precision\", 0.805, 0.916],\n",
    "    [\"Recall\", 0.8, 0.833],\n",
    "    [\"F1 Score\", 0.790, 0.8333],\n",
    "]   \n",
    "headers = [\"Metrics, 20% test\", \"Train\", \"Test\"]\n",
    "\n",
    "print(tabulate(data, headers=headers, tablefmt=\"grid\"))\n",
    "print(\"Grid Search - GB: learning_rate=0.03, max_depth=1, min_samples_leaf=1, min_samples_split=2, n_estimators=150, subsample=0.1\")\n",
    "\n",
    "def plot_data(data, headers, title):\n",
    "    categories = [row[0] for row in data]\n",
    "    values_train = [row[1] for row in data]\n",
    "    values_test = [row[2] for row in data]\n",
    "\n",
    "    bar_width = 0.35\n",
    "    index = np.arange(len(categories))\n",
    "\n",
    "    fig, ax = plt.subplots()\n",
    "    train_bars = ax.bar(index, values_train, bar_width, label=\"Train\")\n",
    "    test_bars = ax.bar(index + bar_width, values_test, bar_width, label=\"Test\")\n",
    "\n",
    "    ax.set_xlabel(\"Metrics\")\n",
    "    ax.set_ylabel(\"Values\")\n",
    "    ax.set_title(title)\n",
    "    ax.set_xticks(index + bar_width / 2)\n",
    "    ax.set_xticklabels(categories)\n",
    "    ax.legend(loc='lower left')\n",
    "\n",
    "    plt.show()\n",
    "\n",
    "plot_data(data, headers, \"Grid Search - GB: learning_rate=0.03, max_depth=1, min_samples_leaf=1, min_samples_split=2, n_estimators=150, subsample=0.1, 20% test\")"
   ]
  },
  {
   "cell_type": "markdown",
   "id": "cddddfed",
   "metadata": {},
   "source": [
    "## Gradient Boosting - SMOTE "
   ]
  },
  {
   "cell_type": "code",
   "execution_count": 84,
   "id": "5245efca",
   "metadata": {},
   "outputs": [],
   "source": [
    "from imblearn.over_sampling import SMOTE"
   ]
  },
  {
   "cell_type": "code",
   "execution_count": 85,
   "id": "2948c448",
   "metadata": {},
   "outputs": [
    {
     "data": {
      "text/plain": [
       "((45, 3), (12, 3), (45,), (12,))"
      ]
     },
     "execution_count": 85,
     "metadata": {},
     "output_type": "execute_result"
    }
   ],
   "source": [
    "X_train, X_test, y_train, y_test = train_test_split(X, y, test_size=0.2, random_state=56)\n",
    "X_train.shape, X_test.shape, y_train.shape, y_test.shape"
   ]
  },
  {
   "cell_type": "markdown",
   "id": "e2a50679",
   "metadata": {},
   "source": [
    "I am Applying SMOTE to the training set only. If I apply it to the entire dataset, it will result in an overfit of the negative class, which will generate excellent metrics but not in accordance with the real dataset."
   ]
  },
  {
   "cell_type": "code",
   "execution_count": 86,
   "id": "5a051c8a",
   "metadata": {},
   "outputs": [
    {
     "data": {
      "text/plain": [
       "((48, 3), (48,))"
      ]
     },
     "execution_count": 86,
     "metadata": {},
     "output_type": "execute_result"
    }
   ],
   "source": [
    "smote = SMOTE(random_state=42)\n",
    "X_train_resampled, y_train_resampled = smote.fit_resample(X_train, y_train)\n",
    "X_train_resampled.shape, y_train_resampled.shape"
   ]
  },
  {
   "cell_type": "markdown",
   "id": "f8fc280e",
   "metadata": {},
   "source": [
    "I will use the code below to call the Gradient Boosting Classifier with the data balanced (SMOTE), and then I will train the model using the training sets and make predictions on the test set."
   ]
  },
  {
   "cell_type": "code",
   "execution_count": 87,
   "id": "27b62e77",
   "metadata": {},
   "outputs": [],
   "source": [
    "gb_clf_smote = GradientBoostingClassifier(learning_rate=0.03, max_depth=1, min_samples_leaf=1, min_samples_split=2, n_estimators=150, subsample=0.1, random_state=12)\n",
    "\n",
    "y_train_pred = cross_val_predict(gb_clf_smote, X_train_resampled, y_train_resampled, cv=5)"
   ]
  },
  {
   "cell_type": "code",
   "execution_count": 88,
   "id": "0032ecb2",
   "metadata": {
    "scrolled": true
   },
   "outputs": [
    {
     "data": {
      "text/html": [
       "<style>#sk-container-id-2 {color: black;}#sk-container-id-2 pre{padding: 0;}#sk-container-id-2 div.sk-toggleable {background-color: white;}#sk-container-id-2 label.sk-toggleable__label {cursor: pointer;display: block;width: 100%;margin-bottom: 0;padding: 0.3em;box-sizing: border-box;text-align: center;}#sk-container-id-2 label.sk-toggleable__label-arrow:before {content: \"▸\";float: left;margin-right: 0.25em;color: #696969;}#sk-container-id-2 label.sk-toggleable__label-arrow:hover:before {color: black;}#sk-container-id-2 div.sk-estimator:hover label.sk-toggleable__label-arrow:before {color: black;}#sk-container-id-2 div.sk-toggleable__content {max-height: 0;max-width: 0;overflow: hidden;text-align: left;background-color: #f0f8ff;}#sk-container-id-2 div.sk-toggleable__content pre {margin: 0.2em;color: black;border-radius: 0.25em;background-color: #f0f8ff;}#sk-container-id-2 input.sk-toggleable__control:checked~div.sk-toggleable__content {max-height: 200px;max-width: 100%;overflow: auto;}#sk-container-id-2 input.sk-toggleable__control:checked~label.sk-toggleable__label-arrow:before {content: \"▾\";}#sk-container-id-2 div.sk-estimator input.sk-toggleable__control:checked~label.sk-toggleable__label {background-color: #d4ebff;}#sk-container-id-2 div.sk-label input.sk-toggleable__control:checked~label.sk-toggleable__label {background-color: #d4ebff;}#sk-container-id-2 input.sk-hidden--visually {border: 0;clip: rect(1px 1px 1px 1px);clip: rect(1px, 1px, 1px, 1px);height: 1px;margin: -1px;overflow: hidden;padding: 0;position: absolute;width: 1px;}#sk-container-id-2 div.sk-estimator {font-family: monospace;background-color: #f0f8ff;border: 1px dotted black;border-radius: 0.25em;box-sizing: border-box;margin-bottom: 0.5em;}#sk-container-id-2 div.sk-estimator:hover {background-color: #d4ebff;}#sk-container-id-2 div.sk-parallel-item::after {content: \"\";width: 100%;border-bottom: 1px solid gray;flex-grow: 1;}#sk-container-id-2 div.sk-label:hover label.sk-toggleable__label {background-color: #d4ebff;}#sk-container-id-2 div.sk-serial::before {content: \"\";position: absolute;border-left: 1px solid gray;box-sizing: border-box;top: 0;bottom: 0;left: 50%;z-index: 0;}#sk-container-id-2 div.sk-serial {display: flex;flex-direction: column;align-items: center;background-color: white;padding-right: 0.2em;padding-left: 0.2em;position: relative;}#sk-container-id-2 div.sk-item {position: relative;z-index: 1;}#sk-container-id-2 div.sk-parallel {display: flex;align-items: stretch;justify-content: center;background-color: white;position: relative;}#sk-container-id-2 div.sk-item::before, #sk-container-id-2 div.sk-parallel-item::before {content: \"\";position: absolute;border-left: 1px solid gray;box-sizing: border-box;top: 0;bottom: 0;left: 50%;z-index: -1;}#sk-container-id-2 div.sk-parallel-item {display: flex;flex-direction: column;z-index: 1;position: relative;background-color: white;}#sk-container-id-2 div.sk-parallel-item:first-child::after {align-self: flex-end;width: 50%;}#sk-container-id-2 div.sk-parallel-item:last-child::after {align-self: flex-start;width: 50%;}#sk-container-id-2 div.sk-parallel-item:only-child::after {width: 0;}#sk-container-id-2 div.sk-dashed-wrapped {border: 1px dashed gray;margin: 0 0.4em 0.5em 0.4em;box-sizing: border-box;padding-bottom: 0.4em;background-color: white;}#sk-container-id-2 div.sk-label label {font-family: monospace;font-weight: bold;display: inline-block;line-height: 1.2em;}#sk-container-id-2 div.sk-label-container {text-align: center;}#sk-container-id-2 div.sk-container {/* jupyter's `normalize.less` sets `[hidden] { display: none; }` but bootstrap.min.css set `[hidden] { display: none !important; }` so we also need the `!important` here to be able to override the default hidden behavior on the sphinx rendered scikit-learn.org. See: https://github.com/scikit-learn/scikit-learn/issues/21755 */display: inline-block !important;position: relative;}#sk-container-id-2 div.sk-text-repr-fallback {display: none;}</style><div id=\"sk-container-id-2\" class=\"sk-top-container\"><div class=\"sk-text-repr-fallback\"><pre>GradientBoostingClassifier(learning_rate=0.03, max_depth=1, n_estimators=150,\n",
       "                           random_state=12, subsample=0.1)</pre><b>In a Jupyter environment, please rerun this cell to show the HTML representation or trust the notebook. <br />On GitHub, the HTML representation is unable to render, please try loading this page with nbviewer.org.</b></div><div class=\"sk-container\" hidden><div class=\"sk-item\"><div class=\"sk-estimator sk-toggleable\"><input class=\"sk-toggleable__control sk-hidden--visually\" id=\"sk-estimator-id-2\" type=\"checkbox\" checked><label for=\"sk-estimator-id-2\" class=\"sk-toggleable__label sk-toggleable__label-arrow\">GradientBoostingClassifier</label><div class=\"sk-toggleable__content\"><pre>GradientBoostingClassifier(learning_rate=0.03, max_depth=1, n_estimators=150,\n",
       "                           random_state=12, subsample=0.1)</pre></div></div></div></div></div>"
      ],
      "text/plain": [
       "GradientBoostingClassifier(learning_rate=0.03, max_depth=1, n_estimators=150,\n",
       "                           random_state=12, subsample=0.1)"
      ]
     },
     "execution_count": 88,
     "metadata": {},
     "output_type": "execute_result"
    }
   ],
   "source": [
    "gb_clf_smote.fit(X_train_resampled, y_train_resampled)"
   ]
  },
  {
   "cell_type": "markdown",
   "id": "f174e61c",
   "metadata": {},
   "source": [
    "Making predictions on the test set."
   ]
  },
  {
   "cell_type": "code",
   "execution_count": 89,
   "id": "9c6e60cb",
   "metadata": {},
   "outputs": [],
   "source": [
    "y_pred_smote = gb_clf_smote.predict(X_test)"
   ]
  },
  {
   "cell_type": "markdown",
   "id": "bd1785c0",
   "metadata": {},
   "source": [
    "Making predictions on the training set."
   ]
  },
  {
   "cell_type": "code",
   "execution_count": 90,
   "id": "42c11018",
   "metadata": {},
   "outputs": [],
   "source": [
    "y_train_pred_smote = gb_clf_smote.predict(X_train_resampled)"
   ]
  },
  {
   "cell_type": "markdown",
   "id": "24a8487c",
   "metadata": {},
   "source": [
    "####  Training Set Metrics  - SMOTE - GB"
   ]
  },
  {
   "cell_type": "code",
   "execution_count": 91,
   "id": "b64028d0",
   "metadata": {},
   "outputs": [
    {
     "name": "stdout",
     "output_type": "stream",
     "text": [
      "Training Set Metrics:\n",
      "Accuracy: 0.8958333333333334\n",
      "Precision: 0.9008940620782727\n",
      "Recall: 0.8958333333333334\n",
      "F1-Score: 0.8931239737274219\n"
     ]
    }
   ],
   "source": [
    "print(\"Training Set Metrics:\")\n",
    "print(\"Accuracy:\", accuracy_score(y_train_resampled, y_train_pred_smote))\n",
    "print(\"Precision:\", precision_score(y_train_resampled, y_train_pred_smote, average='weighted'))\n",
    "print(\"Recall:\", recall_score(y_train_resampled, y_train_pred_smote, average='weighted'))\n",
    "print(\"F1-Score:\", f1_score(y_train_resampled, y_train_pred_smote, average='weighted'))"
   ]
  },
  {
   "cell_type": "markdown",
   "id": "8b2cf75f",
   "metadata": {},
   "source": [
    "####  Test Set Metrics  - SMOTE - GB"
   ]
  },
  {
   "cell_type": "code",
   "execution_count": 92,
   "id": "ce78d17c",
   "metadata": {},
   "outputs": [
    {
     "name": "stdout",
     "output_type": "stream",
     "text": [
      "\n",
      "Test Set Metrics:\n",
      "Accuracy: 0.92\n",
      "precision: 0.93\n",
      "recall: 0.92\n",
      "F1 Score: 0.92\n"
     ]
    }
   ],
   "source": [
    "from sklearn import metrics\n",
    "print(\"\\nTest Set Metrics:\")\n",
    "print( \"Accuracy: {:.2f}\".format(metrics.accuracy_score(y_test, y_pred_smote)) )\n",
    "print( \"precision: {:.2f}\".format(metrics.precision_score(y_test, y_pred_smote, average='weighted')) )\n",
    "print( \"recall: {:.2f}\".format(metrics.recall_score(y_test, y_pred_smote, average='weighted')) )\n",
    "print( \"F1 Score: {:.2f}\".format(metrics.f1_score(y_test, y_pred_smote, average='weighted')) )"
   ]
  },
  {
   "cell_type": "markdown",
   "id": "d19b6c17",
   "metadata": {},
   "source": [
    "####  Accuracy - SMOTE - GB - train and test "
   ]
  },
  {
   "cell_type": "code",
   "execution_count": 93,
   "id": "fef613db",
   "metadata": {},
   "outputs": [
    {
     "name": "stdout",
     "output_type": "stream",
     "text": [
      "Training Accuracy : 0.8888888888888888\n",
      "Testing Accuracy : 0.9166666666666666\n"
     ]
    }
   ],
   "source": [
    "print(\"Training Accuracy :\", gb_clf_smote.score(X_train, y_train))\n",
    "print(\"Testing Accuracy :\", gb_clf_smote.score(X_test, y_test))"
   ]
  },
  {
   "cell_type": "markdown",
   "id": "c90de2b4",
   "metadata": {},
   "source": [
    "####  Feature Importance - SMOTE - GB"
   ]
  },
  {
   "cell_type": "code",
   "execution_count": 94,
   "id": "1609f06f",
   "metadata": {},
   "outputs": [
    {
     "data": {
      "image/png": "[encoded data removed]",
      "text/plain": [
       "<Figure size 640x480 with 1 Axes>"
      ]
     },
     "metadata": {},
     "output_type": "display_data"
    }
   ],
   "source": [
    "feature_imp = pd.Series(gb_clf_smote.feature_importances_, index=X.columns).sort_values(ascending=False)\n",
    "bar_color = 'green'\n",
    "plt.barh(feature_imp.index, feature_imp, color=bar_color)\n",
    "plt.xlabel('Feature Importance')\n",
    "plt.ylabel('Features')\n",
    "plt.title('Feature Importance - SMOTE - GB')\n",
    "plt.show()"
   ]
  },
  {
   "cell_type": "code",
   "execution_count": 95,
   "id": "22443221",
   "metadata": {
    "scrolled": true
   },
   "outputs": [
    {
     "data": {
      "text/plain": [
       "Text(50.72222222222221, 0.5, 'Actual')"
      ]
     },
     "execution_count": 95,
     "metadata": {},
     "output_type": "execute_result"
    },
    {
     "data": {
      "image/png": "[encoded data removed]",
      "text/plain": [
       "<Figure size 640x480 with 2 Axes>"
      ]
     },
     "metadata": {},
     "output_type": "display_data"
    }
   ],
   "source": [
    "cm = confusion_matrix(y_test, y_pred_smote)\n",
    "sns.heatmap(cm, annot=True)\n",
    "ax = sns.heatmap(cm, annot=True,                  \n",
    "                 xticklabels=['Activated Carbon', 'MOFs', 'Polymers'],                \n",
    "                 yticklabels=['Activated Carbon', 'MOFs', 'Polymers'],                  \n",
    "                 cbar=False)\n",
    "ax.set_xlabel(\"Prediction\")\n",
    "ax.set_ylabel(\"Actual\")"
   ]
  },
  {
   "cell_type": "code",
   "execution_count": 96,
   "id": "7d312a88",
   "metadata": {},
   "outputs": [
    {
     "name": "stdout",
     "output_type": "stream",
     "text": [
      "+--------------------+---------+--------+\n",
      "| Metrics, 20%test   |   Train |   Test |\n",
      "+====================+=========+========+\n",
      "| Accuracy           |   0.895 |   0.92 |\n",
      "+--------------------+---------+--------+\n",
      "| Precision          |   0.9   |   0.93 |\n",
      "+--------------------+---------+--------+\n",
      "| Recall             |   0.895 |   0.92 |\n",
      "+--------------------+---------+--------+\n",
      "| F1 Score           |   0.893 |   0.92 |\n",
      "+--------------------+---------+--------+\n",
      "Grid Search - GB: learning_rate=0.03, max_depth=1, min_samples_leaf=1, min_samples_split=2, n_estimators=150, subsample=0.1\n"
     ]
    },
    {
     "data": {
      "image/png": "[encoded data removed]",
      "text/plain": [
       "<Figure size 640x480 with 1 Axes>"
      ]
     },
     "metadata": {},
     "output_type": "display_data"
    }
   ],
   "source": [
    "data = [\n",
    "    [\"Accuracy\", 0.895, 0.92],\n",
    "    [\"Precision\", 0.900, 0.93],\n",
    "    [\"Recall\", 0.895, 0.92],\n",
    "    [\"F1 Score\", 0.893, 0.92],\n",
    "]   \n",
    "headers = [\"Metrics, 20%test\", \"Train\", \"Test\"]\n",
    "\n",
    "print(tabulate(data, headers=headers, tablefmt=\"grid\"))\n",
    "print(\"Grid Search - GB: learning_rate=0.03, max_depth=1, min_samples_leaf=1, min_samples_split=2, n_estimators=150, subsample=0.1\")\n",
    "\n",
    "def plot_data(data, headers, title):\n",
    "    categories = [row[0] for row in data]\n",
    "    values_train = [row[1] for row in data]\n",
    "    values_test = [row[2] for row in data]\n",
    "\n",
    "    bar_width = 0.4\n",
    "    index = np.arange(len(categories))\n",
    "\n",
    "    fig, ax = plt.subplots()\n",
    "    train_bars = ax.bar(index, values_train, bar_width, color=\"lightgreen\", label=\"Train\")\n",
    "    test_bars = ax.bar(index + bar_width, values_test, bar_width, color=\"green\", label=\"Test\")\n",
    "\n",
    "    ax.set_xlabel(\"Metrics\")\n",
    "    ax.set_ylabel(\"Value\")\n",
    "    ax.set_title(title)\n",
    "    ax.set_xticks(index + bar_width / 2)\n",
    "    ax.set_xticklabels(categories)\n",
    "    ax.legend(loc='lower left')\n",
    "\n",
    "plot_data(data, headers, \"Grid Search - GB: learning_rate=0.03, max_depth=1, min_samples_leaf=1, min_samples_split=2, n_estimators=150, subsample=0.1, 20% test\")"
   ]
  },
  {
   "cell_type": "markdown",
   "id": "d37ef334",
   "metadata": {},
   "source": [
    "## Conclusion\n",
    "\n",
    "I found that the Gradient Boosting performed better than k-NN using the SMOTE and under these conditions (learning_rate=0.03, max_depth=1, min_samples_leaf=1, min_samples_split=2, n_estimators=150, subsample=0.1, 20% test) including cross-validation and I also used to Grid Search that gave the optimal hyperparameters.\n",
    "\n",
    "I achieved a training accuracy (0.89) lower than the testing accuracy (0.92), suggesting that the model does not overfit the training data, which is a good sign, and similar results were encountered in the other metrics that can corroborate it. In other words, they present the ability to correctly identify positive instances, which is essential in the present model because the objective is to predict the correct material given a specific CO2 value. The test set can also generalize well unseen data. However, it will be necessary to increase the sample size, mainly to enhance the confiability of the results. "
   ]
  },
  {
   "cell_type": "markdown",
   "id": "30b5472c",
   "metadata": {},
   "source": [
    "## Reference"
   ]
  },
  {
   "cell_type": "markdown",
   "id": "d0752c4c",
   "metadata": {},
   "source": [
    "Chawla, N.V. (2009). Data Mining for Imbalanced Datasets: An Overview. In: Data Mining and Knowledge Discovery Handbook. [online] pp.875–886. doi:https://doi.org/10.1007/978-0-387-09823-4_45.\n",
    "\n",
    "Devore, J.L. (2012). Probability and Statistics for Engineering and the Sciences. 8th ed. Boston, MA: Brooks/Cole Pub Co.\n",
    "\n",
    "Dziejarski, B., Serafin, J., Andersson, K. and Krzyżyńska, R. (2023). CO2 capture materials: a review of current trends and future challenges. Materials Today Sustainability, 24, p.100483. doi:https://doi.org/10.1016/j.mtsust.2023.100483.\n",
    "\n",
    "Müller, A. C. and Guido, S. (2017). *Introduction to machine learning with Python: a guide for data scientists*. 1st ed. United States of America. O’reilly Media.\n",
    "\n",
    "scikit-learn. (n.d.). sklearn.preprocessing.RobustScaler. [online] Available at: https://scikit-learn.org/stable/modules/generated/sklearn.preprocessing.RobustScaler.html#sklearn.preprocessing.RobustScaler [Accessed 2 Dec. 2023]."
   ]
  }
 ],
 "metadata": {
  "kernelspec": {
   "display_name": "Python 3 (ipykernel)",
   "language": "python",
   "name": "python3"
  },
  "language_info": {
   "codemirror_mode": {
    "name": "ipython",
    "version": 3
   },
   "file_extension": ".py",
   "mimetype": "text/x-python",
   "name": "python",
   "nbconvert_exporter": "python",
   "pygments_lexer": "ipython3",
   "version": "3.11.4"
  }
 },
 "nbformat": 4,
 "nbformat_minor": 5
}
